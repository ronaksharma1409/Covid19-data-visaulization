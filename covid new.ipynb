{
 "cells": [
  {
   "cell_type": "code",
   "execution_count": 3,
   "metadata": {},
   "outputs": [],
   "source": [
    "import pandas as pd\n",
    "import numpy as np\n",
    "import matplotlib.pyplot as plt\n",
    "from matplotlib import style\n",
    "style.use('ggplot')\n",
    "%matplotlib inline\n",
    "\n",
    "import chart_studio.plotly as py\n",
    "import plotly.express as px\n",
    "\n",
    "import plotly.graph_objects as go \n",
    "plt.rcParams['figure.figsize']=17,8\n",
    "\n",
    "import cufflinks as cf\n",
    "import plotly.offline as pyo\n",
    "from plotly.offline import init_notebook_mode,plot,iplot,download_plotlyjs\n",
    "\n",
    "import folium \n",
    "\n",
    "import warnings\n",
    "warnings.filterwarnings('ignore')\n",
    "import requests\n",
    "\n",
    "import json"
   ]
  },
  {
   "cell_type": "code",
   "execution_count": 4,
   "metadata": {},
   "outputs": [
    {
     "data": {
      "text/html": [
       "        <script type=\"text/javascript\">\n",
       "        window.PlotlyConfig = {MathJaxConfig: 'local'};\n",
       "        if (window.MathJax) {MathJax.Hub.Config({SVG: {font: \"STIX-Web\"}});}\n",
       "        if (typeof require !== 'undefined') {\n",
       "        require.undef(\"plotly\");\n",
       "        requirejs.config({\n",
       "            paths: {\n",
       "                'plotly': ['https://cdn.plot.ly/plotly-latest.min']\n",
       "            }\n",
       "        });\n",
       "        require(['plotly'], function(Plotly) {\n",
       "            window._Plotly = Plotly;\n",
       "        });\n",
       "        }\n",
       "        </script>\n",
       "        "
      ]
     },
     "metadata": {},
     "output_type": "display_data"
    },
    {
     "data": {
      "text/html": [
       "        <script type=\"text/javascript\">\n",
       "        window.PlotlyConfig = {MathJaxConfig: 'local'};\n",
       "        if (window.MathJax) {MathJax.Hub.Config({SVG: {font: \"STIX-Web\"}});}\n",
       "        if (typeof require !== 'undefined') {\n",
       "        require.undef(\"plotly\");\n",
       "        requirejs.config({\n",
       "            paths: {\n",
       "                'plotly': ['https://cdn.plot.ly/plotly-latest.min']\n",
       "            }\n",
       "        });\n",
       "        require(['plotly'], function(Plotly) {\n",
       "            window._Plotly = Plotly;\n",
       "        });\n",
       "        }\n",
       "        </script>\n",
       "        "
      ]
     },
     "metadata": {},
     "output_type": "display_data"
    }
   ],
   "source": [
    "pyo.init_notebook_mode(connected=True)\n",
    "cf.go_offline()"
   ]
  },
  {
   "cell_type": "code",
   "execution_count": 6,
   "metadata": {},
   "outputs": [],
   "source": [
    "r = requests.get(\"https://api.covid19api.com/summary\")\n",
    "data = json.loads(r.text)\n",
    "json_data = json.dumps(data['Countries'])"
   ]
  },
  {
   "cell_type": "code",
   "execution_count": 8,
   "metadata": {},
   "outputs": [
    {
     "data": {
      "text/html": [
       "<div>\n",
       "<style scoped>\n",
       "    .dataframe tbody tr th:only-of-type {\n",
       "        vertical-align: middle;\n",
       "    }\n",
       "\n",
       "    .dataframe tbody tr th {\n",
       "        vertical-align: top;\n",
       "    }\n",
       "\n",
       "    .dataframe thead th {\n",
       "        text-align: right;\n",
       "    }\n",
       "</style>\n",
       "<table border=\"1\" class=\"dataframe\">\n",
       "  <thead>\n",
       "    <tr style=\"text-align: right;\">\n",
       "      <th></th>\n",
       "      <th>Country</th>\n",
       "      <th>CountryCode</th>\n",
       "      <th>Slug</th>\n",
       "      <th>NewConfirmed</th>\n",
       "      <th>TotalConfirmed</th>\n",
       "      <th>NewDeaths</th>\n",
       "      <th>TotalDeaths</th>\n",
       "      <th>NewRecovered</th>\n",
       "      <th>TotalRecovered</th>\n",
       "      <th>Date</th>\n",
       "    </tr>\n",
       "  </thead>\n",
       "  <tbody>\n",
       "    <tr>\n",
       "      <th>0</th>\n",
       "      <td>Afghanistan</td>\n",
       "      <td>AF</td>\n",
       "      <td>afghanistan</td>\n",
       "      <td>276</td>\n",
       "      <td>4963</td>\n",
       "      <td>5</td>\n",
       "      <td>127</td>\n",
       "      <td>52</td>\n",
       "      <td>610</td>\n",
       "      <td>2020-05-13 20:24:25+00:00</td>\n",
       "    </tr>\n",
       "    <tr>\n",
       "      <th>1</th>\n",
       "      <td>Albania</td>\n",
       "      <td>AL</td>\n",
       "      <td>albania</td>\n",
       "      <td>4</td>\n",
       "      <td>876</td>\n",
       "      <td>0</td>\n",
       "      <td>31</td>\n",
       "      <td>28</td>\n",
       "      <td>682</td>\n",
       "      <td>2020-05-13 20:24:25+00:00</td>\n",
       "    </tr>\n",
       "    <tr>\n",
       "      <th>2</th>\n",
       "      <td>Algeria</td>\n",
       "      <td>DZ</td>\n",
       "      <td>algeria</td>\n",
       "      <td>176</td>\n",
       "      <td>6067</td>\n",
       "      <td>8</td>\n",
       "      <td>515</td>\n",
       "      <td>157</td>\n",
       "      <td>2998</td>\n",
       "      <td>2020-05-13 20:24:25+00:00</td>\n",
       "    </tr>\n",
       "    <tr>\n",
       "      <th>3</th>\n",
       "      <td>Andorra</td>\n",
       "      <td>AD</td>\n",
       "      <td>andorra</td>\n",
       "      <td>3</td>\n",
       "      <td>758</td>\n",
       "      <td>0</td>\n",
       "      <td>48</td>\n",
       "      <td>18</td>\n",
       "      <td>568</td>\n",
       "      <td>2020-05-13 20:24:25+00:00</td>\n",
       "    </tr>\n",
       "    <tr>\n",
       "      <th>4</th>\n",
       "      <td>Angola</td>\n",
       "      <td>AO</td>\n",
       "      <td>angola</td>\n",
       "      <td>0</td>\n",
       "      <td>45</td>\n",
       "      <td>0</td>\n",
       "      <td>2</td>\n",
       "      <td>0</td>\n",
       "      <td>13</td>\n",
       "      <td>2020-05-13 20:24:25+00:00</td>\n",
       "    </tr>\n",
       "    <tr>\n",
       "      <th>...</th>\n",
       "      <td>...</td>\n",
       "      <td>...</td>\n",
       "      <td>...</td>\n",
       "      <td>...</td>\n",
       "      <td>...</td>\n",
       "      <td>...</td>\n",
       "      <td>...</td>\n",
       "      <td>...</td>\n",
       "      <td>...</td>\n",
       "      <td>...</td>\n",
       "    </tr>\n",
       "    <tr>\n",
       "      <th>180</th>\n",
       "      <td>Viet Nam</td>\n",
       "      <td>VN</td>\n",
       "      <td>vietnam</td>\n",
       "      <td>0</td>\n",
       "      <td>288</td>\n",
       "      <td>0</td>\n",
       "      <td>0</td>\n",
       "      <td>3</td>\n",
       "      <td>252</td>\n",
       "      <td>2020-05-13 20:24:25+00:00</td>\n",
       "    </tr>\n",
       "    <tr>\n",
       "      <th>181</th>\n",
       "      <td>Western Sahara</td>\n",
       "      <td>EH</td>\n",
       "      <td>western-sahara</td>\n",
       "      <td>0</td>\n",
       "      <td>6</td>\n",
       "      <td>0</td>\n",
       "      <td>0</td>\n",
       "      <td>0</td>\n",
       "      <td>6</td>\n",
       "      <td>2020-05-13 20:24:25+00:00</td>\n",
       "    </tr>\n",
       "    <tr>\n",
       "      <th>182</th>\n",
       "      <td>Yemen</td>\n",
       "      <td>YE</td>\n",
       "      <td>yemen</td>\n",
       "      <td>9</td>\n",
       "      <td>65</td>\n",
       "      <td>1</td>\n",
       "      <td>10</td>\n",
       "      <td>0</td>\n",
       "      <td>1</td>\n",
       "      <td>2020-05-13 20:24:25+00:00</td>\n",
       "    </tr>\n",
       "    <tr>\n",
       "      <th>183</th>\n",
       "      <td>Zambia</td>\n",
       "      <td>ZM</td>\n",
       "      <td>zambia</td>\n",
       "      <td>174</td>\n",
       "      <td>441</td>\n",
       "      <td>0</td>\n",
       "      <td>7</td>\n",
       "      <td>0</td>\n",
       "      <td>117</td>\n",
       "      <td>2020-05-13 20:24:25+00:00</td>\n",
       "    </tr>\n",
       "    <tr>\n",
       "      <th>184</th>\n",
       "      <td>Zimbabwe</td>\n",
       "      <td>ZW</td>\n",
       "      <td>zimbabwe</td>\n",
       "      <td>0</td>\n",
       "      <td>36</td>\n",
       "      <td>0</td>\n",
       "      <td>4</td>\n",
       "      <td>0</td>\n",
       "      <td>9</td>\n",
       "      <td>2020-05-13 20:24:25+00:00</td>\n",
       "    </tr>\n",
       "  </tbody>\n",
       "</table>\n",
       "<p>185 rows × 10 columns</p>\n",
       "</div>"
      ],
      "text/plain": [
       "            Country CountryCode            Slug  NewConfirmed  TotalConfirmed  \\\n",
       "0       Afghanistan          AF     afghanistan           276            4963   \n",
       "1           Albania          AL         albania             4             876   \n",
       "2           Algeria          DZ         algeria           176            6067   \n",
       "3           Andorra          AD         andorra             3             758   \n",
       "4            Angola          AO          angola             0              45   \n",
       "..              ...         ...             ...           ...             ...   \n",
       "180        Viet Nam          VN         vietnam             0             288   \n",
       "181  Western Sahara          EH  western-sahara             0               6   \n",
       "182           Yemen          YE           yemen             9              65   \n",
       "183          Zambia          ZM          zambia           174             441   \n",
       "184        Zimbabwe          ZW        zimbabwe             0              36   \n",
       "\n",
       "     NewDeaths  TotalDeaths  NewRecovered  TotalRecovered  \\\n",
       "0            5          127            52             610   \n",
       "1            0           31            28             682   \n",
       "2            8          515           157            2998   \n",
       "3            0           48            18             568   \n",
       "4            0            2             0              13   \n",
       "..         ...          ...           ...             ...   \n",
       "180          0            0             3             252   \n",
       "181          0            0             0               6   \n",
       "182          1           10             0               1   \n",
       "183          0            7             0             117   \n",
       "184          0            4             0               9   \n",
       "\n",
       "                         Date  \n",
       "0   2020-05-13 20:24:25+00:00  \n",
       "1   2020-05-13 20:24:25+00:00  \n",
       "2   2020-05-13 20:24:25+00:00  \n",
       "3   2020-05-13 20:24:25+00:00  \n",
       "4   2020-05-13 20:24:25+00:00  \n",
       "..                        ...  \n",
       "180 2020-05-13 20:24:25+00:00  \n",
       "181 2020-05-13 20:24:25+00:00  \n",
       "182 2020-05-13 20:24:25+00:00  \n",
       "183 2020-05-13 20:24:25+00:00  \n",
       "184 2020-05-13 20:24:25+00:00  \n",
       "\n",
       "[185 rows x 10 columns]"
      ]
     },
     "execution_count": 8,
     "metadata": {},
     "output_type": "execute_result"
    }
   ],
   "source": [
    "covid_world=pd.read_json(json_data, orient='records')\n",
    "covid_world\n",
    "#covid_world.iplot(kind='bar',x='Country',y='TotalConfirmed')"
   ]
  },
  {
   "cell_type": "code",
   "execution_count": 61,
   "metadata": {
    "scrolled": true
   },
   "outputs": [],
   "source": [
    "#fig=px.density_mapbox(covid_world,lat=\"Lat\",lon=\"Long\",hover_name=\"Country\",hover_data=[\"TotalConfirmed\",\"TotalDeaths\",\"Recovered\"],animation_frame=\"Date\",color_continuous_scale=\"Portland\",radius=7,zoom=0,height=700)\n",
    "#fig.update_layout(title='Worldwide Corona Virus Cases')\n",
    "#fig.update_layout(mapbox_style=\"open-street-map\",mapbox_center_lon=0)\n",
    "#fig.update_layout(margin={\"r\":0,\"t\":0,\"l\":0,\"b\":0})\n"
   ]
  },
  {
   "cell_type": "code",
   "execution_count": 11,
   "metadata": {},
   "outputs": [],
   "source": [
    "r = requests.get(\"https://api.covid19india.org/data.json\")\n",
    "data =json.loads(r.text)\n",
    "json_data = json.dumps(data['statewise'])"
   ]
  },
  {
   "cell_type": "code",
   "execution_count": 12,
   "metadata": {},
   "outputs": [],
   "source": [
    "covid_india=pd.read_json(json_data, orient='records')"
   ]
  },
  {
   "cell_type": "code",
   "execution_count": 15,
   "metadata": {
    "scrolled": false
   },
   "outputs": [
    {
     "data": {
      "text/html": [
       "<div>\n",
       "<style scoped>\n",
       "    .dataframe tbody tr th:only-of-type {\n",
       "        vertical-align: middle;\n",
       "    }\n",
       "\n",
       "    .dataframe tbody tr th {\n",
       "        vertical-align: top;\n",
       "    }\n",
       "\n",
       "    .dataframe thead th {\n",
       "        text-align: right;\n",
       "    }\n",
       "</style>\n",
       "<table border=\"1\" class=\"dataframe\">\n",
       "  <thead>\n",
       "    <tr style=\"text-align: right;\">\n",
       "      <th></th>\n",
       "      <th>active</th>\n",
       "      <th>confirmed</th>\n",
       "      <th>deaths</th>\n",
       "      <th>deltaconfirmed</th>\n",
       "      <th>deltadeaths</th>\n",
       "      <th>deltarecovered</th>\n",
       "      <th>lastupdatedtime</th>\n",
       "      <th>recovered</th>\n",
       "      <th>state</th>\n",
       "      <th>statecode</th>\n",
       "      <th>statenotes</th>\n",
       "    </tr>\n",
       "  </thead>\n",
       "  <tbody>\n",
       "    <tr>\n",
       "      <th>0</th>\n",
       "      <td>49099</td>\n",
       "      <td>78055</td>\n",
       "      <td>2551</td>\n",
       "      <td>3725</td>\n",
       "      <td>136</td>\n",
       "      <td>1946</td>\n",
       "      <td>14/05/2020 01:13:23</td>\n",
       "      <td>26400</td>\n",
       "      <td>Total</td>\n",
       "      <td>TT</td>\n",
       "      <td></td>\n",
       "    </tr>\n",
       "    <tr>\n",
       "      <th>1</th>\n",
       "      <td>19400</td>\n",
       "      <td>25922</td>\n",
       "      <td>975</td>\n",
       "      <td>1495</td>\n",
       "      <td>54</td>\n",
       "      <td>422</td>\n",
       "      <td>14/05/2020 01:13:24</td>\n",
       "      <td>5547</td>\n",
       "      <td>Maharashtra</td>\n",
       "      <td>MH</td>\n",
       "      <td>[10-May]&lt;br&gt;\\n- Total numbers are updated to t...</td>\n",
       "    </tr>\n",
       "    <tr>\n",
       "      <th>2</th>\n",
       "      <td>5140</td>\n",
       "      <td>9268</td>\n",
       "      <td>566</td>\n",
       "      <td>364</td>\n",
       "      <td>29</td>\n",
       "      <td>316</td>\n",
       "      <td>13/05/2020 20:33:34</td>\n",
       "      <td>3562</td>\n",
       "      <td>Gujarat</td>\n",
       "      <td>GJ</td>\n",
       "      <td></td>\n",
       "    </tr>\n",
       "    <tr>\n",
       "      <th>3</th>\n",
       "      <td>6987</td>\n",
       "      <td>9227</td>\n",
       "      <td>64</td>\n",
       "      <td>509</td>\n",
       "      <td>3</td>\n",
       "      <td>42</td>\n",
       "      <td>13/05/2020 20:33:35</td>\n",
       "      <td>2176</td>\n",
       "      <td>Tamil Nadu</td>\n",
       "      <td>TN</td>\n",
       "      <td></td>\n",
       "    </tr>\n",
       "    <tr>\n",
       "      <th>4</th>\n",
       "      <td>5034</td>\n",
       "      <td>7998</td>\n",
       "      <td>106</td>\n",
       "      <td>359</td>\n",
       "      <td>20</td>\n",
       "      <td>346</td>\n",
       "      <td>13/05/2020 11:13:23</td>\n",
       "      <td>2858</td>\n",
       "      <td>Delhi</td>\n",
       "      <td>DL</td>\n",
       "      <td>[10-May]&lt;br&gt;\\n\\nDelhi will be releasing bullet...</td>\n",
       "    </tr>\n",
       "  </tbody>\n",
       "</table>\n",
       "</div>"
      ],
      "text/plain": [
       "   active  confirmed  deaths  deltaconfirmed  deltadeaths  deltarecovered  \\\n",
       "0   49099      78055    2551            3725          136            1946   \n",
       "1   19400      25922     975            1495           54             422   \n",
       "2    5140       9268     566             364           29             316   \n",
       "3    6987       9227      64             509            3              42   \n",
       "4    5034       7998     106             359           20             346   \n",
       "\n",
       "       lastupdatedtime  recovered        state statecode  \\\n",
       "0  14/05/2020 01:13:23      26400        Total        TT   \n",
       "1  14/05/2020 01:13:24       5547  Maharashtra        MH   \n",
       "2  13/05/2020 20:33:34       3562      Gujarat        GJ   \n",
       "3  13/05/2020 20:33:35       2176   Tamil Nadu        TN   \n",
       "4  13/05/2020 11:13:23       2858        Delhi        DL   \n",
       "\n",
       "                                          statenotes  \n",
       "0                                                     \n",
       "1  [10-May]<br>\\n- Total numbers are updated to t...  \n",
       "2                                                     \n",
       "3                                                     \n",
       "4  [10-May]<br>\\n\\nDelhi will be releasing bullet...  "
      ]
     },
     "execution_count": 15,
     "metadata": {},
     "output_type": "execute_result"
    }
   ],
   "source": [
    "covid_india.head()"
   ]
  },
  {
   "cell_type": "code",
   "execution_count": 14,
   "metadata": {},
   "outputs": [
    {
     "data": {
      "text/plain": [
       "(38, 11)"
      ]
     },
     "execution_count": 14,
     "metadata": {},
     "output_type": "execute_result"
    }
   ],
   "source": [
    "covid_india.shape"
   ]
  },
  {
   "cell_type": "code",
   "execution_count": 16,
   "metadata": {},
   "outputs": [
    {
     "data": {
      "text/plain": [
       "Index(['active', 'confirmed', 'deaths', 'deltaconfirmed', 'deltadeaths',\n",
       "       'deltarecovered', 'lastupdatedtime', 'recovered', 'state', 'statecode',\n",
       "       'statenotes'],\n",
       "      dtype='object')"
      ]
     },
     "execution_count": 16,
     "metadata": {},
     "output_type": "execute_result"
    }
   ],
   "source": [
    "covid_india.keys()"
   ]
  },
  {
   "cell_type": "code",
   "execution_count": 17,
   "metadata": {
    "scrolled": true
   },
   "outputs": [
    {
     "data": {
      "text/html": [
       "<div>\n",
       "<style scoped>\n",
       "    .dataframe tbody tr th:only-of-type {\n",
       "        vertical-align: middle;\n",
       "    }\n",
       "\n",
       "    .dataframe tbody tr th {\n",
       "        vertical-align: top;\n",
       "    }\n",
       "\n",
       "    .dataframe thead th {\n",
       "        text-align: right;\n",
       "    }\n",
       "</style>\n",
       "<table border=\"1\" class=\"dataframe\">\n",
       "  <thead>\n",
       "    <tr style=\"text-align: right;\">\n",
       "      <th></th>\n",
       "      <th>active</th>\n",
       "      <th>confirmed</th>\n",
       "      <th>deaths</th>\n",
       "      <th>deltaconfirmed</th>\n",
       "      <th>deltadeaths</th>\n",
       "      <th>deltarecovered</th>\n",
       "      <th>lastupdatedtime</th>\n",
       "      <th>recovered</th>\n",
       "      <th>state</th>\n",
       "      <th>statecode</th>\n",
       "      <th>statenotes</th>\n",
       "    </tr>\n",
       "  </thead>\n",
       "  <tbody>\n",
       "    <tr>\n",
       "      <th>33</th>\n",
       "      <td>0</td>\n",
       "      <td>1</td>\n",
       "      <td>0</td>\n",
       "      <td>0</td>\n",
       "      <td>0</td>\n",
       "      <td>0</td>\n",
       "      <td>12/05/2020 23:23:25</td>\n",
       "      <td>1</td>\n",
       "      <td>Dadra and Nagar Haveli and Daman and Diu</td>\n",
       "      <td>DN</td>\n",
       "      <td></td>\n",
       "    </tr>\n",
       "    <tr>\n",
       "      <th>34</th>\n",
       "      <td>0</td>\n",
       "      <td>0</td>\n",
       "      <td>0</td>\n",
       "      <td>0</td>\n",
       "      <td>0</td>\n",
       "      <td>0</td>\n",
       "      <td>20/04/2020 08:45:07</td>\n",
       "      <td>0</td>\n",
       "      <td>Nagaland</td>\n",
       "      <td>NL</td>\n",
       "      <td></td>\n",
       "    </tr>\n",
       "    <tr>\n",
       "      <th>35</th>\n",
       "      <td>0</td>\n",
       "      <td>0</td>\n",
       "      <td>0</td>\n",
       "      <td>0</td>\n",
       "      <td>0</td>\n",
       "      <td>0</td>\n",
       "      <td>26/03/2020 07:19:29</td>\n",
       "      <td>0</td>\n",
       "      <td>Daman and Diu</td>\n",
       "      <td>DD</td>\n",
       "      <td></td>\n",
       "    </tr>\n",
       "    <tr>\n",
       "      <th>36</th>\n",
       "      <td>0</td>\n",
       "      <td>0</td>\n",
       "      <td>0</td>\n",
       "      <td>0</td>\n",
       "      <td>0</td>\n",
       "      <td>0</td>\n",
       "      <td>26/03/2020 07:19:29</td>\n",
       "      <td>0</td>\n",
       "      <td>Lakshadweep</td>\n",
       "      <td>LD</td>\n",
       "      <td></td>\n",
       "    </tr>\n",
       "    <tr>\n",
       "      <th>37</th>\n",
       "      <td>0</td>\n",
       "      <td>0</td>\n",
       "      <td>0</td>\n",
       "      <td>0</td>\n",
       "      <td>0</td>\n",
       "      <td>0</td>\n",
       "      <td>26/03/2020 07:19:29</td>\n",
       "      <td>0</td>\n",
       "      <td>Sikkim</td>\n",
       "      <td>SK</td>\n",
       "      <td></td>\n",
       "    </tr>\n",
       "  </tbody>\n",
       "</table>\n",
       "</div>"
      ],
      "text/plain": [
       "    active  confirmed  deaths  deltaconfirmed  deltadeaths  deltarecovered  \\\n",
       "33       0          1       0               0            0               0   \n",
       "34       0          0       0               0            0               0   \n",
       "35       0          0       0               0            0               0   \n",
       "36       0          0       0               0            0               0   \n",
       "37       0          0       0               0            0               0   \n",
       "\n",
       "        lastupdatedtime  recovered                                     state  \\\n",
       "33  12/05/2020 23:23:25          1  Dadra and Nagar Haveli and Daman and Diu   \n",
       "34  20/04/2020 08:45:07          0                                  Nagaland   \n",
       "35  26/03/2020 07:19:29          0                             Daman and Diu   \n",
       "36  26/03/2020 07:19:29          0                               Lakshadweep   \n",
       "37  26/03/2020 07:19:29          0                                    Sikkim   \n",
       "\n",
       "   statecode statenotes  \n",
       "33        DN             \n",
       "34        NL             \n",
       "35        DD             \n",
       "36        LD             \n",
       "37        SK             "
      ]
     },
     "execution_count": 17,
     "metadata": {},
     "output_type": "execute_result"
    }
   ],
   "source": [
    "covid_india.tail()"
   ]
  },
  {
   "cell_type": "code",
   "execution_count": 13,
   "metadata": {},
   "outputs": [],
   "source": [
    "covid_india = covid_india.reindex(columns=['state','statecode','lastupdatedtime',\n",
    "                                           'confirmed','active','recovered','deaths'\n",
    "                                           ,'deltaconfirmed','deltadeaths','deltarecovered','statenotes'])"
   ]
  },
  {
   "cell_type": "code",
   "execution_count": 14,
   "metadata": {
    "scrolled": false
   },
   "outputs": [
    {
     "data": {
      "text/html": [
       "<div>\n",
       "<style scoped>\n",
       "    .dataframe tbody tr th:only-of-type {\n",
       "        vertical-align: middle;\n",
       "    }\n",
       "\n",
       "    .dataframe tbody tr th {\n",
       "        vertical-align: top;\n",
       "    }\n",
       "\n",
       "    .dataframe thead th {\n",
       "        text-align: right;\n",
       "    }\n",
       "</style>\n",
       "<table border=\"1\" class=\"dataframe\">\n",
       "  <thead>\n",
       "    <tr style=\"text-align: right;\">\n",
       "      <th></th>\n",
       "      <th>state</th>\n",
       "      <th>statecode</th>\n",
       "      <th>lastupdatedtime</th>\n",
       "      <th>confirmed</th>\n",
       "      <th>active</th>\n",
       "      <th>recovered</th>\n",
       "      <th>deaths</th>\n",
       "      <th>deltaconfirmed</th>\n",
       "      <th>deltadeaths</th>\n",
       "      <th>deltarecovered</th>\n",
       "      <th>statenotes</th>\n",
       "    </tr>\n",
       "  </thead>\n",
       "  <tbody>\n",
       "    <tr>\n",
       "      <th>0</th>\n",
       "      <td>Total</td>\n",
       "      <td>TT</td>\n",
       "      <td>13/05/2020 23:51:23</td>\n",
       "      <td>78055</td>\n",
       "      <td>49099</td>\n",
       "      <td>26400</td>\n",
       "      <td>2551</td>\n",
       "      <td>3725</td>\n",
       "      <td>136</td>\n",
       "      <td>1946</td>\n",
       "      <td></td>\n",
       "    </tr>\n",
       "    <tr>\n",
       "      <th>1</th>\n",
       "      <td>Maharashtra</td>\n",
       "      <td>MH</td>\n",
       "      <td>13/05/2020 20:33:33</td>\n",
       "      <td>25922</td>\n",
       "      <td>19400</td>\n",
       "      <td>5547</td>\n",
       "      <td>975</td>\n",
       "      <td>1495</td>\n",
       "      <td>54</td>\n",
       "      <td>422</td>\n",
       "      <td>[10-May]&lt;br&gt;\\n- Total numbers are updated to t...</td>\n",
       "    </tr>\n",
       "    <tr>\n",
       "      <th>2</th>\n",
       "      <td>Gujarat</td>\n",
       "      <td>GJ</td>\n",
       "      <td>13/05/2020 20:33:34</td>\n",
       "      <td>9268</td>\n",
       "      <td>5140</td>\n",
       "      <td>3562</td>\n",
       "      <td>566</td>\n",
       "      <td>364</td>\n",
       "      <td>29</td>\n",
       "      <td>316</td>\n",
       "      <td></td>\n",
       "    </tr>\n",
       "    <tr>\n",
       "      <th>3</th>\n",
       "      <td>Tamil Nadu</td>\n",
       "      <td>TN</td>\n",
       "      <td>13/05/2020 20:33:35</td>\n",
       "      <td>9227</td>\n",
       "      <td>6987</td>\n",
       "      <td>2176</td>\n",
       "      <td>64</td>\n",
       "      <td>509</td>\n",
       "      <td>3</td>\n",
       "      <td>42</td>\n",
       "      <td></td>\n",
       "    </tr>\n",
       "    <tr>\n",
       "      <th>4</th>\n",
       "      <td>Delhi</td>\n",
       "      <td>DL</td>\n",
       "      <td>13/05/2020 11:13:23</td>\n",
       "      <td>7998</td>\n",
       "      <td>5034</td>\n",
       "      <td>2858</td>\n",
       "      <td>106</td>\n",
       "      <td>359</td>\n",
       "      <td>20</td>\n",
       "      <td>346</td>\n",
       "      <td>[10-May]&lt;br&gt;\\n\\nDelhi will be releasing bullet...</td>\n",
       "    </tr>\n",
       "    <tr>\n",
       "      <th>5</th>\n",
       "      <td>Rajasthan</td>\n",
       "      <td>RJ</td>\n",
       "      <td>13/05/2020 22:23:28</td>\n",
       "      <td>4328</td>\n",
       "      <td>1634</td>\n",
       "      <td>2573</td>\n",
       "      <td>121</td>\n",
       "      <td>202</td>\n",
       "      <td>4</td>\n",
       "      <td>119</td>\n",
       "      <td></td>\n",
       "    </tr>\n",
       "    <tr>\n",
       "      <th>6</th>\n",
       "      <td>Madhya Pradesh</td>\n",
       "      <td>MP</td>\n",
       "      <td>13/05/2020 19:33:25</td>\n",
       "      <td>4173</td>\n",
       "      <td>1937</td>\n",
       "      <td>2004</td>\n",
       "      <td>232</td>\n",
       "      <td>187</td>\n",
       "      <td>7</td>\n",
       "      <td>144</td>\n",
       "      <td></td>\n",
       "    </tr>\n",
       "    <tr>\n",
       "      <th>7</th>\n",
       "      <td>Uttar Pradesh</td>\n",
       "      <td>UP</td>\n",
       "      <td>13/05/2020 22:53:24</td>\n",
       "      <td>3758</td>\n",
       "      <td>1707</td>\n",
       "      <td>1965</td>\n",
       "      <td>86</td>\n",
       "      <td>94</td>\n",
       "      <td>4</td>\n",
       "      <td>92</td>\n",
       "      <td></td>\n",
       "    </tr>\n",
       "    <tr>\n",
       "      <th>8</th>\n",
       "      <td>West Bengal</td>\n",
       "      <td>WB</td>\n",
       "      <td>13/05/2020 21:23:24</td>\n",
       "      <td>2290</td>\n",
       "      <td>1381</td>\n",
       "      <td>702</td>\n",
       "      <td>207</td>\n",
       "      <td>117</td>\n",
       "      <td>9</td>\n",
       "      <td>90</td>\n",
       "      <td>- Cases updated as per WB bulletin as it now p...</td>\n",
       "    </tr>\n",
       "    <tr>\n",
       "      <th>9</th>\n",
       "      <td>Andhra Pradesh</td>\n",
       "      <td>AP</td>\n",
       "      <td>13/05/2020 11:54:24</td>\n",
       "      <td>2137</td>\n",
       "      <td>948</td>\n",
       "      <td>1142</td>\n",
       "      <td>47</td>\n",
       "      <td>48</td>\n",
       "      <td>1</td>\n",
       "      <td>86</td>\n",
       "      <td></td>\n",
       "    </tr>\n",
       "    <tr>\n",
       "      <th>10</th>\n",
       "      <td>Punjab</td>\n",
       "      <td>PB</td>\n",
       "      <td>13/05/2020 20:03:25</td>\n",
       "      <td>1924</td>\n",
       "      <td>1692</td>\n",
       "      <td>200</td>\n",
       "      <td>32</td>\n",
       "      <td>10</td>\n",
       "      <td>0</td>\n",
       "      <td>29</td>\n",
       "      <td></td>\n",
       "    </tr>\n",
       "    <tr>\n",
       "      <th>11</th>\n",
       "      <td>Telangana</td>\n",
       "      <td>TG</td>\n",
       "      <td>13/05/2020 21:53:24</td>\n",
       "      <td>1367</td>\n",
       "      <td>394</td>\n",
       "      <td>939</td>\n",
       "      <td>34</td>\n",
       "      <td>41</td>\n",
       "      <td>2</td>\n",
       "      <td>117</td>\n",
       "      <td></td>\n",
       "    </tr>\n",
       "    <tr>\n",
       "      <th>12</th>\n",
       "      <td>Karnataka</td>\n",
       "      <td>KA</td>\n",
       "      <td>13/05/2020 18:08:24</td>\n",
       "      <td>959</td>\n",
       "      <td>474</td>\n",
       "      <td>451</td>\n",
       "      <td>33</td>\n",
       "      <td>34</td>\n",
       "      <td>2</td>\n",
       "      <td>18</td>\n",
       "      <td>One active case in KA reduced as a confirmed p...</td>\n",
       "    </tr>\n",
       "    <tr>\n",
       "      <th>13</th>\n",
       "      <td>Jammu and Kashmir</td>\n",
       "      <td>JK</td>\n",
       "      <td>13/05/2020 20:03:27</td>\n",
       "      <td>971</td>\n",
       "      <td>495</td>\n",
       "      <td>466</td>\n",
       "      <td>10</td>\n",
       "      <td>37</td>\n",
       "      <td>0</td>\n",
       "      <td>11</td>\n",
       "      <td></td>\n",
       "    </tr>\n",
       "    <tr>\n",
       "      <th>14</th>\n",
       "      <td>Bihar</td>\n",
       "      <td>BR</td>\n",
       "      <td>13/05/2020 23:43:24</td>\n",
       "      <td>953</td>\n",
       "      <td>564</td>\n",
       "      <td>382</td>\n",
       "      <td>7</td>\n",
       "      <td>74</td>\n",
       "      <td>1</td>\n",
       "      <td>0</td>\n",
       "      <td></td>\n",
       "    </tr>\n",
       "    <tr>\n",
       "      <th>15</th>\n",
       "      <td>Haryana</td>\n",
       "      <td>HR</td>\n",
       "      <td>13/05/2020 20:13:25</td>\n",
       "      <td>793</td>\n",
       "      <td>364</td>\n",
       "      <td>418</td>\n",
       "      <td>11</td>\n",
       "      <td>13</td>\n",
       "      <td>0</td>\n",
       "      <td>76</td>\n",
       "      <td></td>\n",
       "    </tr>\n",
       "    <tr>\n",
       "      <th>16</th>\n",
       "      <td>Odisha</td>\n",
       "      <td>OR</td>\n",
       "      <td>13/05/2020 17:22:24</td>\n",
       "      <td>538</td>\n",
       "      <td>392</td>\n",
       "      <td>143</td>\n",
       "      <td>3</td>\n",
       "      <td>101</td>\n",
       "      <td>0</td>\n",
       "      <td>27</td>\n",
       "      <td></td>\n",
       "    </tr>\n",
       "    <tr>\n",
       "      <th>17</th>\n",
       "      <td>Kerala</td>\n",
       "      <td>KL</td>\n",
       "      <td>13/05/2020 18:13:25</td>\n",
       "      <td>535</td>\n",
       "      <td>41</td>\n",
       "      <td>490</td>\n",
       "      <td>4</td>\n",
       "      <td>10</td>\n",
       "      <td>0</td>\n",
       "      <td>1</td>\n",
       "      <td>Mahe native who expired in Kannur included in ...</td>\n",
       "    </tr>\n",
       "    <tr>\n",
       "      <th>18</th>\n",
       "      <td>Chandigarh</td>\n",
       "      <td>CH</td>\n",
       "      <td>13/05/2020 20:13:26</td>\n",
       "      <td>191</td>\n",
       "      <td>158</td>\n",
       "      <td>30</td>\n",
       "      <td>3</td>\n",
       "      <td>4</td>\n",
       "      <td>0</td>\n",
       "      <td>0</td>\n",
       "      <td></td>\n",
       "    </tr>\n",
       "    <tr>\n",
       "      <th>19</th>\n",
       "      <td>Jharkhand</td>\n",
       "      <td>JH</td>\n",
       "      <td>13/05/2020 23:51:24</td>\n",
       "      <td>177</td>\n",
       "      <td>87</td>\n",
       "      <td>87</td>\n",
       "      <td>3</td>\n",
       "      <td>5</td>\n",
       "      <td>0</td>\n",
       "      <td>8</td>\n",
       "      <td></td>\n",
       "    </tr>\n",
       "    <tr>\n",
       "      <th>20</th>\n",
       "      <td>Tripura</td>\n",
       "      <td>TR</td>\n",
       "      <td>12/05/2020 23:13:25</td>\n",
       "      <td>154</td>\n",
       "      <td>152</td>\n",
       "      <td>2</td>\n",
       "      <td>0</td>\n",
       "      <td>0</td>\n",
       "      <td>0</td>\n",
       "      <td>0</td>\n",
       "      <td></td>\n",
       "    </tr>\n",
       "    <tr>\n",
       "      <th>21</th>\n",
       "      <td>Uttarakhand</td>\n",
       "      <td>UT</td>\n",
       "      <td>13/05/2020 20:33:38</td>\n",
       "      <td>72</td>\n",
       "      <td>25</td>\n",
       "      <td>46</td>\n",
       "      <td>1</td>\n",
       "      <td>3</td>\n",
       "      <td>0</td>\n",
       "      <td>0</td>\n",
       "      <td></td>\n",
       "    </tr>\n",
       "    <tr>\n",
       "      <th>22</th>\n",
       "      <td>Himachal Pradesh</td>\n",
       "      <td>HP</td>\n",
       "      <td>13/05/2020 23:04:25</td>\n",
       "      <td>67</td>\n",
       "      <td>26</td>\n",
       "      <td>35</td>\n",
       "      <td>3</td>\n",
       "      <td>1</td>\n",
       "      <td>0</td>\n",
       "      <td>0</td>\n",
       "      <td>HP has 4 Migrated cases which are reduced from...</td>\n",
       "    </tr>\n",
       "    <tr>\n",
       "      <th>23</th>\n",
       "      <td>Assam</td>\n",
       "      <td>AS</td>\n",
       "      <td>13/05/2020 20:33:39</td>\n",
       "      <td>80</td>\n",
       "      <td>37</td>\n",
       "      <td>40</td>\n",
       "      <td>2</td>\n",
       "      <td>15</td>\n",
       "      <td>0</td>\n",
       "      <td>0</td>\n",
       "      <td>Includes one case from Nagaland &lt;br&gt;\\nOne pati...</td>\n",
       "    </tr>\n",
       "    <tr>\n",
       "      <th>24</th>\n",
       "      <td>Chhattisgarh</td>\n",
       "      <td>CT</td>\n",
       "      <td>13/05/2020 21:33:27</td>\n",
       "      <td>59</td>\n",
       "      <td>4</td>\n",
       "      <td>55</td>\n",
       "      <td>0</td>\n",
       "      <td>0</td>\n",
       "      <td>0</td>\n",
       "      <td>1</td>\n",
       "      <td></td>\n",
       "    </tr>\n",
       "    <tr>\n",
       "      <th>25</th>\n",
       "      <td>Ladakh</td>\n",
       "      <td>LA</td>\n",
       "      <td>13/05/2020 21:33:28</td>\n",
       "      <td>43</td>\n",
       "      <td>21</td>\n",
       "      <td>22</td>\n",
       "      <td>0</td>\n",
       "      <td>1</td>\n",
       "      <td>0</td>\n",
       "      <td>0</td>\n",
       "      <td></td>\n",
       "    </tr>\n",
       "    <tr>\n",
       "      <th>26</th>\n",
       "      <td>Andaman and Nicobar Islands</td>\n",
       "      <td>AN</td>\n",
       "      <td>07/05/2020 22:24:57</td>\n",
       "      <td>33</td>\n",
       "      <td>0</td>\n",
       "      <td>33</td>\n",
       "      <td>0</td>\n",
       "      <td>0</td>\n",
       "      <td>0</td>\n",
       "      <td>0</td>\n",
       "      <td></td>\n",
       "    </tr>\n",
       "    <tr>\n",
       "      <th>27</th>\n",
       "      <td>Meghalaya</td>\n",
       "      <td>ML</td>\n",
       "      <td>13/05/2020 11:13:25</td>\n",
       "      <td>13</td>\n",
       "      <td>1</td>\n",
       "      <td>11</td>\n",
       "      <td>1</td>\n",
       "      <td>0</td>\n",
       "      <td>0</td>\n",
       "      <td>1</td>\n",
       "      <td></td>\n",
       "    </tr>\n",
       "    <tr>\n",
       "      <th>28</th>\n",
       "      <td>Puducherry</td>\n",
       "      <td>PY</td>\n",
       "      <td>13/05/2020 21:23:25</td>\n",
       "      <td>13</td>\n",
       "      <td>4</td>\n",
       "      <td>9</td>\n",
       "      <td>0</td>\n",
       "      <td>1</td>\n",
       "      <td>0</td>\n",
       "      <td>0</td>\n",
       "      <td></td>\n",
       "    </tr>\n",
       "    <tr>\n",
       "      <th>29</th>\n",
       "      <td>Goa</td>\n",
       "      <td>GA</td>\n",
       "      <td>19/04/2020 17:04:07</td>\n",
       "      <td>7</td>\n",
       "      <td>0</td>\n",
       "      <td>7</td>\n",
       "      <td>0</td>\n",
       "      <td>0</td>\n",
       "      <td>0</td>\n",
       "      <td>0</td>\n",
       "      <td></td>\n",
       "    </tr>\n",
       "    <tr>\n",
       "      <th>30</th>\n",
       "      <td>Manipur</td>\n",
       "      <td>MN</td>\n",
       "      <td>20/04/2020 10:04:08</td>\n",
       "      <td>2</td>\n",
       "      <td>0</td>\n",
       "      <td>2</td>\n",
       "      <td>0</td>\n",
       "      <td>0</td>\n",
       "      <td>0</td>\n",
       "      <td>0</td>\n",
       "      <td></td>\n",
       "    </tr>\n",
       "    <tr>\n",
       "      <th>31</th>\n",
       "      <td>Mizoram</td>\n",
       "      <td>MZ</td>\n",
       "      <td>05/05/2020 22:32:47</td>\n",
       "      <td>1</td>\n",
       "      <td>0</td>\n",
       "      <td>1</td>\n",
       "      <td>0</td>\n",
       "      <td>0</td>\n",
       "      <td>0</td>\n",
       "      <td>0</td>\n",
       "      <td></td>\n",
       "    </tr>\n",
       "    <tr>\n",
       "      <th>32</th>\n",
       "      <td>Arunachal Pradesh</td>\n",
       "      <td>AR</td>\n",
       "      <td>16/04/2020 19:33:11</td>\n",
       "      <td>1</td>\n",
       "      <td>0</td>\n",
       "      <td>1</td>\n",
       "      <td>0</td>\n",
       "      <td>0</td>\n",
       "      <td>0</td>\n",
       "      <td>0</td>\n",
       "      <td></td>\n",
       "    </tr>\n",
       "    <tr>\n",
       "      <th>33</th>\n",
       "      <td>Dadra and Nagar Haveli and Daman and Diu</td>\n",
       "      <td>DN</td>\n",
       "      <td>12/05/2020 23:23:25</td>\n",
       "      <td>1</td>\n",
       "      <td>0</td>\n",
       "      <td>1</td>\n",
       "      <td>0</td>\n",
       "      <td>0</td>\n",
       "      <td>0</td>\n",
       "      <td>0</td>\n",
       "      <td></td>\n",
       "    </tr>\n",
       "    <tr>\n",
       "      <th>34</th>\n",
       "      <td>Nagaland</td>\n",
       "      <td>NL</td>\n",
       "      <td>20/04/2020 08:45:07</td>\n",
       "      <td>0</td>\n",
       "      <td>0</td>\n",
       "      <td>0</td>\n",
       "      <td>0</td>\n",
       "      <td>0</td>\n",
       "      <td>0</td>\n",
       "      <td>0</td>\n",
       "      <td></td>\n",
       "    </tr>\n",
       "    <tr>\n",
       "      <th>35</th>\n",
       "      <td>Daman and Diu</td>\n",
       "      <td>DD</td>\n",
       "      <td>26/03/2020 07:19:29</td>\n",
       "      <td>0</td>\n",
       "      <td>0</td>\n",
       "      <td>0</td>\n",
       "      <td>0</td>\n",
       "      <td>0</td>\n",
       "      <td>0</td>\n",
       "      <td>0</td>\n",
       "      <td></td>\n",
       "    </tr>\n",
       "    <tr>\n",
       "      <th>36</th>\n",
       "      <td>Lakshadweep</td>\n",
       "      <td>LD</td>\n",
       "      <td>26/03/2020 07:19:29</td>\n",
       "      <td>0</td>\n",
       "      <td>0</td>\n",
       "      <td>0</td>\n",
       "      <td>0</td>\n",
       "      <td>0</td>\n",
       "      <td>0</td>\n",
       "      <td>0</td>\n",
       "      <td></td>\n",
       "    </tr>\n",
       "    <tr>\n",
       "      <th>37</th>\n",
       "      <td>Sikkim</td>\n",
       "      <td>SK</td>\n",
       "      <td>26/03/2020 07:19:29</td>\n",
       "      <td>0</td>\n",
       "      <td>0</td>\n",
       "      <td>0</td>\n",
       "      <td>0</td>\n",
       "      <td>0</td>\n",
       "      <td>0</td>\n",
       "      <td>0</td>\n",
       "      <td></td>\n",
       "    </tr>\n",
       "  </tbody>\n",
       "</table>\n",
       "</div>"
      ],
      "text/plain": [
       "                                       state statecode      lastupdatedtime  \\\n",
       "0                                      Total        TT  13/05/2020 23:51:23   \n",
       "1                                Maharashtra        MH  13/05/2020 20:33:33   \n",
       "2                                    Gujarat        GJ  13/05/2020 20:33:34   \n",
       "3                                 Tamil Nadu        TN  13/05/2020 20:33:35   \n",
       "4                                      Delhi        DL  13/05/2020 11:13:23   \n",
       "5                                  Rajasthan        RJ  13/05/2020 22:23:28   \n",
       "6                             Madhya Pradesh        MP  13/05/2020 19:33:25   \n",
       "7                              Uttar Pradesh        UP  13/05/2020 22:53:24   \n",
       "8                                West Bengal        WB  13/05/2020 21:23:24   \n",
       "9                             Andhra Pradesh        AP  13/05/2020 11:54:24   \n",
       "10                                    Punjab        PB  13/05/2020 20:03:25   \n",
       "11                                 Telangana        TG  13/05/2020 21:53:24   \n",
       "12                                 Karnataka        KA  13/05/2020 18:08:24   \n",
       "13                         Jammu and Kashmir        JK  13/05/2020 20:03:27   \n",
       "14                                     Bihar        BR  13/05/2020 23:43:24   \n",
       "15                                   Haryana        HR  13/05/2020 20:13:25   \n",
       "16                                    Odisha        OR  13/05/2020 17:22:24   \n",
       "17                                    Kerala        KL  13/05/2020 18:13:25   \n",
       "18                                Chandigarh        CH  13/05/2020 20:13:26   \n",
       "19                                 Jharkhand        JH  13/05/2020 23:51:24   \n",
       "20                                   Tripura        TR  12/05/2020 23:13:25   \n",
       "21                               Uttarakhand        UT  13/05/2020 20:33:38   \n",
       "22                          Himachal Pradesh        HP  13/05/2020 23:04:25   \n",
       "23                                     Assam        AS  13/05/2020 20:33:39   \n",
       "24                              Chhattisgarh        CT  13/05/2020 21:33:27   \n",
       "25                                    Ladakh        LA  13/05/2020 21:33:28   \n",
       "26               Andaman and Nicobar Islands        AN  07/05/2020 22:24:57   \n",
       "27                                 Meghalaya        ML  13/05/2020 11:13:25   \n",
       "28                                Puducherry        PY  13/05/2020 21:23:25   \n",
       "29                                       Goa        GA  19/04/2020 17:04:07   \n",
       "30                                   Manipur        MN  20/04/2020 10:04:08   \n",
       "31                                   Mizoram        MZ  05/05/2020 22:32:47   \n",
       "32                         Arunachal Pradesh        AR  16/04/2020 19:33:11   \n",
       "33  Dadra and Nagar Haveli and Daman and Diu        DN  12/05/2020 23:23:25   \n",
       "34                                  Nagaland        NL  20/04/2020 08:45:07   \n",
       "35                             Daman and Diu        DD  26/03/2020 07:19:29   \n",
       "36                               Lakshadweep        LD  26/03/2020 07:19:29   \n",
       "37                                    Sikkim        SK  26/03/2020 07:19:29   \n",
       "\n",
       "    confirmed  active  recovered  deaths  deltaconfirmed  deltadeaths  \\\n",
       "0       78055   49099      26400    2551            3725          136   \n",
       "1       25922   19400       5547     975            1495           54   \n",
       "2        9268    5140       3562     566             364           29   \n",
       "3        9227    6987       2176      64             509            3   \n",
       "4        7998    5034       2858     106             359           20   \n",
       "5        4328    1634       2573     121             202            4   \n",
       "6        4173    1937       2004     232             187            7   \n",
       "7        3758    1707       1965      86              94            4   \n",
       "8        2290    1381        702     207             117            9   \n",
       "9        2137     948       1142      47              48            1   \n",
       "10       1924    1692        200      32              10            0   \n",
       "11       1367     394        939      34              41            2   \n",
       "12        959     474        451      33              34            2   \n",
       "13        971     495        466      10              37            0   \n",
       "14        953     564        382       7              74            1   \n",
       "15        793     364        418      11              13            0   \n",
       "16        538     392        143       3             101            0   \n",
       "17        535      41        490       4              10            0   \n",
       "18        191     158         30       3               4            0   \n",
       "19        177      87         87       3               5            0   \n",
       "20        154     152          2       0               0            0   \n",
       "21         72      25         46       1               3            0   \n",
       "22         67      26         35       3               1            0   \n",
       "23         80      37         40       2              15            0   \n",
       "24         59       4         55       0               0            0   \n",
       "25         43      21         22       0               1            0   \n",
       "26         33       0         33       0               0            0   \n",
       "27         13       1         11       1               0            0   \n",
       "28         13       4          9       0               1            0   \n",
       "29          7       0          7       0               0            0   \n",
       "30          2       0          2       0               0            0   \n",
       "31          1       0          1       0               0            0   \n",
       "32          1       0          1       0               0            0   \n",
       "33          1       0          1       0               0            0   \n",
       "34          0       0          0       0               0            0   \n",
       "35          0       0          0       0               0            0   \n",
       "36          0       0          0       0               0            0   \n",
       "37          0       0          0       0               0            0   \n",
       "\n",
       "    deltarecovered                                         statenotes  \n",
       "0             1946                                                     \n",
       "1              422  [10-May]<br>\\n- Total numbers are updated to t...  \n",
       "2              316                                                     \n",
       "3               42                                                     \n",
       "4              346  [10-May]<br>\\n\\nDelhi will be releasing bullet...  \n",
       "5              119                                                     \n",
       "6              144                                                     \n",
       "7               92                                                     \n",
       "8               90  - Cases updated as per WB bulletin as it now p...  \n",
       "9               86                                                     \n",
       "10              29                                                     \n",
       "11             117                                                     \n",
       "12              18  One active case in KA reduced as a confirmed p...  \n",
       "13              11                                                     \n",
       "14               0                                                     \n",
       "15              76                                                     \n",
       "16              27                                                     \n",
       "17               1  Mahe native who expired in Kannur included in ...  \n",
       "18               0                                                     \n",
       "19               8                                                     \n",
       "20               0                                                     \n",
       "21               0                                                     \n",
       "22               0  HP has 4 Migrated cases which are reduced from...  \n",
       "23               0  Includes one case from Nagaland <br>\\nOne pati...  \n",
       "24               1                                                     \n",
       "25               0                                                     \n",
       "26               0                                                     \n",
       "27               1                                                     \n",
       "28               0                                                     \n",
       "29               0                                                     \n",
       "30               0                                                     \n",
       "31               0                                                     \n",
       "32               0                                                     \n",
       "33               0                                                     \n",
       "34               0                                                     \n",
       "35               0                                                     \n",
       "36               0                                                     \n",
       "37               0                                                     "
      ]
     },
     "execution_count": 14,
     "metadata": {},
     "output_type": "execute_result"
    }
   ],
   "source": [
    "covid_india"
   ]
  },
  {
   "cell_type": "code",
   "execution_count": 15,
   "metadata": {},
   "outputs": [
    {
     "data": {
      "image/png": "[encoded data removed]",
      "text/plain": [
       "<Figure size 864x576 with 1 Axes>"
      ]
     },
     "metadata": {
      "needs_background": "light"
     },
     "output_type": "display_data"
    }
   ],
   "source": [
    "url = \"https://api.covid19india.org/data.json\"\n",
    "response = requests.get(url)\n",
    "json_data= response.text\n",
    "data = json.loads(response.text)\n",
    "json_data = json.dumps(data['cases_time_series'])\n",
    "\n",
    "df=pd.read_json(json_data)\n",
    "ax=plt.gca()\n",
    "\n",
    "df.plot(x='date',y='totalconfirmed',grid=True,figsize=(12,8),ax=ax)\n",
    "df.plot(x='date',y='totaldeceased',grid=True,figsize=(12,8),ax=ax)\n",
    "df.plot(x='date',y='totalrecovered',grid=True,figsize=(12,8),ax=ax)\n",
    "\n",
    "ax.grid(linestyle='-', linewidth='0.5', which='minor')"
   ]
  },
  {
   "cell_type": "code",
   "execution_count": 60,
   "metadata": {},
   "outputs": [
    {
     "name": "stdout",
     "output_type": "stream",
     "text": [
      "Enter state name to know the number of cases of novel coronavirus: delhi\n",
      "\n",
      "Cases of novel coronavirus in Delhi\n",
      "\n",
      "Confirmed: 7998\n",
      "Active: 5034\n",
      "Recovered: 2858\n",
      "Deceased: 106\n"
     ]
    }
   ],
   "source": [
    "import json\n",
    "\n",
    "state = input(\"Enter state name to know the number of cases of novel coronavirus: \")\n",
    "\n",
    "api = \"https://api.covid19india.org/data.json\"\n",
    "response = requests.get(api)\n",
    "\n",
    "data = json.loads(response.text)\n",
    "\n",
    "statewise_data = data[\"statewise\"]\n",
    "\n",
    "states = []\n",
    "\n",
    "for state_data in statewise_data:\n",
    "    states.append(state_data[\"state\"].lower())\n",
    "        \n",
    "if state.lower() in states:\n",
    "    for state_data in statewise_data:\n",
    "        if state_data[\"state\"].lower() == state.lower():\n",
    "            print(f'\\nCases of novel coronavirus in {state_data[\"state\"]}\\n')\n",
    "            print(f'Confirmed: {state_data[\"confirmed\"]}')\n",
    "            print(f'Active: {state_data[\"active\"]}')\n",
    "            print(f'Recovered: {state_data[\"recovered\"]}')\n",
    "            print(f'Deceased: {state_data[\"deaths\"]}')\n",
    "            break\n",
    "else:\n",
    "    print(f'Sorry, we couldn\\'t find the number of cases of novel coronavirus in {state}')"
   ]
  },
  {
   "cell_type": "code",
   "execution_count": 17,
   "metadata": {},
   "outputs": [],
   "source": [
    "data = dict(type='choropleth',\n",
    "            locations = covid_india['statecode'],\n",
    "            locationmode = 'IN',\n",
    "            colorscale = 'Reds',\n",
    "            text =covid_india['state'],\n",
    "            z = covid_india['confirmed'],\n",
    "            colorbar = {'title':\"Confirm cases\"}\n",
    "            )"
   ]
  },
  {
   "cell_type": "code",
   "execution_count": 18,
   "metadata": {},
   "outputs": [],
   "source": [
    "layout = dict(title = 'CONFIRM CASES OF COVID IN INDIA',\n",
    "              geo = dict(scope='asia')\n",
    "             )"
   ]
  },
  {
   "cell_type": "code",
   "execution_count": 19,
   "metadata": {},
   "outputs": [
    {
     "ename": "ValueError",
     "evalue": "\n    Invalid value of type 'builtins.str' received for the 'locationmode' property of choropleth\n        Received value: 'IN'\n\n    The 'locationmode' property is an enumeration that may be specified as:\n      - One of the following enumeration values:\n            ['ISO-3', 'USA-states', 'country names', 'geojson-id']",
     "output_type": "error",
     "traceback": [
      "\u001b[1;31m---------------------------------------------------------------------------\u001b[0m",
      "\u001b[1;31mValueError\u001b[0m                                Traceback (most recent call last)",
      "\u001b[1;32m<ipython-input-19-39adb8a5073b>\u001b[0m in \u001b[0;36m<module>\u001b[1;34m\u001b[0m\n\u001b[1;32m----> 1\u001b[1;33m \u001b[0mchoromap\u001b[0m \u001b[1;33m=\u001b[0m \u001b[0mgo\u001b[0m\u001b[1;33m.\u001b[0m\u001b[0mFigure\u001b[0m\u001b[1;33m(\u001b[0m\u001b[0mdata\u001b[0m \u001b[1;33m=\u001b[0m \u001b[1;33m[\u001b[0m\u001b[0mdata\u001b[0m\u001b[1;33m]\u001b[0m\u001b[1;33m,\u001b[0m\u001b[0mlayout\u001b[0m \u001b[1;33m=\u001b[0m \u001b[0mlayout\u001b[0m\u001b[1;33m)\u001b[0m\u001b[1;33m\u001b[0m\u001b[1;33m\u001b[0m\u001b[0m\n\u001b[0m\u001b[0;32m      2\u001b[0m \u001b[0miplot\u001b[0m\u001b[1;33m(\u001b[0m\u001b[0mchoromap\u001b[0m\u001b[1;33m)\u001b[0m\u001b[1;33m\u001b[0m\u001b[1;33m\u001b[0m\u001b[0m\n",
      "\u001b[1;32mD:\\anaconda\\lib\\site-packages\\plotly\\graph_objs\\_figure.py\u001b[0m in \u001b[0;36m__init__\u001b[1;34m(self, data, layout, frames, skip_invalid, **kwargs)\u001b[0m\n\u001b[0;32m    582\u001b[0m             \u001b[1;32mis\u001b[0m \u001b[0minvalid\u001b[0m \u001b[0mAND\u001b[0m \u001b[0mskip_invalid\u001b[0m \u001b[1;32mis\u001b[0m \u001b[1;32mFalse\u001b[0m\u001b[1;33m\u001b[0m\u001b[1;33m\u001b[0m\u001b[0m\n\u001b[0;32m    583\u001b[0m         \"\"\"\n\u001b[1;32m--> 584\u001b[1;33m         \u001b[0msuper\u001b[0m\u001b[1;33m(\u001b[0m\u001b[0mFigure\u001b[0m\u001b[1;33m,\u001b[0m \u001b[0mself\u001b[0m\u001b[1;33m)\u001b[0m\u001b[1;33m.\u001b[0m\u001b[0m__init__\u001b[0m\u001b[1;33m(\u001b[0m\u001b[0mdata\u001b[0m\u001b[1;33m,\u001b[0m \u001b[0mlayout\u001b[0m\u001b[1;33m,\u001b[0m \u001b[0mframes\u001b[0m\u001b[1;33m,\u001b[0m \u001b[0mskip_invalid\u001b[0m\u001b[1;33m,\u001b[0m \u001b[1;33m**\u001b[0m\u001b[0mkwargs\u001b[0m\u001b[1;33m)\u001b[0m\u001b[1;33m\u001b[0m\u001b[1;33m\u001b[0m\u001b[0m\n\u001b[0m\u001b[0;32m    585\u001b[0m \u001b[1;33m\u001b[0m\u001b[0m\n\u001b[0;32m    586\u001b[0m     def add_area(\n",
      "\u001b[1;32mD:\\anaconda\\lib\\site-packages\\plotly\\basedatatypes.py\u001b[0m in \u001b[0;36m__init__\u001b[1;34m(self, data, layout_plotly, frames, skip_invalid, **kwargs)\u001b[0m\n\u001b[0;32m    145\u001b[0m         \u001b[1;31m# ### Import traces ###\u001b[0m\u001b[1;33m\u001b[0m\u001b[1;33m\u001b[0m\u001b[1;33m\u001b[0m\u001b[0m\n\u001b[0;32m    146\u001b[0m         data = self._data_validator.validate_coerce(\n\u001b[1;32m--> 147\u001b[1;33m             \u001b[0mdata\u001b[0m\u001b[1;33m,\u001b[0m \u001b[0mskip_invalid\u001b[0m\u001b[1;33m=\u001b[0m\u001b[0mskip_invalid\u001b[0m\u001b[1;33m,\u001b[0m \u001b[0m_validate\u001b[0m\u001b[1;33m=\u001b[0m\u001b[0mself\u001b[0m\u001b[1;33m.\u001b[0m\u001b[0m_validate\u001b[0m\u001b[1;33m\u001b[0m\u001b[1;33m\u001b[0m\u001b[0m\n\u001b[0m\u001b[0;32m    148\u001b[0m         )\n\u001b[0;32m    149\u001b[0m \u001b[1;33m\u001b[0m\u001b[0m\n",
      "\u001b[1;32mD:\\anaconda\\lib\\site-packages\\_plotly_utils\\basevalidators.py\u001b[0m in \u001b[0;36mvalidate_coerce\u001b[1;34m(self, v, skip_invalid, _validate)\u001b[0m\n\u001b[0;32m   2658\u001b[0m                     \u001b[1;32melse\u001b[0m\u001b[1;33m:\u001b[0m\u001b[1;33m\u001b[0m\u001b[1;33m\u001b[0m\u001b[0m\n\u001b[0;32m   2659\u001b[0m                         trace = self.get_trace_class(trace_type)(\n\u001b[1;32m-> 2660\u001b[1;33m                             \u001b[0mskip_invalid\u001b[0m\u001b[1;33m=\u001b[0m\u001b[0mskip_invalid\u001b[0m\u001b[1;33m,\u001b[0m \u001b[0m_validate\u001b[0m\u001b[1;33m=\u001b[0m\u001b[0m_validate\u001b[0m\u001b[1;33m,\u001b[0m \u001b[1;33m**\u001b[0m\u001b[0mv_copy\u001b[0m\u001b[1;33m\u001b[0m\u001b[1;33m\u001b[0m\u001b[0m\n\u001b[0m\u001b[0;32m   2661\u001b[0m                         )\n\u001b[0;32m   2662\u001b[0m                         \u001b[0mres\u001b[0m\u001b[1;33m.\u001b[0m\u001b[0mappend\u001b[0m\u001b[1;33m(\u001b[0m\u001b[0mtrace\u001b[0m\u001b[1;33m)\u001b[0m\u001b[1;33m\u001b[0m\u001b[1;33m\u001b[0m\u001b[0m\n",
      "\u001b[1;32mD:\\anaconda\\lib\\site-packages\\plotly\\graph_objs\\_choropleth.py\u001b[0m in \u001b[0;36m__init__\u001b[1;34m(self, arg, autocolorscale, coloraxis, colorbar, colorscale, customdata, customdatasrc, featureidkey, geo, geojson, hoverinfo, hoverinfosrc, hoverlabel, hovertemplate, hovertemplatesrc, hovertext, hovertextsrc, ids, idssrc, legendgroup, locationmode, locations, locationssrc, marker, meta, metasrc, name, reversescale, selected, selectedpoints, showlegend, showscale, stream, text, textsrc, uid, uirevision, unselected, visible, z, zauto, zmax, zmid, zmin, zsrc, **kwargs)\u001b[0m\n\u001b[0;32m   2017\u001b[0m         \u001b[0m_v\u001b[0m \u001b[1;33m=\u001b[0m \u001b[0mlocationmode\u001b[0m \u001b[1;32mif\u001b[0m \u001b[0mlocationmode\u001b[0m \u001b[1;32mis\u001b[0m \u001b[1;32mnot\u001b[0m \u001b[1;32mNone\u001b[0m \u001b[1;32melse\u001b[0m \u001b[0m_v\u001b[0m\u001b[1;33m\u001b[0m\u001b[1;33m\u001b[0m\u001b[0m\n\u001b[0;32m   2018\u001b[0m         \u001b[1;32mif\u001b[0m \u001b[0m_v\u001b[0m \u001b[1;32mis\u001b[0m \u001b[1;32mnot\u001b[0m \u001b[1;32mNone\u001b[0m\u001b[1;33m:\u001b[0m\u001b[1;33m\u001b[0m\u001b[1;33m\u001b[0m\u001b[0m\n\u001b[1;32m-> 2019\u001b[1;33m             \u001b[0mself\u001b[0m\u001b[1;33m[\u001b[0m\u001b[1;34m\"locationmode\"\u001b[0m\u001b[1;33m]\u001b[0m \u001b[1;33m=\u001b[0m \u001b[0m_v\u001b[0m\u001b[1;33m\u001b[0m\u001b[1;33m\u001b[0m\u001b[0m\n\u001b[0m\u001b[0;32m   2020\u001b[0m         \u001b[0m_v\u001b[0m \u001b[1;33m=\u001b[0m \u001b[0marg\u001b[0m\u001b[1;33m.\u001b[0m\u001b[0mpop\u001b[0m\u001b[1;33m(\u001b[0m\u001b[1;34m\"locations\"\u001b[0m\u001b[1;33m,\u001b[0m \u001b[1;32mNone\u001b[0m\u001b[1;33m)\u001b[0m\u001b[1;33m\u001b[0m\u001b[1;33m\u001b[0m\u001b[0m\n\u001b[0;32m   2021\u001b[0m         \u001b[0m_v\u001b[0m \u001b[1;33m=\u001b[0m \u001b[0mlocations\u001b[0m \u001b[1;32mif\u001b[0m \u001b[0mlocations\u001b[0m \u001b[1;32mis\u001b[0m \u001b[1;32mnot\u001b[0m \u001b[1;32mNone\u001b[0m \u001b[1;32melse\u001b[0m \u001b[0m_v\u001b[0m\u001b[1;33m\u001b[0m\u001b[1;33m\u001b[0m\u001b[0m\n",
      "\u001b[1;32mD:\\anaconda\\lib\\site-packages\\plotly\\basedatatypes.py\u001b[0m in \u001b[0;36m__setitem__\u001b[1;34m(self, prop, value)\u001b[0m\n\u001b[0;32m   3924\u001b[0m                 \u001b[1;31m# ### Handle simple property ###\u001b[0m\u001b[1;33m\u001b[0m\u001b[1;33m\u001b[0m\u001b[1;33m\u001b[0m\u001b[0m\n\u001b[0;32m   3925\u001b[0m                 \u001b[1;32melse\u001b[0m\u001b[1;33m:\u001b[0m\u001b[1;33m\u001b[0m\u001b[1;33m\u001b[0m\u001b[0m\n\u001b[1;32m-> 3926\u001b[1;33m                     \u001b[0mself\u001b[0m\u001b[1;33m.\u001b[0m\u001b[0m_set_prop\u001b[0m\u001b[1;33m(\u001b[0m\u001b[0mprop\u001b[0m\u001b[1;33m,\u001b[0m \u001b[0mvalue\u001b[0m\u001b[1;33m)\u001b[0m\u001b[1;33m\u001b[0m\u001b[1;33m\u001b[0m\u001b[0m\n\u001b[0m\u001b[0;32m   3927\u001b[0m             \u001b[1;32melse\u001b[0m\u001b[1;33m:\u001b[0m\u001b[1;33m\u001b[0m\u001b[1;33m\u001b[0m\u001b[0m\n\u001b[0;32m   3928\u001b[0m                 \u001b[1;31m# Make sure properties dict is initialized\u001b[0m\u001b[1;33m\u001b[0m\u001b[1;33m\u001b[0m\u001b[1;33m\u001b[0m\u001b[0m\n",
      "\u001b[1;32mD:\\anaconda\\lib\\site-packages\\plotly\\basedatatypes.py\u001b[0m in \u001b[0;36m_set_prop\u001b[1;34m(self, prop, val)\u001b[0m\n\u001b[0;32m   4242\u001b[0m                 \u001b[1;32mreturn\u001b[0m\u001b[1;33m\u001b[0m\u001b[1;33m\u001b[0m\u001b[0m\n\u001b[0;32m   4243\u001b[0m             \u001b[1;32melse\u001b[0m\u001b[1;33m:\u001b[0m\u001b[1;33m\u001b[0m\u001b[1;33m\u001b[0m\u001b[0m\n\u001b[1;32m-> 4244\u001b[1;33m                 \u001b[1;32mraise\u001b[0m \u001b[0merr\u001b[0m\u001b[1;33m\u001b[0m\u001b[1;33m\u001b[0m\u001b[0m\n\u001b[0m\u001b[0;32m   4245\u001b[0m \u001b[1;33m\u001b[0m\u001b[0m\n\u001b[0;32m   4246\u001b[0m         \u001b[1;31m# val is None\u001b[0m\u001b[1;33m\u001b[0m\u001b[1;33m\u001b[0m\u001b[1;33m\u001b[0m\u001b[0m\n",
      "\u001b[1;32mD:\\anaconda\\lib\\site-packages\\plotly\\basedatatypes.py\u001b[0m in \u001b[0;36m_set_prop\u001b[1;34m(self, prop, val)\u001b[0m\n\u001b[0;32m   4237\u001b[0m \u001b[1;33m\u001b[0m\u001b[0m\n\u001b[0;32m   4238\u001b[0m         \u001b[1;32mtry\u001b[0m\u001b[1;33m:\u001b[0m\u001b[1;33m\u001b[0m\u001b[1;33m\u001b[0m\u001b[0m\n\u001b[1;32m-> 4239\u001b[1;33m             \u001b[0mval\u001b[0m \u001b[1;33m=\u001b[0m \u001b[0mvalidator\u001b[0m\u001b[1;33m.\u001b[0m\u001b[0mvalidate_coerce\u001b[0m\u001b[1;33m(\u001b[0m\u001b[0mval\u001b[0m\u001b[1;33m)\u001b[0m\u001b[1;33m\u001b[0m\u001b[1;33m\u001b[0m\u001b[0m\n\u001b[0m\u001b[0;32m   4240\u001b[0m         \u001b[1;32mexcept\u001b[0m \u001b[0mValueError\u001b[0m \u001b[1;32mas\u001b[0m \u001b[0merr\u001b[0m\u001b[1;33m:\u001b[0m\u001b[1;33m\u001b[0m\u001b[1;33m\u001b[0m\u001b[0m\n\u001b[0;32m   4241\u001b[0m             \u001b[1;32mif\u001b[0m \u001b[0mself\u001b[0m\u001b[1;33m.\u001b[0m\u001b[0m_skip_invalid\u001b[0m\u001b[1;33m:\u001b[0m\u001b[1;33m\u001b[0m\u001b[1;33m\u001b[0m\u001b[0m\n",
      "\u001b[1;32mD:\\anaconda\\lib\\site-packages\\_plotly_utils\\basevalidators.py\u001b[0m in \u001b[0;36mvalidate_coerce\u001b[1;34m(self, v)\u001b[0m\n\u001b[0;32m    594\u001b[0m             \u001b[0mv\u001b[0m \u001b[1;33m=\u001b[0m \u001b[0mself\u001b[0m\u001b[1;33m.\u001b[0m\u001b[0mperform_replacemenet\u001b[0m\u001b[1;33m(\u001b[0m\u001b[0mv\u001b[0m\u001b[1;33m)\u001b[0m\u001b[1;33m\u001b[0m\u001b[1;33m\u001b[0m\u001b[0m\n\u001b[0;32m    595\u001b[0m             \u001b[1;32mif\u001b[0m \u001b[1;32mnot\u001b[0m \u001b[0mself\u001b[0m\u001b[1;33m.\u001b[0m\u001b[0min_values\u001b[0m\u001b[1;33m(\u001b[0m\u001b[0mv\u001b[0m\u001b[1;33m)\u001b[0m\u001b[1;33m:\u001b[0m\u001b[1;33m\u001b[0m\u001b[1;33m\u001b[0m\u001b[0m\n\u001b[1;32m--> 596\u001b[1;33m                 \u001b[0mself\u001b[0m\u001b[1;33m.\u001b[0m\u001b[0mraise_invalid_val\u001b[0m\u001b[1;33m(\u001b[0m\u001b[0mv\u001b[0m\u001b[1;33m)\u001b[0m\u001b[1;33m\u001b[0m\u001b[1;33m\u001b[0m\u001b[0m\n\u001b[0m\u001b[0;32m    597\u001b[0m         \u001b[1;32mreturn\u001b[0m \u001b[0mv\u001b[0m\u001b[1;33m\u001b[0m\u001b[1;33m\u001b[0m\u001b[0m\n\u001b[0;32m    598\u001b[0m \u001b[1;33m\u001b[0m\u001b[0m\n",
      "\u001b[1;32mD:\\anaconda\\lib\\site-packages\\_plotly_utils\\basevalidators.py\u001b[0m in \u001b[0;36mraise_invalid_val\u001b[1;34m(self, v, inds)\u001b[0m\n\u001b[0;32m    283\u001b[0m                 \u001b[0mtyp\u001b[0m\u001b[1;33m=\u001b[0m\u001b[0mtype_str\u001b[0m\u001b[1;33m(\u001b[0m\u001b[0mv\u001b[0m\u001b[1;33m)\u001b[0m\u001b[1;33m,\u001b[0m\u001b[1;33m\u001b[0m\u001b[1;33m\u001b[0m\u001b[0m\n\u001b[0;32m    284\u001b[0m                 \u001b[0mv\u001b[0m\u001b[1;33m=\u001b[0m\u001b[0mrepr\u001b[0m\u001b[1;33m(\u001b[0m\u001b[0mv\u001b[0m\u001b[1;33m)\u001b[0m\u001b[1;33m,\u001b[0m\u001b[1;33m\u001b[0m\u001b[1;33m\u001b[0m\u001b[0m\n\u001b[1;32m--> 285\u001b[1;33m                 \u001b[0mvalid_clr_desc\u001b[0m\u001b[1;33m=\u001b[0m\u001b[0mself\u001b[0m\u001b[1;33m.\u001b[0m\u001b[0mdescription\u001b[0m\u001b[1;33m(\u001b[0m\u001b[1;33m)\u001b[0m\u001b[1;33m,\u001b[0m\u001b[1;33m\u001b[0m\u001b[1;33m\u001b[0m\u001b[0m\n\u001b[0m\u001b[0;32m    286\u001b[0m             )\n\u001b[0;32m    287\u001b[0m         )\n",
      "\u001b[1;31mValueError\u001b[0m: \n    Invalid value of type 'builtins.str' received for the 'locationmode' property of choropleth\n        Received value: 'IN'\n\n    The 'locationmode' property is an enumeration that may be specified as:\n      - One of the following enumeration values:\n            ['ISO-3', 'USA-states', 'country names', 'geojson-id']"
     ]
    }
   ],
   "source": [
    "choromap = go.Figure(data = [data],layout = layout)\n",
    "iplot(choromap)"
   ]
  },
  {
   "cell_type": "code",
   "execution_count": 31,
   "metadata": {},
   "outputs": [],
   "source": [
    "covid_india=covid_india.drop([0])"
   ]
  },
  {
   "cell_type": "code",
   "execution_count": 32,
   "metadata": {},
   "outputs": [
    {
     "data": {
      "text/plain": [
       "78055"
      ]
     },
     "execution_count": 32,
     "metadata": {},
     "output_type": "execute_result"
    }
   ],
   "source": [
    "covid_india['confirmed'].sum()"
   ]
  },
  {
   "cell_type": "code",
   "execution_count": 33,
   "metadata": {},
   "outputs": [],
   "source": [
    "covid19=covid_india[['state','confirmed','active','recovered','deaths']]"
   ]
  },
  {
   "cell_type": "code",
   "execution_count": 34,
   "metadata": {},
   "outputs": [
    {
     "data": {
      "text/html": [
       "<style  type=\"text/css\" >\n",
       "    #T_b2d62ea8_9566_11ea_ac40_8c1645b04de6row0_col1 {\n",
       "            background-color:  #67000d;\n",
       "            color:  #f1f1f1;\n",
       "        }    #T_b2d62ea8_9566_11ea_ac40_8c1645b04de6row0_col2 {\n",
       "            background-color:  #67000d;\n",
       "            color:  #f1f1f1;\n",
       "        }    #T_b2d62ea8_9566_11ea_ac40_8c1645b04de6row0_col3 {\n",
       "            background-color:  #67000d;\n",
       "            color:  #f1f1f1;\n",
       "        }    #T_b2d62ea8_9566_11ea_ac40_8c1645b04de6row0_col4 {\n",
       "            background-color:  #67000d;\n",
       "            color:  #f1f1f1;\n",
       "        }    #T_b2d62ea8_9566_11ea_ac40_8c1645b04de6row1_col1 {\n",
       "            background-color:  #fc9879;\n",
       "            color:  #000000;\n",
       "        }    #T_b2d62ea8_9566_11ea_ac40_8c1645b04de6row1_col2 {\n",
       "            background-color:  #fcb79c;\n",
       "            color:  #000000;\n",
       "        }    #T_b2d62ea8_9566_11ea_ac40_8c1645b04de6row1_col3 {\n",
       "            background-color:  #ea362a;\n",
       "            color:  #f1f1f1;\n",
       "        }    #T_b2d62ea8_9566_11ea_ac40_8c1645b04de6row1_col4 {\n",
       "            background-color:  #f34c37;\n",
       "            color:  #000000;\n",
       "        }    #T_b2d62ea8_9566_11ea_ac40_8c1645b04de6row2_col1 {\n",
       "            background-color:  #fc9879;\n",
       "            color:  #000000;\n",
       "        }    #T_b2d62ea8_9566_11ea_ac40_8c1645b04de6row2_col2 {\n",
       "            background-color:  #fc9777;\n",
       "            color:  #000000;\n",
       "        }    #T_b2d62ea8_9566_11ea_ac40_8c1645b04de6row2_col3 {\n",
       "            background-color:  #fc8d6d;\n",
       "            color:  #000000;\n",
       "        }    #T_b2d62ea8_9566_11ea_ac40_8c1645b04de6row2_col4 {\n",
       "            background-color:  #feeae1;\n",
       "            color:  #000000;\n",
       "        }    #T_b2d62ea8_9566_11ea_ac40_8c1645b04de6row3_col1 {\n",
       "            background-color:  #fca98c;\n",
       "            color:  #000000;\n",
       "        }    #T_b2d62ea8_9566_11ea_ac40_8c1645b04de6row3_col2 {\n",
       "            background-color:  #fcb89e;\n",
       "            color:  #000000;\n",
       "        }    #T_b2d62ea8_9566_11ea_ac40_8c1645b04de6row3_col3 {\n",
       "            background-color:  #fa6547;\n",
       "            color:  #000000;\n",
       "        }    #T_b2d62ea8_9566_11ea_ac40_8c1645b04de6row3_col4 {\n",
       "            background-color:  #fee3d7;\n",
       "            color:  #000000;\n",
       "        }    #T_b2d62ea8_9566_11ea_ac40_8c1645b04de6row4_col1 {\n",
       "            background-color:  #fdd4c2;\n",
       "            color:  #000000;\n",
       "        }    #T_b2d62ea8_9566_11ea_ac40_8c1645b04de6row4_col2 {\n",
       "            background-color:  #fee7dc;\n",
       "            color:  #000000;\n",
       "        }    #T_b2d62ea8_9566_11ea_ac40_8c1645b04de6row4_col3 {\n",
       "            background-color:  #fb7656;\n",
       "            color:  #000000;\n",
       "        }    #T_b2d62ea8_9566_11ea_ac40_8c1645b04de6row4_col4 {\n",
       "            background-color:  #fee1d3;\n",
       "            color:  #000000;\n",
       "        }    #T_b2d62ea8_9566_11ea_ac40_8c1645b04de6row5_col1 {\n",
       "            background-color:  #fdd5c4;\n",
       "            color:  #000000;\n",
       "        }    #T_b2d62ea8_9566_11ea_ac40_8c1645b04de6row5_col2 {\n",
       "            background-color:  #fee5d8;\n",
       "            color:  #000000;\n",
       "        }    #T_b2d62ea8_9566_11ea_ac40_8c1645b04de6row5_col3 {\n",
       "            background-color:  #fc9777;\n",
       "            color:  #000000;\n",
       "        }    #T_b2d62ea8_9566_11ea_ac40_8c1645b04de6row5_col4 {\n",
       "            background-color:  #fcbfa7;\n",
       "            color:  #000000;\n",
       "        }    #T_b2d62ea8_9566_11ea_ac40_8c1645b04de6row6_col1 {\n",
       "            background-color:  #fedaca;\n",
       "            color:  #000000;\n",
       "        }    #T_b2d62ea8_9566_11ea_ac40_8c1645b04de6row6_col2 {\n",
       "            background-color:  #fee7db;\n",
       "            color:  #000000;\n",
       "        }    #T_b2d62ea8_9566_11ea_ac40_8c1645b04de6row6_col3 {\n",
       "            background-color:  #fc997a;\n",
       "            color:  #000000;\n",
       "        }    #T_b2d62ea8_9566_11ea_ac40_8c1645b04de6row6_col4 {\n",
       "            background-color:  #fee7db;\n",
       "            color:  #000000;\n",
       "        }    #T_b2d62ea8_9566_11ea_ac40_8c1645b04de6row7_col1 {\n",
       "            background-color:  #fee7db;\n",
       "            color:  #000000;\n",
       "        }    #T_b2d62ea8_9566_11ea_ac40_8c1645b04de6row7_col2 {\n",
       "            background-color:  #fee9df;\n",
       "            color:  #000000;\n",
       "        }    #T_b2d62ea8_9566_11ea_ac40_8c1645b04de6row7_col3 {\n",
       "            background-color:  #fee0d2;\n",
       "            color:  #000000;\n",
       "        }    #T_b2d62ea8_9566_11ea_ac40_8c1645b04de6row7_col4 {\n",
       "            background-color:  #fdc6b0;\n",
       "            color:  #000000;\n",
       "        }    #T_b2d62ea8_9566_11ea_ac40_8c1645b04de6row8_col1 {\n",
       "            background-color:  #fee7dc;\n",
       "            color:  #000000;\n",
       "        }    #T_b2d62ea8_9566_11ea_ac40_8c1645b04de6row8_col2 {\n",
       "            background-color:  #ffede5;\n",
       "            color:  #000000;\n",
       "        }    #T_b2d62ea8_9566_11ea_ac40_8c1645b04de6row8_col3 {\n",
       "            background-color:  #fdc9b3;\n",
       "            color:  #000000;\n",
       "        }    #T_b2d62ea8_9566_11ea_ac40_8c1645b04de6row8_col4 {\n",
       "            background-color:  #ffede5;\n",
       "            color:  #000000;\n",
       "        }    #T_b2d62ea8_9566_11ea_ac40_8c1645b04de6row9_col1 {\n",
       "            background-color:  #fee8de;\n",
       "            color:  #000000;\n",
       "        }    #T_b2d62ea8_9566_11ea_ac40_8c1645b04de6row9_col2 {\n",
       "            background-color:  #fee7db;\n",
       "            color:  #000000;\n",
       "        }    #T_b2d62ea8_9566_11ea_ac40_8c1645b04de6row9_col3 {\n",
       "            background-color:  #ffefe8;\n",
       "            color:  #000000;\n",
       "        }    #T_b2d62ea8_9566_11ea_ac40_8c1645b04de6row9_col4 {\n",
       "            background-color:  #fff0e8;\n",
       "            color:  #000000;\n",
       "        }    #T_b2d62ea8_9566_11ea_ac40_8c1645b04de6row10_col1 {\n",
       "            background-color:  #ffece4;\n",
       "            color:  #000000;\n",
       "        }    #T_b2d62ea8_9566_11ea_ac40_8c1645b04de6row10_col2 {\n",
       "            background-color:  #fff2eb;\n",
       "            color:  #000000;\n",
       "        }    #T_b2d62ea8_9566_11ea_ac40_8c1645b04de6row10_col3 {\n",
       "            background-color:  #fdd3c1;\n",
       "            color:  #000000;\n",
       "        }    #T_b2d62ea8_9566_11ea_ac40_8c1645b04de6row10_col4 {\n",
       "            background-color:  #fff0e8;\n",
       "            color:  #000000;\n",
       "        }    #T_b2d62ea8_9566_11ea_ac40_8c1645b04de6row11_col1 {\n",
       "            background-color:  #ffefe8;\n",
       "            color:  #000000;\n",
       "        }    #T_b2d62ea8_9566_11ea_ac40_8c1645b04de6row11_col2 {\n",
       "            background-color:  #fff1ea;\n",
       "            color:  #000000;\n",
       "        }    #T_b2d62ea8_9566_11ea_ac40_8c1645b04de6row11_col3 {\n",
       "            background-color:  #fee8dd;\n",
       "            color:  #000000;\n",
       "        }    #T_b2d62ea8_9566_11ea_ac40_8c1645b04de6row11_col4 {\n",
       "            background-color:  #fff0e8;\n",
       "            color:  #000000;\n",
       "        }    #T_b2d62ea8_9566_11ea_ac40_8c1645b04de6row12_col1 {\n",
       "            background-color:  #ffefe8;\n",
       "            color:  #000000;\n",
       "        }    #T_b2d62ea8_9566_11ea_ac40_8c1645b04de6row12_col2 {\n",
       "            background-color:  #fff1ea;\n",
       "            color:  #000000;\n",
       "        }    #T_b2d62ea8_9566_11ea_ac40_8c1645b04de6row12_col3 {\n",
       "            background-color:  #fee7dc;\n",
       "            color:  #000000;\n",
       "        }    #T_b2d62ea8_9566_11ea_ac40_8c1645b04de6row12_col4 {\n",
       "            background-color:  #fff4ee;\n",
       "            color:  #000000;\n",
       "        }    #T_b2d62ea8_9566_11ea_ac40_8c1645b04de6row13_col1 {\n",
       "            background-color:  #ffefe8;\n",
       "            color:  #000000;\n",
       "        }    #T_b2d62ea8_9566_11ea_ac40_8c1645b04de6row13_col2 {\n",
       "            background-color:  #fff0e9;\n",
       "            color:  #000000;\n",
       "        }    #T_b2d62ea8_9566_11ea_ac40_8c1645b04de6row13_col3 {\n",
       "            background-color:  #feeae0;\n",
       "            color:  #000000;\n",
       "        }    #T_b2d62ea8_9566_11ea_ac40_8c1645b04de6row13_col4 {\n",
       "            background-color:  #fff4ef;\n",
       "            color:  #000000;\n",
       "        }    #T_b2d62ea8_9566_11ea_ac40_8c1645b04de6row14_col1 {\n",
       "            background-color:  #fff0e9;\n",
       "            color:  #000000;\n",
       "        }    #T_b2d62ea8_9566_11ea_ac40_8c1645b04de6row14_col2 {\n",
       "            background-color:  #fff2ec;\n",
       "            color:  #000000;\n",
       "        }    #T_b2d62ea8_9566_11ea_ac40_8c1645b04de6row14_col3 {\n",
       "            background-color:  #fee8de;\n",
       "            color:  #000000;\n",
       "        }    #T_b2d62ea8_9566_11ea_ac40_8c1645b04de6row14_col4 {\n",
       "            background-color:  #fff4ee;\n",
       "            color:  #000000;\n",
       "        }    #T_b2d62ea8_9566_11ea_ac40_8c1645b04de6row15_col1 {\n",
       "            background-color:  #fff2eb;\n",
       "            color:  #000000;\n",
       "        }    #T_b2d62ea8_9566_11ea_ac40_8c1645b04de6row15_col2 {\n",
       "            background-color:  #fff2eb;\n",
       "            color:  #000000;\n",
       "        }    #T_b2d62ea8_9566_11ea_ac40_8c1645b04de6row15_col3 {\n",
       "            background-color:  #fff1ea;\n",
       "            color:  #000000;\n",
       "        }    #T_b2d62ea8_9566_11ea_ac40_8c1645b04de6row15_col4 {\n",
       "            background-color:  #fff5f0;\n",
       "            color:  #000000;\n",
       "        }    #T_b2d62ea8_9566_11ea_ac40_8c1645b04de6row16_col1 {\n",
       "            background-color:  #fff2eb;\n",
       "            color:  #000000;\n",
       "        }    #T_b2d62ea8_9566_11ea_ac40_8c1645b04de6row16_col2 {\n",
       "            background-color:  #fff5f0;\n",
       "            color:  #000000;\n",
       "        }    #T_b2d62ea8_9566_11ea_ac40_8c1645b04de6row16_col3 {\n",
       "            background-color:  #fee7db;\n",
       "            color:  #000000;\n",
       "        }    #T_b2d62ea8_9566_11ea_ac40_8c1645b04de6row16_col4 {\n",
       "            background-color:  #fff4ef;\n",
       "            color:  #000000;\n",
       "        }    #T_b2d62ea8_9566_11ea_ac40_8c1645b04de6row17_col1 {\n",
       "            background-color:  #fff4ef;\n",
       "            color:  #000000;\n",
       "        }    #T_b2d62ea8_9566_11ea_ac40_8c1645b04de6row17_col2 {\n",
       "            background-color:  #fff4ee;\n",
       "            color:  #000000;\n",
       "        }    #T_b2d62ea8_9566_11ea_ac40_8c1645b04de6row17_col3 {\n",
       "            background-color:  #fff4ef;\n",
       "            color:  #000000;\n",
       "        }    #T_b2d62ea8_9566_11ea_ac40_8c1645b04de6row17_col4 {\n",
       "            background-color:  #fff5f0;\n",
       "            color:  #000000;\n",
       "        }    #T_b2d62ea8_9566_11ea_ac40_8c1645b04de6row18_col1 {\n",
       "            background-color:  #fff4ef;\n",
       "            color:  #000000;\n",
       "        }    #T_b2d62ea8_9566_11ea_ac40_8c1645b04de6row18_col2 {\n",
       "            background-color:  #fff4ef;\n",
       "            color:  #000000;\n",
       "        }    #T_b2d62ea8_9566_11ea_ac40_8c1645b04de6row18_col3 {\n",
       "            background-color:  #fff2ec;\n",
       "            color:  #000000;\n",
       "        }    #T_b2d62ea8_9566_11ea_ac40_8c1645b04de6row18_col4 {\n",
       "            background-color:  #fff5f0;\n",
       "            color:  #000000;\n",
       "        }    #T_b2d62ea8_9566_11ea_ac40_8c1645b04de6row19_col1 {\n",
       "            background-color:  #fff4ef;\n",
       "            color:  #000000;\n",
       "        }    #T_b2d62ea8_9566_11ea_ac40_8c1645b04de6row19_col2 {\n",
       "            background-color:  #fff4ee;\n",
       "            color:  #000000;\n",
       "        }    #T_b2d62ea8_9566_11ea_ac40_8c1645b04de6row19_col3 {\n",
       "            background-color:  #fff5f0;\n",
       "            color:  #000000;\n",
       "        }    #T_b2d62ea8_9566_11ea_ac40_8c1645b04de6row19_col4 {\n",
       "            background-color:  #fff5f0;\n",
       "            color:  #000000;\n",
       "        }    #T_b2d62ea8_9566_11ea_ac40_8c1645b04de6row20_col1 {\n",
       "            background-color:  #fff5f0;\n",
       "            color:  #000000;\n",
       "        }    #T_b2d62ea8_9566_11ea_ac40_8c1645b04de6row20_col2 {\n",
       "            background-color:  #fff5f0;\n",
       "            color:  #000000;\n",
       "        }    #T_b2d62ea8_9566_11ea_ac40_8c1645b04de6row20_col3 {\n",
       "            background-color:  #fff4ee;\n",
       "            color:  #000000;\n",
       "        }    #T_b2d62ea8_9566_11ea_ac40_8c1645b04de6row20_col4 {\n",
       "            background-color:  #fff5f0;\n",
       "            color:  #000000;\n",
       "        }    #T_b2d62ea8_9566_11ea_ac40_8c1645b04de6row21_col1 {\n",
       "            background-color:  #fff5f0;\n",
       "            color:  #000000;\n",
       "        }    #T_b2d62ea8_9566_11ea_ac40_8c1645b04de6row21_col2 {\n",
       "            background-color:  #fff5f0;\n",
       "            color:  #000000;\n",
       "        }    #T_b2d62ea8_9566_11ea_ac40_8c1645b04de6row21_col3 {\n",
       "            background-color:  #fff4ef;\n",
       "            color:  #000000;\n",
       "        }    #T_b2d62ea8_9566_11ea_ac40_8c1645b04de6row21_col4 {\n",
       "            background-color:  #fff5f0;\n",
       "            color:  #000000;\n",
       "        }    #T_b2d62ea8_9566_11ea_ac40_8c1645b04de6row22_col1 {\n",
       "            background-color:  #fff5f0;\n",
       "            color:  #000000;\n",
       "        }    #T_b2d62ea8_9566_11ea_ac40_8c1645b04de6row22_col2 {\n",
       "            background-color:  #fff5f0;\n",
       "            color:  #000000;\n",
       "        }    #T_b2d62ea8_9566_11ea_ac40_8c1645b04de6row22_col3 {\n",
       "            background-color:  #fff4ef;\n",
       "            color:  #000000;\n",
       "        }    #T_b2d62ea8_9566_11ea_ac40_8c1645b04de6row22_col4 {\n",
       "            background-color:  #fff5f0;\n",
       "            color:  #000000;\n",
       "        }    #T_b2d62ea8_9566_11ea_ac40_8c1645b04de6row23_col1 {\n",
       "            background-color:  #fff5f0;\n",
       "            color:  #000000;\n",
       "        }    #T_b2d62ea8_9566_11ea_ac40_8c1645b04de6row23_col2 {\n",
       "            background-color:  #fff5f0;\n",
       "            color:  #000000;\n",
       "        }    #T_b2d62ea8_9566_11ea_ac40_8c1645b04de6row23_col3 {\n",
       "            background-color:  #fff4ee;\n",
       "            color:  #000000;\n",
       "        }    #T_b2d62ea8_9566_11ea_ac40_8c1645b04de6row23_col4 {\n",
       "            background-color:  #fff5f0;\n",
       "            color:  #000000;\n",
       "        }    #T_b2d62ea8_9566_11ea_ac40_8c1645b04de6row24_col1 {\n",
       "            background-color:  #fff5f0;\n",
       "            color:  #000000;\n",
       "        }    #T_b2d62ea8_9566_11ea_ac40_8c1645b04de6row24_col2 {\n",
       "            background-color:  #fff5f0;\n",
       "            color:  #000000;\n",
       "        }    #T_b2d62ea8_9566_11ea_ac40_8c1645b04de6row24_col3 {\n",
       "            background-color:  #fff4ef;\n",
       "            color:  #000000;\n",
       "        }    #T_b2d62ea8_9566_11ea_ac40_8c1645b04de6row24_col4 {\n",
       "            background-color:  #fff5f0;\n",
       "            color:  #000000;\n",
       "        }    #T_b2d62ea8_9566_11ea_ac40_8c1645b04de6row25_col1 {\n",
       "            background-color:  #fff5f0;\n",
       "            color:  #000000;\n",
       "        }    #T_b2d62ea8_9566_11ea_ac40_8c1645b04de6row25_col2 {\n",
       "            background-color:  #fff5f0;\n",
       "            color:  #000000;\n",
       "        }    #T_b2d62ea8_9566_11ea_ac40_8c1645b04de6row25_col3 {\n",
       "            background-color:  #fff4ef;\n",
       "            color:  #000000;\n",
       "        }    #T_b2d62ea8_9566_11ea_ac40_8c1645b04de6row25_col4 {\n",
       "            background-color:  #fff5f0;\n",
       "            color:  #000000;\n",
       "        }    #T_b2d62ea8_9566_11ea_ac40_8c1645b04de6row26_col1 {\n",
       "            background-color:  #fff5f0;\n",
       "            color:  #000000;\n",
       "        }    #T_b2d62ea8_9566_11ea_ac40_8c1645b04de6row26_col2 {\n",
       "            background-color:  #fff5f0;\n",
       "            color:  #000000;\n",
       "        }    #T_b2d62ea8_9566_11ea_ac40_8c1645b04de6row26_col3 {\n",
       "            background-color:  #fff5f0;\n",
       "            color:  #000000;\n",
       "        }    #T_b2d62ea8_9566_11ea_ac40_8c1645b04de6row26_col4 {\n",
       "            background-color:  #fff5f0;\n",
       "            color:  #000000;\n",
       "        }    #T_b2d62ea8_9566_11ea_ac40_8c1645b04de6row27_col1 {\n",
       "            background-color:  #fff5f0;\n",
       "            color:  #000000;\n",
       "        }    #T_b2d62ea8_9566_11ea_ac40_8c1645b04de6row27_col2 {\n",
       "            background-color:  #fff5f0;\n",
       "            color:  #000000;\n",
       "        }    #T_b2d62ea8_9566_11ea_ac40_8c1645b04de6row27_col3 {\n",
       "            background-color:  #fff5f0;\n",
       "            color:  #000000;\n",
       "        }    #T_b2d62ea8_9566_11ea_ac40_8c1645b04de6row27_col4 {\n",
       "            background-color:  #fff5f0;\n",
       "            color:  #000000;\n",
       "        }    #T_b2d62ea8_9566_11ea_ac40_8c1645b04de6row28_col1 {\n",
       "            background-color:  #fff5f0;\n",
       "            color:  #000000;\n",
       "        }    #T_b2d62ea8_9566_11ea_ac40_8c1645b04de6row28_col2 {\n",
       "            background-color:  #fff5f0;\n",
       "            color:  #000000;\n",
       "        }    #T_b2d62ea8_9566_11ea_ac40_8c1645b04de6row28_col3 {\n",
       "            background-color:  #fff5f0;\n",
       "            color:  #000000;\n",
       "        }    #T_b2d62ea8_9566_11ea_ac40_8c1645b04de6row28_col4 {\n",
       "            background-color:  #fff5f0;\n",
       "            color:  #000000;\n",
       "        }    #T_b2d62ea8_9566_11ea_ac40_8c1645b04de6row29_col1 {\n",
       "            background-color:  #fff5f0;\n",
       "            color:  #000000;\n",
       "        }    #T_b2d62ea8_9566_11ea_ac40_8c1645b04de6row29_col2 {\n",
       "            background-color:  #fff5f0;\n",
       "            color:  #000000;\n",
       "        }    #T_b2d62ea8_9566_11ea_ac40_8c1645b04de6row29_col3 {\n",
       "            background-color:  #fff5f0;\n",
       "            color:  #000000;\n",
       "        }    #T_b2d62ea8_9566_11ea_ac40_8c1645b04de6row29_col4 {\n",
       "            background-color:  #fff5f0;\n",
       "            color:  #000000;\n",
       "        }    #T_b2d62ea8_9566_11ea_ac40_8c1645b04de6row30_col1 {\n",
       "            background-color:  #fff5f0;\n",
       "            color:  #000000;\n",
       "        }    #T_b2d62ea8_9566_11ea_ac40_8c1645b04de6row30_col2 {\n",
       "            background-color:  #fff5f0;\n",
       "            color:  #000000;\n",
       "        }    #T_b2d62ea8_9566_11ea_ac40_8c1645b04de6row30_col3 {\n",
       "            background-color:  #fff5f0;\n",
       "            color:  #000000;\n",
       "        }    #T_b2d62ea8_9566_11ea_ac40_8c1645b04de6row30_col4 {\n",
       "            background-color:  #fff5f0;\n",
       "            color:  #000000;\n",
       "        }    #T_b2d62ea8_9566_11ea_ac40_8c1645b04de6row31_col1 {\n",
       "            background-color:  #fff5f0;\n",
       "            color:  #000000;\n",
       "        }    #T_b2d62ea8_9566_11ea_ac40_8c1645b04de6row31_col2 {\n",
       "            background-color:  #fff5f0;\n",
       "            color:  #000000;\n",
       "        }    #T_b2d62ea8_9566_11ea_ac40_8c1645b04de6row31_col3 {\n",
       "            background-color:  #fff5f0;\n",
       "            color:  #000000;\n",
       "        }    #T_b2d62ea8_9566_11ea_ac40_8c1645b04de6row31_col4 {\n",
       "            background-color:  #fff5f0;\n",
       "            color:  #000000;\n",
       "        }    #T_b2d62ea8_9566_11ea_ac40_8c1645b04de6row32_col1 {\n",
       "            background-color:  #fff5f0;\n",
       "            color:  #000000;\n",
       "        }    #T_b2d62ea8_9566_11ea_ac40_8c1645b04de6row32_col2 {\n",
       "            background-color:  #fff5f0;\n",
       "            color:  #000000;\n",
       "        }    #T_b2d62ea8_9566_11ea_ac40_8c1645b04de6row32_col3 {\n",
       "            background-color:  #fff5f0;\n",
       "            color:  #000000;\n",
       "        }    #T_b2d62ea8_9566_11ea_ac40_8c1645b04de6row32_col4 {\n",
       "            background-color:  #fff5f0;\n",
       "            color:  #000000;\n",
       "        }    #T_b2d62ea8_9566_11ea_ac40_8c1645b04de6row33_col1 {\n",
       "            background-color:  #fff5f0;\n",
       "            color:  #000000;\n",
       "        }    #T_b2d62ea8_9566_11ea_ac40_8c1645b04de6row33_col2 {\n",
       "            background-color:  #fff5f0;\n",
       "            color:  #000000;\n",
       "        }    #T_b2d62ea8_9566_11ea_ac40_8c1645b04de6row33_col3 {\n",
       "            background-color:  #fff5f0;\n",
       "            color:  #000000;\n",
       "        }    #T_b2d62ea8_9566_11ea_ac40_8c1645b04de6row33_col4 {\n",
       "            background-color:  #fff5f0;\n",
       "            color:  #000000;\n",
       "        }    #T_b2d62ea8_9566_11ea_ac40_8c1645b04de6row34_col1 {\n",
       "            background-color:  #fff5f0;\n",
       "            color:  #000000;\n",
       "        }    #T_b2d62ea8_9566_11ea_ac40_8c1645b04de6row34_col2 {\n",
       "            background-color:  #fff5f0;\n",
       "            color:  #000000;\n",
       "        }    #T_b2d62ea8_9566_11ea_ac40_8c1645b04de6row34_col3 {\n",
       "            background-color:  #fff5f0;\n",
       "            color:  #000000;\n",
       "        }    #T_b2d62ea8_9566_11ea_ac40_8c1645b04de6row34_col4 {\n",
       "            background-color:  #fff5f0;\n",
       "            color:  #000000;\n",
       "        }    #T_b2d62ea8_9566_11ea_ac40_8c1645b04de6row35_col1 {\n",
       "            background-color:  #fff5f0;\n",
       "            color:  #000000;\n",
       "        }    #T_b2d62ea8_9566_11ea_ac40_8c1645b04de6row35_col2 {\n",
       "            background-color:  #fff5f0;\n",
       "            color:  #000000;\n",
       "        }    #T_b2d62ea8_9566_11ea_ac40_8c1645b04de6row35_col3 {\n",
       "            background-color:  #fff5f0;\n",
       "            color:  #000000;\n",
       "        }    #T_b2d62ea8_9566_11ea_ac40_8c1645b04de6row35_col4 {\n",
       "            background-color:  #fff5f0;\n",
       "            color:  #000000;\n",
       "        }    #T_b2d62ea8_9566_11ea_ac40_8c1645b04de6row36_col1 {\n",
       "            background-color:  #fff5f0;\n",
       "            color:  #000000;\n",
       "        }    #T_b2d62ea8_9566_11ea_ac40_8c1645b04de6row36_col2 {\n",
       "            background-color:  #fff5f0;\n",
       "            color:  #000000;\n",
       "        }    #T_b2d62ea8_9566_11ea_ac40_8c1645b04de6row36_col3 {\n",
       "            background-color:  #fff5f0;\n",
       "            color:  #000000;\n",
       "        }    #T_b2d62ea8_9566_11ea_ac40_8c1645b04de6row36_col4 {\n",
       "            background-color:  #fff5f0;\n",
       "            color:  #000000;\n",
       "        }</style><table id=\"T_b2d62ea8_9566_11ea_ac40_8c1645b04de6\" ><thead>    <tr>        <th class=\"blank level0\" ></th>        <th class=\"col_heading level0 col0\" >state</th>        <th class=\"col_heading level0 col1\" >confirmed</th>        <th class=\"col_heading level0 col2\" >active</th>        <th class=\"col_heading level0 col3\" >recovered</th>        <th class=\"col_heading level0 col4\" >deaths</th>    </tr></thead><tbody>\n",
       "                <tr>\n",
       "                        <th id=\"T_b2d62ea8_9566_11ea_ac40_8c1645b04de6level0_row0\" class=\"row_heading level0 row0\" >1</th>\n",
       "                        <td id=\"T_b2d62ea8_9566_11ea_ac40_8c1645b04de6row0_col0\" class=\"data row0 col0\" >Maharashtra</td>\n",
       "                        <td id=\"T_b2d62ea8_9566_11ea_ac40_8c1645b04de6row0_col1\" class=\"data row0 col1\" >25922</td>\n",
       "                        <td id=\"T_b2d62ea8_9566_11ea_ac40_8c1645b04de6row0_col2\" class=\"data row0 col2\" >19400</td>\n",
       "                        <td id=\"T_b2d62ea8_9566_11ea_ac40_8c1645b04de6row0_col3\" class=\"data row0 col3\" >5547</td>\n",
       "                        <td id=\"T_b2d62ea8_9566_11ea_ac40_8c1645b04de6row0_col4\" class=\"data row0 col4\" >975</td>\n",
       "            </tr>\n",
       "            <tr>\n",
       "                        <th id=\"T_b2d62ea8_9566_11ea_ac40_8c1645b04de6level0_row1\" class=\"row_heading level0 row1\" >2</th>\n",
       "                        <td id=\"T_b2d62ea8_9566_11ea_ac40_8c1645b04de6row1_col0\" class=\"data row1 col0\" >Gujarat</td>\n",
       "                        <td id=\"T_b2d62ea8_9566_11ea_ac40_8c1645b04de6row1_col1\" class=\"data row1 col1\" >9268</td>\n",
       "                        <td id=\"T_b2d62ea8_9566_11ea_ac40_8c1645b04de6row1_col2\" class=\"data row1 col2\" >5140</td>\n",
       "                        <td id=\"T_b2d62ea8_9566_11ea_ac40_8c1645b04de6row1_col3\" class=\"data row1 col3\" >3562</td>\n",
       "                        <td id=\"T_b2d62ea8_9566_11ea_ac40_8c1645b04de6row1_col4\" class=\"data row1 col4\" >566</td>\n",
       "            </tr>\n",
       "            <tr>\n",
       "                        <th id=\"T_b2d62ea8_9566_11ea_ac40_8c1645b04de6level0_row2\" class=\"row_heading level0 row2\" >3</th>\n",
       "                        <td id=\"T_b2d62ea8_9566_11ea_ac40_8c1645b04de6row2_col0\" class=\"data row2 col0\" >Tamil Nadu</td>\n",
       "                        <td id=\"T_b2d62ea8_9566_11ea_ac40_8c1645b04de6row2_col1\" class=\"data row2 col1\" >9227</td>\n",
       "                        <td id=\"T_b2d62ea8_9566_11ea_ac40_8c1645b04de6row2_col2\" class=\"data row2 col2\" >6987</td>\n",
       "                        <td id=\"T_b2d62ea8_9566_11ea_ac40_8c1645b04de6row2_col3\" class=\"data row2 col3\" >2176</td>\n",
       "                        <td id=\"T_b2d62ea8_9566_11ea_ac40_8c1645b04de6row2_col4\" class=\"data row2 col4\" >64</td>\n",
       "            </tr>\n",
       "            <tr>\n",
       "                        <th id=\"T_b2d62ea8_9566_11ea_ac40_8c1645b04de6level0_row3\" class=\"row_heading level0 row3\" >4</th>\n",
       "                        <td id=\"T_b2d62ea8_9566_11ea_ac40_8c1645b04de6row3_col0\" class=\"data row3 col0\" >Delhi</td>\n",
       "                        <td id=\"T_b2d62ea8_9566_11ea_ac40_8c1645b04de6row3_col1\" class=\"data row3 col1\" >7998</td>\n",
       "                        <td id=\"T_b2d62ea8_9566_11ea_ac40_8c1645b04de6row3_col2\" class=\"data row3 col2\" >5034</td>\n",
       "                        <td id=\"T_b2d62ea8_9566_11ea_ac40_8c1645b04de6row3_col3\" class=\"data row3 col3\" >2858</td>\n",
       "                        <td id=\"T_b2d62ea8_9566_11ea_ac40_8c1645b04de6row3_col4\" class=\"data row3 col4\" >106</td>\n",
       "            </tr>\n",
       "            <tr>\n",
       "                        <th id=\"T_b2d62ea8_9566_11ea_ac40_8c1645b04de6level0_row4\" class=\"row_heading level0 row4\" >5</th>\n",
       "                        <td id=\"T_b2d62ea8_9566_11ea_ac40_8c1645b04de6row4_col0\" class=\"data row4 col0\" >Rajasthan</td>\n",
       "                        <td id=\"T_b2d62ea8_9566_11ea_ac40_8c1645b04de6row4_col1\" class=\"data row4 col1\" >4328</td>\n",
       "                        <td id=\"T_b2d62ea8_9566_11ea_ac40_8c1645b04de6row4_col2\" class=\"data row4 col2\" >1634</td>\n",
       "                        <td id=\"T_b2d62ea8_9566_11ea_ac40_8c1645b04de6row4_col3\" class=\"data row4 col3\" >2573</td>\n",
       "                        <td id=\"T_b2d62ea8_9566_11ea_ac40_8c1645b04de6row4_col4\" class=\"data row4 col4\" >121</td>\n",
       "            </tr>\n",
       "            <tr>\n",
       "                        <th id=\"T_b2d62ea8_9566_11ea_ac40_8c1645b04de6level0_row5\" class=\"row_heading level0 row5\" >6</th>\n",
       "                        <td id=\"T_b2d62ea8_9566_11ea_ac40_8c1645b04de6row5_col0\" class=\"data row5 col0\" >Madhya Pradesh</td>\n",
       "                        <td id=\"T_b2d62ea8_9566_11ea_ac40_8c1645b04de6row5_col1\" class=\"data row5 col1\" >4173</td>\n",
       "                        <td id=\"T_b2d62ea8_9566_11ea_ac40_8c1645b04de6row5_col2\" class=\"data row5 col2\" >1937</td>\n",
       "                        <td id=\"T_b2d62ea8_9566_11ea_ac40_8c1645b04de6row5_col3\" class=\"data row5 col3\" >2004</td>\n",
       "                        <td id=\"T_b2d62ea8_9566_11ea_ac40_8c1645b04de6row5_col4\" class=\"data row5 col4\" >232</td>\n",
       "            </tr>\n",
       "            <tr>\n",
       "                        <th id=\"T_b2d62ea8_9566_11ea_ac40_8c1645b04de6level0_row6\" class=\"row_heading level0 row6\" >7</th>\n",
       "                        <td id=\"T_b2d62ea8_9566_11ea_ac40_8c1645b04de6row6_col0\" class=\"data row6 col0\" >Uttar Pradesh</td>\n",
       "                        <td id=\"T_b2d62ea8_9566_11ea_ac40_8c1645b04de6row6_col1\" class=\"data row6 col1\" >3758</td>\n",
       "                        <td id=\"T_b2d62ea8_9566_11ea_ac40_8c1645b04de6row6_col2\" class=\"data row6 col2\" >1707</td>\n",
       "                        <td id=\"T_b2d62ea8_9566_11ea_ac40_8c1645b04de6row6_col3\" class=\"data row6 col3\" >1965</td>\n",
       "                        <td id=\"T_b2d62ea8_9566_11ea_ac40_8c1645b04de6row6_col4\" class=\"data row6 col4\" >86</td>\n",
       "            </tr>\n",
       "            <tr>\n",
       "                        <th id=\"T_b2d62ea8_9566_11ea_ac40_8c1645b04de6level0_row7\" class=\"row_heading level0 row7\" >8</th>\n",
       "                        <td id=\"T_b2d62ea8_9566_11ea_ac40_8c1645b04de6row7_col0\" class=\"data row7 col0\" >West Bengal</td>\n",
       "                        <td id=\"T_b2d62ea8_9566_11ea_ac40_8c1645b04de6row7_col1\" class=\"data row7 col1\" >2290</td>\n",
       "                        <td id=\"T_b2d62ea8_9566_11ea_ac40_8c1645b04de6row7_col2\" class=\"data row7 col2\" >1381</td>\n",
       "                        <td id=\"T_b2d62ea8_9566_11ea_ac40_8c1645b04de6row7_col3\" class=\"data row7 col3\" >702</td>\n",
       "                        <td id=\"T_b2d62ea8_9566_11ea_ac40_8c1645b04de6row7_col4\" class=\"data row7 col4\" >207</td>\n",
       "            </tr>\n",
       "            <tr>\n",
       "                        <th id=\"T_b2d62ea8_9566_11ea_ac40_8c1645b04de6level0_row8\" class=\"row_heading level0 row8\" >9</th>\n",
       "                        <td id=\"T_b2d62ea8_9566_11ea_ac40_8c1645b04de6row8_col0\" class=\"data row8 col0\" >Andhra Pradesh</td>\n",
       "                        <td id=\"T_b2d62ea8_9566_11ea_ac40_8c1645b04de6row8_col1\" class=\"data row8 col1\" >2137</td>\n",
       "                        <td id=\"T_b2d62ea8_9566_11ea_ac40_8c1645b04de6row8_col2\" class=\"data row8 col2\" >948</td>\n",
       "                        <td id=\"T_b2d62ea8_9566_11ea_ac40_8c1645b04de6row8_col3\" class=\"data row8 col3\" >1142</td>\n",
       "                        <td id=\"T_b2d62ea8_9566_11ea_ac40_8c1645b04de6row8_col4\" class=\"data row8 col4\" >47</td>\n",
       "            </tr>\n",
       "            <tr>\n",
       "                        <th id=\"T_b2d62ea8_9566_11ea_ac40_8c1645b04de6level0_row9\" class=\"row_heading level0 row9\" >10</th>\n",
       "                        <td id=\"T_b2d62ea8_9566_11ea_ac40_8c1645b04de6row9_col0\" class=\"data row9 col0\" >Punjab</td>\n",
       "                        <td id=\"T_b2d62ea8_9566_11ea_ac40_8c1645b04de6row9_col1\" class=\"data row9 col1\" >1924</td>\n",
       "                        <td id=\"T_b2d62ea8_9566_11ea_ac40_8c1645b04de6row9_col2\" class=\"data row9 col2\" >1692</td>\n",
       "                        <td id=\"T_b2d62ea8_9566_11ea_ac40_8c1645b04de6row9_col3\" class=\"data row9 col3\" >200</td>\n",
       "                        <td id=\"T_b2d62ea8_9566_11ea_ac40_8c1645b04de6row9_col4\" class=\"data row9 col4\" >32</td>\n",
       "            </tr>\n",
       "            <tr>\n",
       "                        <th id=\"T_b2d62ea8_9566_11ea_ac40_8c1645b04de6level0_row10\" class=\"row_heading level0 row10\" >11</th>\n",
       "                        <td id=\"T_b2d62ea8_9566_11ea_ac40_8c1645b04de6row10_col0\" class=\"data row10 col0\" >Telangana</td>\n",
       "                        <td id=\"T_b2d62ea8_9566_11ea_ac40_8c1645b04de6row10_col1\" class=\"data row10 col1\" >1367</td>\n",
       "                        <td id=\"T_b2d62ea8_9566_11ea_ac40_8c1645b04de6row10_col2\" class=\"data row10 col2\" >394</td>\n",
       "                        <td id=\"T_b2d62ea8_9566_11ea_ac40_8c1645b04de6row10_col3\" class=\"data row10 col3\" >939</td>\n",
       "                        <td id=\"T_b2d62ea8_9566_11ea_ac40_8c1645b04de6row10_col4\" class=\"data row10 col4\" >34</td>\n",
       "            </tr>\n",
       "            <tr>\n",
       "                        <th id=\"T_b2d62ea8_9566_11ea_ac40_8c1645b04de6level0_row11\" class=\"row_heading level0 row11\" >12</th>\n",
       "                        <td id=\"T_b2d62ea8_9566_11ea_ac40_8c1645b04de6row11_col0\" class=\"data row11 col0\" >Karnataka</td>\n",
       "                        <td id=\"T_b2d62ea8_9566_11ea_ac40_8c1645b04de6row11_col1\" class=\"data row11 col1\" >959</td>\n",
       "                        <td id=\"T_b2d62ea8_9566_11ea_ac40_8c1645b04de6row11_col2\" class=\"data row11 col2\" >474</td>\n",
       "                        <td id=\"T_b2d62ea8_9566_11ea_ac40_8c1645b04de6row11_col3\" class=\"data row11 col3\" >451</td>\n",
       "                        <td id=\"T_b2d62ea8_9566_11ea_ac40_8c1645b04de6row11_col4\" class=\"data row11 col4\" >33</td>\n",
       "            </tr>\n",
       "            <tr>\n",
       "                        <th id=\"T_b2d62ea8_9566_11ea_ac40_8c1645b04de6level0_row12\" class=\"row_heading level0 row12\" >13</th>\n",
       "                        <td id=\"T_b2d62ea8_9566_11ea_ac40_8c1645b04de6row12_col0\" class=\"data row12 col0\" >Jammu and Kashmir</td>\n",
       "                        <td id=\"T_b2d62ea8_9566_11ea_ac40_8c1645b04de6row12_col1\" class=\"data row12 col1\" >971</td>\n",
       "                        <td id=\"T_b2d62ea8_9566_11ea_ac40_8c1645b04de6row12_col2\" class=\"data row12 col2\" >495</td>\n",
       "                        <td id=\"T_b2d62ea8_9566_11ea_ac40_8c1645b04de6row12_col3\" class=\"data row12 col3\" >466</td>\n",
       "                        <td id=\"T_b2d62ea8_9566_11ea_ac40_8c1645b04de6row12_col4\" class=\"data row12 col4\" >10</td>\n",
       "            </tr>\n",
       "            <tr>\n",
       "                        <th id=\"T_b2d62ea8_9566_11ea_ac40_8c1645b04de6level0_row13\" class=\"row_heading level0 row13\" >14</th>\n",
       "                        <td id=\"T_b2d62ea8_9566_11ea_ac40_8c1645b04de6row13_col0\" class=\"data row13 col0\" >Bihar</td>\n",
       "                        <td id=\"T_b2d62ea8_9566_11ea_ac40_8c1645b04de6row13_col1\" class=\"data row13 col1\" >953</td>\n",
       "                        <td id=\"T_b2d62ea8_9566_11ea_ac40_8c1645b04de6row13_col2\" class=\"data row13 col2\" >564</td>\n",
       "                        <td id=\"T_b2d62ea8_9566_11ea_ac40_8c1645b04de6row13_col3\" class=\"data row13 col3\" >382</td>\n",
       "                        <td id=\"T_b2d62ea8_9566_11ea_ac40_8c1645b04de6row13_col4\" class=\"data row13 col4\" >7</td>\n",
       "            </tr>\n",
       "            <tr>\n",
       "                        <th id=\"T_b2d62ea8_9566_11ea_ac40_8c1645b04de6level0_row14\" class=\"row_heading level0 row14\" >15</th>\n",
       "                        <td id=\"T_b2d62ea8_9566_11ea_ac40_8c1645b04de6row14_col0\" class=\"data row14 col0\" >Haryana</td>\n",
       "                        <td id=\"T_b2d62ea8_9566_11ea_ac40_8c1645b04de6row14_col1\" class=\"data row14 col1\" >793</td>\n",
       "                        <td id=\"T_b2d62ea8_9566_11ea_ac40_8c1645b04de6row14_col2\" class=\"data row14 col2\" >364</td>\n",
       "                        <td id=\"T_b2d62ea8_9566_11ea_ac40_8c1645b04de6row14_col3\" class=\"data row14 col3\" >418</td>\n",
       "                        <td id=\"T_b2d62ea8_9566_11ea_ac40_8c1645b04de6row14_col4\" class=\"data row14 col4\" >11</td>\n",
       "            </tr>\n",
       "            <tr>\n",
       "                        <th id=\"T_b2d62ea8_9566_11ea_ac40_8c1645b04de6level0_row15\" class=\"row_heading level0 row15\" >16</th>\n",
       "                        <td id=\"T_b2d62ea8_9566_11ea_ac40_8c1645b04de6row15_col0\" class=\"data row15 col0\" >Odisha</td>\n",
       "                        <td id=\"T_b2d62ea8_9566_11ea_ac40_8c1645b04de6row15_col1\" class=\"data row15 col1\" >538</td>\n",
       "                        <td id=\"T_b2d62ea8_9566_11ea_ac40_8c1645b04de6row15_col2\" class=\"data row15 col2\" >392</td>\n",
       "                        <td id=\"T_b2d62ea8_9566_11ea_ac40_8c1645b04de6row15_col3\" class=\"data row15 col3\" >143</td>\n",
       "                        <td id=\"T_b2d62ea8_9566_11ea_ac40_8c1645b04de6row15_col4\" class=\"data row15 col4\" >3</td>\n",
       "            </tr>\n",
       "            <tr>\n",
       "                        <th id=\"T_b2d62ea8_9566_11ea_ac40_8c1645b04de6level0_row16\" class=\"row_heading level0 row16\" >17</th>\n",
       "                        <td id=\"T_b2d62ea8_9566_11ea_ac40_8c1645b04de6row16_col0\" class=\"data row16 col0\" >Kerala</td>\n",
       "                        <td id=\"T_b2d62ea8_9566_11ea_ac40_8c1645b04de6row16_col1\" class=\"data row16 col1\" >535</td>\n",
       "                        <td id=\"T_b2d62ea8_9566_11ea_ac40_8c1645b04de6row16_col2\" class=\"data row16 col2\" >41</td>\n",
       "                        <td id=\"T_b2d62ea8_9566_11ea_ac40_8c1645b04de6row16_col3\" class=\"data row16 col3\" >490</td>\n",
       "                        <td id=\"T_b2d62ea8_9566_11ea_ac40_8c1645b04de6row16_col4\" class=\"data row16 col4\" >4</td>\n",
       "            </tr>\n",
       "            <tr>\n",
       "                        <th id=\"T_b2d62ea8_9566_11ea_ac40_8c1645b04de6level0_row17\" class=\"row_heading level0 row17\" >18</th>\n",
       "                        <td id=\"T_b2d62ea8_9566_11ea_ac40_8c1645b04de6row17_col0\" class=\"data row17 col0\" >Chandigarh</td>\n",
       "                        <td id=\"T_b2d62ea8_9566_11ea_ac40_8c1645b04de6row17_col1\" class=\"data row17 col1\" >191</td>\n",
       "                        <td id=\"T_b2d62ea8_9566_11ea_ac40_8c1645b04de6row17_col2\" class=\"data row17 col2\" >158</td>\n",
       "                        <td id=\"T_b2d62ea8_9566_11ea_ac40_8c1645b04de6row17_col3\" class=\"data row17 col3\" >30</td>\n",
       "                        <td id=\"T_b2d62ea8_9566_11ea_ac40_8c1645b04de6row17_col4\" class=\"data row17 col4\" >3</td>\n",
       "            </tr>\n",
       "            <tr>\n",
       "                        <th id=\"T_b2d62ea8_9566_11ea_ac40_8c1645b04de6level0_row18\" class=\"row_heading level0 row18\" >19</th>\n",
       "                        <td id=\"T_b2d62ea8_9566_11ea_ac40_8c1645b04de6row18_col0\" class=\"data row18 col0\" >Jharkhand</td>\n",
       "                        <td id=\"T_b2d62ea8_9566_11ea_ac40_8c1645b04de6row18_col1\" class=\"data row18 col1\" >177</td>\n",
       "                        <td id=\"T_b2d62ea8_9566_11ea_ac40_8c1645b04de6row18_col2\" class=\"data row18 col2\" >87</td>\n",
       "                        <td id=\"T_b2d62ea8_9566_11ea_ac40_8c1645b04de6row18_col3\" class=\"data row18 col3\" >87</td>\n",
       "                        <td id=\"T_b2d62ea8_9566_11ea_ac40_8c1645b04de6row18_col4\" class=\"data row18 col4\" >3</td>\n",
       "            </tr>\n",
       "            <tr>\n",
       "                        <th id=\"T_b2d62ea8_9566_11ea_ac40_8c1645b04de6level0_row19\" class=\"row_heading level0 row19\" >20</th>\n",
       "                        <td id=\"T_b2d62ea8_9566_11ea_ac40_8c1645b04de6row19_col0\" class=\"data row19 col0\" >Tripura</td>\n",
       "                        <td id=\"T_b2d62ea8_9566_11ea_ac40_8c1645b04de6row19_col1\" class=\"data row19 col1\" >154</td>\n",
       "                        <td id=\"T_b2d62ea8_9566_11ea_ac40_8c1645b04de6row19_col2\" class=\"data row19 col2\" >152</td>\n",
       "                        <td id=\"T_b2d62ea8_9566_11ea_ac40_8c1645b04de6row19_col3\" class=\"data row19 col3\" >2</td>\n",
       "                        <td id=\"T_b2d62ea8_9566_11ea_ac40_8c1645b04de6row19_col4\" class=\"data row19 col4\" >0</td>\n",
       "            </tr>\n",
       "            <tr>\n",
       "                        <th id=\"T_b2d62ea8_9566_11ea_ac40_8c1645b04de6level0_row20\" class=\"row_heading level0 row20\" >21</th>\n",
       "                        <td id=\"T_b2d62ea8_9566_11ea_ac40_8c1645b04de6row20_col0\" class=\"data row20 col0\" >Uttarakhand</td>\n",
       "                        <td id=\"T_b2d62ea8_9566_11ea_ac40_8c1645b04de6row20_col1\" class=\"data row20 col1\" >72</td>\n",
       "                        <td id=\"T_b2d62ea8_9566_11ea_ac40_8c1645b04de6row20_col2\" class=\"data row20 col2\" >25</td>\n",
       "                        <td id=\"T_b2d62ea8_9566_11ea_ac40_8c1645b04de6row20_col3\" class=\"data row20 col3\" >46</td>\n",
       "                        <td id=\"T_b2d62ea8_9566_11ea_ac40_8c1645b04de6row20_col4\" class=\"data row20 col4\" >1</td>\n",
       "            </tr>\n",
       "            <tr>\n",
       "                        <th id=\"T_b2d62ea8_9566_11ea_ac40_8c1645b04de6level0_row21\" class=\"row_heading level0 row21\" >22</th>\n",
       "                        <td id=\"T_b2d62ea8_9566_11ea_ac40_8c1645b04de6row21_col0\" class=\"data row21 col0\" >Himachal Pradesh</td>\n",
       "                        <td id=\"T_b2d62ea8_9566_11ea_ac40_8c1645b04de6row21_col1\" class=\"data row21 col1\" >67</td>\n",
       "                        <td id=\"T_b2d62ea8_9566_11ea_ac40_8c1645b04de6row21_col2\" class=\"data row21 col2\" >26</td>\n",
       "                        <td id=\"T_b2d62ea8_9566_11ea_ac40_8c1645b04de6row21_col3\" class=\"data row21 col3\" >35</td>\n",
       "                        <td id=\"T_b2d62ea8_9566_11ea_ac40_8c1645b04de6row21_col4\" class=\"data row21 col4\" >3</td>\n",
       "            </tr>\n",
       "            <tr>\n",
       "                        <th id=\"T_b2d62ea8_9566_11ea_ac40_8c1645b04de6level0_row22\" class=\"row_heading level0 row22\" >23</th>\n",
       "                        <td id=\"T_b2d62ea8_9566_11ea_ac40_8c1645b04de6row22_col0\" class=\"data row22 col0\" >Assam</td>\n",
       "                        <td id=\"T_b2d62ea8_9566_11ea_ac40_8c1645b04de6row22_col1\" class=\"data row22 col1\" >80</td>\n",
       "                        <td id=\"T_b2d62ea8_9566_11ea_ac40_8c1645b04de6row22_col2\" class=\"data row22 col2\" >37</td>\n",
       "                        <td id=\"T_b2d62ea8_9566_11ea_ac40_8c1645b04de6row22_col3\" class=\"data row22 col3\" >40</td>\n",
       "                        <td id=\"T_b2d62ea8_9566_11ea_ac40_8c1645b04de6row22_col4\" class=\"data row22 col4\" >2</td>\n",
       "            </tr>\n",
       "            <tr>\n",
       "                        <th id=\"T_b2d62ea8_9566_11ea_ac40_8c1645b04de6level0_row23\" class=\"row_heading level0 row23\" >24</th>\n",
       "                        <td id=\"T_b2d62ea8_9566_11ea_ac40_8c1645b04de6row23_col0\" class=\"data row23 col0\" >Chhattisgarh</td>\n",
       "                        <td id=\"T_b2d62ea8_9566_11ea_ac40_8c1645b04de6row23_col1\" class=\"data row23 col1\" >59</td>\n",
       "                        <td id=\"T_b2d62ea8_9566_11ea_ac40_8c1645b04de6row23_col2\" class=\"data row23 col2\" >4</td>\n",
       "                        <td id=\"T_b2d62ea8_9566_11ea_ac40_8c1645b04de6row23_col3\" class=\"data row23 col3\" >55</td>\n",
       "                        <td id=\"T_b2d62ea8_9566_11ea_ac40_8c1645b04de6row23_col4\" class=\"data row23 col4\" >0</td>\n",
       "            </tr>\n",
       "            <tr>\n",
       "                        <th id=\"T_b2d62ea8_9566_11ea_ac40_8c1645b04de6level0_row24\" class=\"row_heading level0 row24\" >25</th>\n",
       "                        <td id=\"T_b2d62ea8_9566_11ea_ac40_8c1645b04de6row24_col0\" class=\"data row24 col0\" >Ladakh</td>\n",
       "                        <td id=\"T_b2d62ea8_9566_11ea_ac40_8c1645b04de6row24_col1\" class=\"data row24 col1\" >43</td>\n",
       "                        <td id=\"T_b2d62ea8_9566_11ea_ac40_8c1645b04de6row24_col2\" class=\"data row24 col2\" >21</td>\n",
       "                        <td id=\"T_b2d62ea8_9566_11ea_ac40_8c1645b04de6row24_col3\" class=\"data row24 col3\" >22</td>\n",
       "                        <td id=\"T_b2d62ea8_9566_11ea_ac40_8c1645b04de6row24_col4\" class=\"data row24 col4\" >0</td>\n",
       "            </tr>\n",
       "            <tr>\n",
       "                        <th id=\"T_b2d62ea8_9566_11ea_ac40_8c1645b04de6level0_row25\" class=\"row_heading level0 row25\" >26</th>\n",
       "                        <td id=\"T_b2d62ea8_9566_11ea_ac40_8c1645b04de6row25_col0\" class=\"data row25 col0\" >Andaman and Nicobar Islands</td>\n",
       "                        <td id=\"T_b2d62ea8_9566_11ea_ac40_8c1645b04de6row25_col1\" class=\"data row25 col1\" >33</td>\n",
       "                        <td id=\"T_b2d62ea8_9566_11ea_ac40_8c1645b04de6row25_col2\" class=\"data row25 col2\" >0</td>\n",
       "                        <td id=\"T_b2d62ea8_9566_11ea_ac40_8c1645b04de6row25_col3\" class=\"data row25 col3\" >33</td>\n",
       "                        <td id=\"T_b2d62ea8_9566_11ea_ac40_8c1645b04de6row25_col4\" class=\"data row25 col4\" >0</td>\n",
       "            </tr>\n",
       "            <tr>\n",
       "                        <th id=\"T_b2d62ea8_9566_11ea_ac40_8c1645b04de6level0_row26\" class=\"row_heading level0 row26\" >27</th>\n",
       "                        <td id=\"T_b2d62ea8_9566_11ea_ac40_8c1645b04de6row26_col0\" class=\"data row26 col0\" >Meghalaya</td>\n",
       "                        <td id=\"T_b2d62ea8_9566_11ea_ac40_8c1645b04de6row26_col1\" class=\"data row26 col1\" >13</td>\n",
       "                        <td id=\"T_b2d62ea8_9566_11ea_ac40_8c1645b04de6row26_col2\" class=\"data row26 col2\" >1</td>\n",
       "                        <td id=\"T_b2d62ea8_9566_11ea_ac40_8c1645b04de6row26_col3\" class=\"data row26 col3\" >11</td>\n",
       "                        <td id=\"T_b2d62ea8_9566_11ea_ac40_8c1645b04de6row26_col4\" class=\"data row26 col4\" >1</td>\n",
       "            </tr>\n",
       "            <tr>\n",
       "                        <th id=\"T_b2d62ea8_9566_11ea_ac40_8c1645b04de6level0_row27\" class=\"row_heading level0 row27\" >28</th>\n",
       "                        <td id=\"T_b2d62ea8_9566_11ea_ac40_8c1645b04de6row27_col0\" class=\"data row27 col0\" >Puducherry</td>\n",
       "                        <td id=\"T_b2d62ea8_9566_11ea_ac40_8c1645b04de6row27_col1\" class=\"data row27 col1\" >13</td>\n",
       "                        <td id=\"T_b2d62ea8_9566_11ea_ac40_8c1645b04de6row27_col2\" class=\"data row27 col2\" >4</td>\n",
       "                        <td id=\"T_b2d62ea8_9566_11ea_ac40_8c1645b04de6row27_col3\" class=\"data row27 col3\" >9</td>\n",
       "                        <td id=\"T_b2d62ea8_9566_11ea_ac40_8c1645b04de6row27_col4\" class=\"data row27 col4\" >0</td>\n",
       "            </tr>\n",
       "            <tr>\n",
       "                        <th id=\"T_b2d62ea8_9566_11ea_ac40_8c1645b04de6level0_row28\" class=\"row_heading level0 row28\" >29</th>\n",
       "                        <td id=\"T_b2d62ea8_9566_11ea_ac40_8c1645b04de6row28_col0\" class=\"data row28 col0\" >Goa</td>\n",
       "                        <td id=\"T_b2d62ea8_9566_11ea_ac40_8c1645b04de6row28_col1\" class=\"data row28 col1\" >7</td>\n",
       "                        <td id=\"T_b2d62ea8_9566_11ea_ac40_8c1645b04de6row28_col2\" class=\"data row28 col2\" >0</td>\n",
       "                        <td id=\"T_b2d62ea8_9566_11ea_ac40_8c1645b04de6row28_col3\" class=\"data row28 col3\" >7</td>\n",
       "                        <td id=\"T_b2d62ea8_9566_11ea_ac40_8c1645b04de6row28_col4\" class=\"data row28 col4\" >0</td>\n",
       "            </tr>\n",
       "            <tr>\n",
       "                        <th id=\"T_b2d62ea8_9566_11ea_ac40_8c1645b04de6level0_row29\" class=\"row_heading level0 row29\" >30</th>\n",
       "                        <td id=\"T_b2d62ea8_9566_11ea_ac40_8c1645b04de6row29_col0\" class=\"data row29 col0\" >Manipur</td>\n",
       "                        <td id=\"T_b2d62ea8_9566_11ea_ac40_8c1645b04de6row29_col1\" class=\"data row29 col1\" >2</td>\n",
       "                        <td id=\"T_b2d62ea8_9566_11ea_ac40_8c1645b04de6row29_col2\" class=\"data row29 col2\" >0</td>\n",
       "                        <td id=\"T_b2d62ea8_9566_11ea_ac40_8c1645b04de6row29_col3\" class=\"data row29 col3\" >2</td>\n",
       "                        <td id=\"T_b2d62ea8_9566_11ea_ac40_8c1645b04de6row29_col4\" class=\"data row29 col4\" >0</td>\n",
       "            </tr>\n",
       "            <tr>\n",
       "                        <th id=\"T_b2d62ea8_9566_11ea_ac40_8c1645b04de6level0_row30\" class=\"row_heading level0 row30\" >31</th>\n",
       "                        <td id=\"T_b2d62ea8_9566_11ea_ac40_8c1645b04de6row30_col0\" class=\"data row30 col0\" >Mizoram</td>\n",
       "                        <td id=\"T_b2d62ea8_9566_11ea_ac40_8c1645b04de6row30_col1\" class=\"data row30 col1\" >1</td>\n",
       "                        <td id=\"T_b2d62ea8_9566_11ea_ac40_8c1645b04de6row30_col2\" class=\"data row30 col2\" >0</td>\n",
       "                        <td id=\"T_b2d62ea8_9566_11ea_ac40_8c1645b04de6row30_col3\" class=\"data row30 col3\" >1</td>\n",
       "                        <td id=\"T_b2d62ea8_9566_11ea_ac40_8c1645b04de6row30_col4\" class=\"data row30 col4\" >0</td>\n",
       "            </tr>\n",
       "            <tr>\n",
       "                        <th id=\"T_b2d62ea8_9566_11ea_ac40_8c1645b04de6level0_row31\" class=\"row_heading level0 row31\" >32</th>\n",
       "                        <td id=\"T_b2d62ea8_9566_11ea_ac40_8c1645b04de6row31_col0\" class=\"data row31 col0\" >Arunachal Pradesh</td>\n",
       "                        <td id=\"T_b2d62ea8_9566_11ea_ac40_8c1645b04de6row31_col1\" class=\"data row31 col1\" >1</td>\n",
       "                        <td id=\"T_b2d62ea8_9566_11ea_ac40_8c1645b04de6row31_col2\" class=\"data row31 col2\" >0</td>\n",
       "                        <td id=\"T_b2d62ea8_9566_11ea_ac40_8c1645b04de6row31_col3\" class=\"data row31 col3\" >1</td>\n",
       "                        <td id=\"T_b2d62ea8_9566_11ea_ac40_8c1645b04de6row31_col4\" class=\"data row31 col4\" >0</td>\n",
       "            </tr>\n",
       "            <tr>\n",
       "                        <th id=\"T_b2d62ea8_9566_11ea_ac40_8c1645b04de6level0_row32\" class=\"row_heading level0 row32\" >33</th>\n",
       "                        <td id=\"T_b2d62ea8_9566_11ea_ac40_8c1645b04de6row32_col0\" class=\"data row32 col0\" >Dadra and Nagar Haveli and Daman and Diu</td>\n",
       "                        <td id=\"T_b2d62ea8_9566_11ea_ac40_8c1645b04de6row32_col1\" class=\"data row32 col1\" >1</td>\n",
       "                        <td id=\"T_b2d62ea8_9566_11ea_ac40_8c1645b04de6row32_col2\" class=\"data row32 col2\" >0</td>\n",
       "                        <td id=\"T_b2d62ea8_9566_11ea_ac40_8c1645b04de6row32_col3\" class=\"data row32 col3\" >1</td>\n",
       "                        <td id=\"T_b2d62ea8_9566_11ea_ac40_8c1645b04de6row32_col4\" class=\"data row32 col4\" >0</td>\n",
       "            </tr>\n",
       "            <tr>\n",
       "                        <th id=\"T_b2d62ea8_9566_11ea_ac40_8c1645b04de6level0_row33\" class=\"row_heading level0 row33\" >34</th>\n",
       "                        <td id=\"T_b2d62ea8_9566_11ea_ac40_8c1645b04de6row33_col0\" class=\"data row33 col0\" >Nagaland</td>\n",
       "                        <td id=\"T_b2d62ea8_9566_11ea_ac40_8c1645b04de6row33_col1\" class=\"data row33 col1\" >0</td>\n",
       "                        <td id=\"T_b2d62ea8_9566_11ea_ac40_8c1645b04de6row33_col2\" class=\"data row33 col2\" >0</td>\n",
       "                        <td id=\"T_b2d62ea8_9566_11ea_ac40_8c1645b04de6row33_col3\" class=\"data row33 col3\" >0</td>\n",
       "                        <td id=\"T_b2d62ea8_9566_11ea_ac40_8c1645b04de6row33_col4\" class=\"data row33 col4\" >0</td>\n",
       "            </tr>\n",
       "            <tr>\n",
       "                        <th id=\"T_b2d62ea8_9566_11ea_ac40_8c1645b04de6level0_row34\" class=\"row_heading level0 row34\" >35</th>\n",
       "                        <td id=\"T_b2d62ea8_9566_11ea_ac40_8c1645b04de6row34_col0\" class=\"data row34 col0\" >Daman and Diu</td>\n",
       "                        <td id=\"T_b2d62ea8_9566_11ea_ac40_8c1645b04de6row34_col1\" class=\"data row34 col1\" >0</td>\n",
       "                        <td id=\"T_b2d62ea8_9566_11ea_ac40_8c1645b04de6row34_col2\" class=\"data row34 col2\" >0</td>\n",
       "                        <td id=\"T_b2d62ea8_9566_11ea_ac40_8c1645b04de6row34_col3\" class=\"data row34 col3\" >0</td>\n",
       "                        <td id=\"T_b2d62ea8_9566_11ea_ac40_8c1645b04de6row34_col4\" class=\"data row34 col4\" >0</td>\n",
       "            </tr>\n",
       "            <tr>\n",
       "                        <th id=\"T_b2d62ea8_9566_11ea_ac40_8c1645b04de6level0_row35\" class=\"row_heading level0 row35\" >36</th>\n",
       "                        <td id=\"T_b2d62ea8_9566_11ea_ac40_8c1645b04de6row35_col0\" class=\"data row35 col0\" >Lakshadweep</td>\n",
       "                        <td id=\"T_b2d62ea8_9566_11ea_ac40_8c1645b04de6row35_col1\" class=\"data row35 col1\" >0</td>\n",
       "                        <td id=\"T_b2d62ea8_9566_11ea_ac40_8c1645b04de6row35_col2\" class=\"data row35 col2\" >0</td>\n",
       "                        <td id=\"T_b2d62ea8_9566_11ea_ac40_8c1645b04de6row35_col3\" class=\"data row35 col3\" >0</td>\n",
       "                        <td id=\"T_b2d62ea8_9566_11ea_ac40_8c1645b04de6row35_col4\" class=\"data row35 col4\" >0</td>\n",
       "            </tr>\n",
       "            <tr>\n",
       "                        <th id=\"T_b2d62ea8_9566_11ea_ac40_8c1645b04de6level0_row36\" class=\"row_heading level0 row36\" >37</th>\n",
       "                        <td id=\"T_b2d62ea8_9566_11ea_ac40_8c1645b04de6row36_col0\" class=\"data row36 col0\" >Sikkim</td>\n",
       "                        <td id=\"T_b2d62ea8_9566_11ea_ac40_8c1645b04de6row36_col1\" class=\"data row36 col1\" >0</td>\n",
       "                        <td id=\"T_b2d62ea8_9566_11ea_ac40_8c1645b04de6row36_col2\" class=\"data row36 col2\" >0</td>\n",
       "                        <td id=\"T_b2d62ea8_9566_11ea_ac40_8c1645b04de6row36_col3\" class=\"data row36 col3\" >0</td>\n",
       "                        <td id=\"T_b2d62ea8_9566_11ea_ac40_8c1645b04de6row36_col4\" class=\"data row36 col4\" >0</td>\n",
       "            </tr>\n",
       "    </tbody></table>"
      ],
      "text/plain": [
       "<pandas.io.formats.style.Styler at 0x1d31bfcca48>"
      ]
     },
     "execution_count": 34,
     "metadata": {},
     "output_type": "execute_result"
    }
   ],
   "source": [
    "covid19.style.background_gradient(cmap='Reds')"
   ]
  },
  {
   "cell_type": "code",
   "execution_count": 35,
   "metadata": {},
   "outputs": [
    {
     "data": {
      "text/html": [
       "<div>\n",
       "<style scoped>\n",
       "    .dataframe tbody tr th:only-of-type {\n",
       "        vertical-align: middle;\n",
       "    }\n",
       "\n",
       "    .dataframe tbody tr th {\n",
       "        vertical-align: top;\n",
       "    }\n",
       "\n",
       "    .dataframe thead th {\n",
       "        text-align: right;\n",
       "    }\n",
       "</style>\n",
       "<table border=\"1\" class=\"dataframe\">\n",
       "  <thead>\n",
       "    <tr style=\"text-align: right;\">\n",
       "      <th></th>\n",
       "      <th>state</th>\n",
       "      <th>confirmed</th>\n",
       "    </tr>\n",
       "  </thead>\n",
       "  <tbody>\n",
       "    <tr>\n",
       "      <th>26</th>\n",
       "      <td>Andaman and Nicobar Islands</td>\n",
       "      <td>33</td>\n",
       "    </tr>\n",
       "    <tr>\n",
       "      <th>9</th>\n",
       "      <td>Andhra Pradesh</td>\n",
       "      <td>2137</td>\n",
       "    </tr>\n",
       "    <tr>\n",
       "      <th>32</th>\n",
       "      <td>Arunachal Pradesh</td>\n",
       "      <td>1</td>\n",
       "    </tr>\n",
       "    <tr>\n",
       "      <th>23</th>\n",
       "      <td>Assam</td>\n",
       "      <td>80</td>\n",
       "    </tr>\n",
       "    <tr>\n",
       "      <th>14</th>\n",
       "      <td>Bihar</td>\n",
       "      <td>953</td>\n",
       "    </tr>\n",
       "    <tr>\n",
       "      <th>18</th>\n",
       "      <td>Chandigarh</td>\n",
       "      <td>191</td>\n",
       "    </tr>\n",
       "    <tr>\n",
       "      <th>24</th>\n",
       "      <td>Chhattisgarh</td>\n",
       "      <td>59</td>\n",
       "    </tr>\n",
       "    <tr>\n",
       "      <th>33</th>\n",
       "      <td>Dadra and Nagar Haveli and Daman and Diu</td>\n",
       "      <td>1</td>\n",
       "    </tr>\n",
       "    <tr>\n",
       "      <th>35</th>\n",
       "      <td>Daman and Diu</td>\n",
       "      <td>0</td>\n",
       "    </tr>\n",
       "    <tr>\n",
       "      <th>4</th>\n",
       "      <td>Delhi</td>\n",
       "      <td>7998</td>\n",
       "    </tr>\n",
       "    <tr>\n",
       "      <th>29</th>\n",
       "      <td>Goa</td>\n",
       "      <td>7</td>\n",
       "    </tr>\n",
       "    <tr>\n",
       "      <th>2</th>\n",
       "      <td>Gujarat</td>\n",
       "      <td>9268</td>\n",
       "    </tr>\n",
       "    <tr>\n",
       "      <th>15</th>\n",
       "      <td>Haryana</td>\n",
       "      <td>793</td>\n",
       "    </tr>\n",
       "    <tr>\n",
       "      <th>22</th>\n",
       "      <td>Himachal Pradesh</td>\n",
       "      <td>67</td>\n",
       "    </tr>\n",
       "    <tr>\n",
       "      <th>13</th>\n",
       "      <td>Jammu and Kashmir</td>\n",
       "      <td>971</td>\n",
       "    </tr>\n",
       "    <tr>\n",
       "      <th>19</th>\n",
       "      <td>Jharkhand</td>\n",
       "      <td>177</td>\n",
       "    </tr>\n",
       "    <tr>\n",
       "      <th>12</th>\n",
       "      <td>Karnataka</td>\n",
       "      <td>959</td>\n",
       "    </tr>\n",
       "    <tr>\n",
       "      <th>17</th>\n",
       "      <td>Kerala</td>\n",
       "      <td>535</td>\n",
       "    </tr>\n",
       "    <tr>\n",
       "      <th>25</th>\n",
       "      <td>Ladakh</td>\n",
       "      <td>43</td>\n",
       "    </tr>\n",
       "    <tr>\n",
       "      <th>36</th>\n",
       "      <td>Lakshadweep</td>\n",
       "      <td>0</td>\n",
       "    </tr>\n",
       "    <tr>\n",
       "      <th>6</th>\n",
       "      <td>Madhya Pradesh</td>\n",
       "      <td>4173</td>\n",
       "    </tr>\n",
       "    <tr>\n",
       "      <th>1</th>\n",
       "      <td>Maharashtra</td>\n",
       "      <td>25922</td>\n",
       "    </tr>\n",
       "    <tr>\n",
       "      <th>30</th>\n",
       "      <td>Manipur</td>\n",
       "      <td>2</td>\n",
       "    </tr>\n",
       "    <tr>\n",
       "      <th>27</th>\n",
       "      <td>Meghalaya</td>\n",
       "      <td>13</td>\n",
       "    </tr>\n",
       "    <tr>\n",
       "      <th>31</th>\n",
       "      <td>Mizoram</td>\n",
       "      <td>1</td>\n",
       "    </tr>\n",
       "    <tr>\n",
       "      <th>34</th>\n",
       "      <td>Nagaland</td>\n",
       "      <td>0</td>\n",
       "    </tr>\n",
       "    <tr>\n",
       "      <th>16</th>\n",
       "      <td>Odisha</td>\n",
       "      <td>538</td>\n",
       "    </tr>\n",
       "    <tr>\n",
       "      <th>28</th>\n",
       "      <td>Puducherry</td>\n",
       "      <td>13</td>\n",
       "    </tr>\n",
       "    <tr>\n",
       "      <th>10</th>\n",
       "      <td>Punjab</td>\n",
       "      <td>1924</td>\n",
       "    </tr>\n",
       "    <tr>\n",
       "      <th>5</th>\n",
       "      <td>Rajasthan</td>\n",
       "      <td>4328</td>\n",
       "    </tr>\n",
       "    <tr>\n",
       "      <th>37</th>\n",
       "      <td>Sikkim</td>\n",
       "      <td>0</td>\n",
       "    </tr>\n",
       "    <tr>\n",
       "      <th>3</th>\n",
       "      <td>Tamil Nadu</td>\n",
       "      <td>9227</td>\n",
       "    </tr>\n",
       "    <tr>\n",
       "      <th>11</th>\n",
       "      <td>Telangana</td>\n",
       "      <td>1367</td>\n",
       "    </tr>\n",
       "    <tr>\n",
       "      <th>20</th>\n",
       "      <td>Tripura</td>\n",
       "      <td>154</td>\n",
       "    </tr>\n",
       "    <tr>\n",
       "      <th>7</th>\n",
       "      <td>Uttar Pradesh</td>\n",
       "      <td>3758</td>\n",
       "    </tr>\n",
       "    <tr>\n",
       "      <th>21</th>\n",
       "      <td>Uttarakhand</td>\n",
       "      <td>72</td>\n",
       "    </tr>\n",
       "    <tr>\n",
       "      <th>8</th>\n",
       "      <td>West Bengal</td>\n",
       "      <td>2290</td>\n",
       "    </tr>\n",
       "  </tbody>\n",
       "</table>\n",
       "</div>"
      ],
      "text/plain": [
       "                                       state  confirmed\n",
       "26               Andaman and Nicobar Islands         33\n",
       "9                             Andhra Pradesh       2137\n",
       "32                         Arunachal Pradesh          1\n",
       "23                                     Assam         80\n",
       "14                                     Bihar        953\n",
       "18                                Chandigarh        191\n",
       "24                              Chhattisgarh         59\n",
       "33  Dadra and Nagar Haveli and Daman and Diu          1\n",
       "35                             Daman and Diu          0\n",
       "4                                      Delhi       7998\n",
       "29                                       Goa          7\n",
       "2                                    Gujarat       9268\n",
       "15                                   Haryana        793\n",
       "22                          Himachal Pradesh         67\n",
       "13                         Jammu and Kashmir        971\n",
       "19                                 Jharkhand        177\n",
       "12                                 Karnataka        959\n",
       "17                                    Kerala        535\n",
       "25                                    Ladakh         43\n",
       "36                               Lakshadweep          0\n",
       "6                             Madhya Pradesh       4173\n",
       "1                                Maharashtra      25922\n",
       "30                                   Manipur          2\n",
       "27                                 Meghalaya         13\n",
       "31                                   Mizoram          1\n",
       "34                                  Nagaland          0\n",
       "16                                    Odisha        538\n",
       "28                                Puducherry         13\n",
       "10                                    Punjab       1924\n",
       "5                                  Rajasthan       4328\n",
       "37                                    Sikkim          0\n",
       "3                                 Tamil Nadu       9227\n",
       "11                                 Telangana       1367\n",
       "20                                   Tripura        154\n",
       "7                              Uttar Pradesh       3758\n",
       "21                               Uttarakhand         72\n",
       "8                                West Bengal       2290"
      ]
     },
     "execution_count": 35,
     "metadata": {},
     "output_type": "execute_result"
    }
   ],
   "source": [
    "covid19_active=covid19[['state','confirmed']]\n",
    "covid19=covid19_active.sort_values(by='state',ascending=True)\n",
    "covid19"
   ]
  },
  {
   "cell_type": "code",
   "execution_count": 36,
   "metadata": {},
   "outputs": [],
   "source": [
    "covid19_active=covid19_active.sort_values(by='confirmed',ascending=False)"
   ]
  },
  {
   "cell_type": "code",
   "execution_count": 37,
   "metadata": {},
   "outputs": [
    {
     "data": {
      "text/html": [
       "<style  type=\"text/css\" >\n",
       "    #T_b30836f6_9566_11ea_99e6_8c1645b04de6row0_col1 {\n",
       "            background-color:  #67000d;\n",
       "            color:  #f1f1f1;\n",
       "        }    #T_b30836f6_9566_11ea_99e6_8c1645b04de6row1_col1 {\n",
       "            background-color:  #fc9879;\n",
       "            color:  #000000;\n",
       "        }    #T_b30836f6_9566_11ea_99e6_8c1645b04de6row2_col1 {\n",
       "            background-color:  #fc9879;\n",
       "            color:  #000000;\n",
       "        }    #T_b30836f6_9566_11ea_99e6_8c1645b04de6row3_col1 {\n",
       "            background-color:  #fca98c;\n",
       "            color:  #000000;\n",
       "        }    #T_b30836f6_9566_11ea_99e6_8c1645b04de6row4_col1 {\n",
       "            background-color:  #fdd4c2;\n",
       "            color:  #000000;\n",
       "        }    #T_b30836f6_9566_11ea_99e6_8c1645b04de6row5_col1 {\n",
       "            background-color:  #fdd5c4;\n",
       "            color:  #000000;\n",
       "        }    #T_b30836f6_9566_11ea_99e6_8c1645b04de6row6_col1 {\n",
       "            background-color:  #fedaca;\n",
       "            color:  #000000;\n",
       "        }    #T_b30836f6_9566_11ea_99e6_8c1645b04de6row7_col1 {\n",
       "            background-color:  #fee7db;\n",
       "            color:  #000000;\n",
       "        }    #T_b30836f6_9566_11ea_99e6_8c1645b04de6row8_col1 {\n",
       "            background-color:  #fee7dc;\n",
       "            color:  #000000;\n",
       "        }    #T_b30836f6_9566_11ea_99e6_8c1645b04de6row9_col1 {\n",
       "            background-color:  #fee8de;\n",
       "            color:  #000000;\n",
       "        }    #T_b30836f6_9566_11ea_99e6_8c1645b04de6row10_col1 {\n",
       "            background-color:  #ffece4;\n",
       "            color:  #000000;\n",
       "        }    #T_b30836f6_9566_11ea_99e6_8c1645b04de6row11_col1 {\n",
       "            background-color:  #ffefe8;\n",
       "            color:  #000000;\n",
       "        }    #T_b30836f6_9566_11ea_99e6_8c1645b04de6row12_col1 {\n",
       "            background-color:  #ffefe8;\n",
       "            color:  #000000;\n",
       "        }    #T_b30836f6_9566_11ea_99e6_8c1645b04de6row13_col1 {\n",
       "            background-color:  #ffefe8;\n",
       "            color:  #000000;\n",
       "        }    #T_b30836f6_9566_11ea_99e6_8c1645b04de6row14_col1 {\n",
       "            background-color:  #fff0e9;\n",
       "            color:  #000000;\n",
       "        }    #T_b30836f6_9566_11ea_99e6_8c1645b04de6row15_col1 {\n",
       "            background-color:  #fff2eb;\n",
       "            color:  #000000;\n",
       "        }    #T_b30836f6_9566_11ea_99e6_8c1645b04de6row16_col1 {\n",
       "            background-color:  #fff2eb;\n",
       "            color:  #000000;\n",
       "        }    #T_b30836f6_9566_11ea_99e6_8c1645b04de6row17_col1 {\n",
       "            background-color:  #fff4ef;\n",
       "            color:  #000000;\n",
       "        }    #T_b30836f6_9566_11ea_99e6_8c1645b04de6row18_col1 {\n",
       "            background-color:  #fff4ef;\n",
       "            color:  #000000;\n",
       "        }    #T_b30836f6_9566_11ea_99e6_8c1645b04de6row19_col1 {\n",
       "            background-color:  #fff4ef;\n",
       "            color:  #000000;\n",
       "        }    #T_b30836f6_9566_11ea_99e6_8c1645b04de6row20_col1 {\n",
       "            background-color:  #fff5f0;\n",
       "            color:  #000000;\n",
       "        }    #T_b30836f6_9566_11ea_99e6_8c1645b04de6row21_col1 {\n",
       "            background-color:  #fff5f0;\n",
       "            color:  #000000;\n",
       "        }    #T_b30836f6_9566_11ea_99e6_8c1645b04de6row22_col1 {\n",
       "            background-color:  #fff5f0;\n",
       "            color:  #000000;\n",
       "        }    #T_b30836f6_9566_11ea_99e6_8c1645b04de6row23_col1 {\n",
       "            background-color:  #fff5f0;\n",
       "            color:  #000000;\n",
       "        }    #T_b30836f6_9566_11ea_99e6_8c1645b04de6row24_col1 {\n",
       "            background-color:  #fff5f0;\n",
       "            color:  #000000;\n",
       "        }    #T_b30836f6_9566_11ea_99e6_8c1645b04de6row25_col1 {\n",
       "            background-color:  #fff5f0;\n",
       "            color:  #000000;\n",
       "        }    #T_b30836f6_9566_11ea_99e6_8c1645b04de6row26_col1 {\n",
       "            background-color:  #fff5f0;\n",
       "            color:  #000000;\n",
       "        }    #T_b30836f6_9566_11ea_99e6_8c1645b04de6row27_col1 {\n",
       "            background-color:  #fff5f0;\n",
       "            color:  #000000;\n",
       "        }    #T_b30836f6_9566_11ea_99e6_8c1645b04de6row28_col1 {\n",
       "            background-color:  #fff5f0;\n",
       "            color:  #000000;\n",
       "        }    #T_b30836f6_9566_11ea_99e6_8c1645b04de6row29_col1 {\n",
       "            background-color:  #fff5f0;\n",
       "            color:  #000000;\n",
       "        }    #T_b30836f6_9566_11ea_99e6_8c1645b04de6row30_col1 {\n",
       "            background-color:  #fff5f0;\n",
       "            color:  #000000;\n",
       "        }    #T_b30836f6_9566_11ea_99e6_8c1645b04de6row31_col1 {\n",
       "            background-color:  #fff5f0;\n",
       "            color:  #000000;\n",
       "        }    #T_b30836f6_9566_11ea_99e6_8c1645b04de6row32_col1 {\n",
       "            background-color:  #fff5f0;\n",
       "            color:  #000000;\n",
       "        }    #T_b30836f6_9566_11ea_99e6_8c1645b04de6row33_col1 {\n",
       "            background-color:  #fff5f0;\n",
       "            color:  #000000;\n",
       "        }    #T_b30836f6_9566_11ea_99e6_8c1645b04de6row34_col1 {\n",
       "            background-color:  #fff5f0;\n",
       "            color:  #000000;\n",
       "        }    #T_b30836f6_9566_11ea_99e6_8c1645b04de6row35_col1 {\n",
       "            background-color:  #fff5f0;\n",
       "            color:  #000000;\n",
       "        }    #T_b30836f6_9566_11ea_99e6_8c1645b04de6row36_col1 {\n",
       "            background-color:  #fff5f0;\n",
       "            color:  #000000;\n",
       "        }</style><table id=\"T_b30836f6_9566_11ea_99e6_8c1645b04de6\" ><thead>    <tr>        <th class=\"blank level0\" ></th>        <th class=\"col_heading level0 col0\" >state</th>        <th class=\"col_heading level0 col1\" >confirmed</th>    </tr></thead><tbody>\n",
       "                <tr>\n",
       "                        <th id=\"T_b30836f6_9566_11ea_99e6_8c1645b04de6level0_row0\" class=\"row_heading level0 row0\" >1</th>\n",
       "                        <td id=\"T_b30836f6_9566_11ea_99e6_8c1645b04de6row0_col0\" class=\"data row0 col0\" >Maharashtra</td>\n",
       "                        <td id=\"T_b30836f6_9566_11ea_99e6_8c1645b04de6row0_col1\" class=\"data row0 col1\" >25922</td>\n",
       "            </tr>\n",
       "            <tr>\n",
       "                        <th id=\"T_b30836f6_9566_11ea_99e6_8c1645b04de6level0_row1\" class=\"row_heading level0 row1\" >2</th>\n",
       "                        <td id=\"T_b30836f6_9566_11ea_99e6_8c1645b04de6row1_col0\" class=\"data row1 col0\" >Gujarat</td>\n",
       "                        <td id=\"T_b30836f6_9566_11ea_99e6_8c1645b04de6row1_col1\" class=\"data row1 col1\" >9268</td>\n",
       "            </tr>\n",
       "            <tr>\n",
       "                        <th id=\"T_b30836f6_9566_11ea_99e6_8c1645b04de6level0_row2\" class=\"row_heading level0 row2\" >3</th>\n",
       "                        <td id=\"T_b30836f6_9566_11ea_99e6_8c1645b04de6row2_col0\" class=\"data row2 col0\" >Tamil Nadu</td>\n",
       "                        <td id=\"T_b30836f6_9566_11ea_99e6_8c1645b04de6row2_col1\" class=\"data row2 col1\" >9227</td>\n",
       "            </tr>\n",
       "            <tr>\n",
       "                        <th id=\"T_b30836f6_9566_11ea_99e6_8c1645b04de6level0_row3\" class=\"row_heading level0 row3\" >4</th>\n",
       "                        <td id=\"T_b30836f6_9566_11ea_99e6_8c1645b04de6row3_col0\" class=\"data row3 col0\" >Delhi</td>\n",
       "                        <td id=\"T_b30836f6_9566_11ea_99e6_8c1645b04de6row3_col1\" class=\"data row3 col1\" >7998</td>\n",
       "            </tr>\n",
       "            <tr>\n",
       "                        <th id=\"T_b30836f6_9566_11ea_99e6_8c1645b04de6level0_row4\" class=\"row_heading level0 row4\" >5</th>\n",
       "                        <td id=\"T_b30836f6_9566_11ea_99e6_8c1645b04de6row4_col0\" class=\"data row4 col0\" >Rajasthan</td>\n",
       "                        <td id=\"T_b30836f6_9566_11ea_99e6_8c1645b04de6row4_col1\" class=\"data row4 col1\" >4328</td>\n",
       "            </tr>\n",
       "            <tr>\n",
       "                        <th id=\"T_b30836f6_9566_11ea_99e6_8c1645b04de6level0_row5\" class=\"row_heading level0 row5\" >6</th>\n",
       "                        <td id=\"T_b30836f6_9566_11ea_99e6_8c1645b04de6row5_col0\" class=\"data row5 col0\" >Madhya Pradesh</td>\n",
       "                        <td id=\"T_b30836f6_9566_11ea_99e6_8c1645b04de6row5_col1\" class=\"data row5 col1\" >4173</td>\n",
       "            </tr>\n",
       "            <tr>\n",
       "                        <th id=\"T_b30836f6_9566_11ea_99e6_8c1645b04de6level0_row6\" class=\"row_heading level0 row6\" >7</th>\n",
       "                        <td id=\"T_b30836f6_9566_11ea_99e6_8c1645b04de6row6_col0\" class=\"data row6 col0\" >Uttar Pradesh</td>\n",
       "                        <td id=\"T_b30836f6_9566_11ea_99e6_8c1645b04de6row6_col1\" class=\"data row6 col1\" >3758</td>\n",
       "            </tr>\n",
       "            <tr>\n",
       "                        <th id=\"T_b30836f6_9566_11ea_99e6_8c1645b04de6level0_row7\" class=\"row_heading level0 row7\" >8</th>\n",
       "                        <td id=\"T_b30836f6_9566_11ea_99e6_8c1645b04de6row7_col0\" class=\"data row7 col0\" >West Bengal</td>\n",
       "                        <td id=\"T_b30836f6_9566_11ea_99e6_8c1645b04de6row7_col1\" class=\"data row7 col1\" >2290</td>\n",
       "            </tr>\n",
       "            <tr>\n",
       "                        <th id=\"T_b30836f6_9566_11ea_99e6_8c1645b04de6level0_row8\" class=\"row_heading level0 row8\" >9</th>\n",
       "                        <td id=\"T_b30836f6_9566_11ea_99e6_8c1645b04de6row8_col0\" class=\"data row8 col0\" >Andhra Pradesh</td>\n",
       "                        <td id=\"T_b30836f6_9566_11ea_99e6_8c1645b04de6row8_col1\" class=\"data row8 col1\" >2137</td>\n",
       "            </tr>\n",
       "            <tr>\n",
       "                        <th id=\"T_b30836f6_9566_11ea_99e6_8c1645b04de6level0_row9\" class=\"row_heading level0 row9\" >10</th>\n",
       "                        <td id=\"T_b30836f6_9566_11ea_99e6_8c1645b04de6row9_col0\" class=\"data row9 col0\" >Punjab</td>\n",
       "                        <td id=\"T_b30836f6_9566_11ea_99e6_8c1645b04de6row9_col1\" class=\"data row9 col1\" >1924</td>\n",
       "            </tr>\n",
       "            <tr>\n",
       "                        <th id=\"T_b30836f6_9566_11ea_99e6_8c1645b04de6level0_row10\" class=\"row_heading level0 row10\" >11</th>\n",
       "                        <td id=\"T_b30836f6_9566_11ea_99e6_8c1645b04de6row10_col0\" class=\"data row10 col0\" >Telangana</td>\n",
       "                        <td id=\"T_b30836f6_9566_11ea_99e6_8c1645b04de6row10_col1\" class=\"data row10 col1\" >1367</td>\n",
       "            </tr>\n",
       "            <tr>\n",
       "                        <th id=\"T_b30836f6_9566_11ea_99e6_8c1645b04de6level0_row11\" class=\"row_heading level0 row11\" >13</th>\n",
       "                        <td id=\"T_b30836f6_9566_11ea_99e6_8c1645b04de6row11_col0\" class=\"data row11 col0\" >Jammu and Kashmir</td>\n",
       "                        <td id=\"T_b30836f6_9566_11ea_99e6_8c1645b04de6row11_col1\" class=\"data row11 col1\" >971</td>\n",
       "            </tr>\n",
       "            <tr>\n",
       "                        <th id=\"T_b30836f6_9566_11ea_99e6_8c1645b04de6level0_row12\" class=\"row_heading level0 row12\" >12</th>\n",
       "                        <td id=\"T_b30836f6_9566_11ea_99e6_8c1645b04de6row12_col0\" class=\"data row12 col0\" >Karnataka</td>\n",
       "                        <td id=\"T_b30836f6_9566_11ea_99e6_8c1645b04de6row12_col1\" class=\"data row12 col1\" >959</td>\n",
       "            </tr>\n",
       "            <tr>\n",
       "                        <th id=\"T_b30836f6_9566_11ea_99e6_8c1645b04de6level0_row13\" class=\"row_heading level0 row13\" >14</th>\n",
       "                        <td id=\"T_b30836f6_9566_11ea_99e6_8c1645b04de6row13_col0\" class=\"data row13 col0\" >Bihar</td>\n",
       "                        <td id=\"T_b30836f6_9566_11ea_99e6_8c1645b04de6row13_col1\" class=\"data row13 col1\" >953</td>\n",
       "            </tr>\n",
       "            <tr>\n",
       "                        <th id=\"T_b30836f6_9566_11ea_99e6_8c1645b04de6level0_row14\" class=\"row_heading level0 row14\" >15</th>\n",
       "                        <td id=\"T_b30836f6_9566_11ea_99e6_8c1645b04de6row14_col0\" class=\"data row14 col0\" >Haryana</td>\n",
       "                        <td id=\"T_b30836f6_9566_11ea_99e6_8c1645b04de6row14_col1\" class=\"data row14 col1\" >793</td>\n",
       "            </tr>\n",
       "            <tr>\n",
       "                        <th id=\"T_b30836f6_9566_11ea_99e6_8c1645b04de6level0_row15\" class=\"row_heading level0 row15\" >16</th>\n",
       "                        <td id=\"T_b30836f6_9566_11ea_99e6_8c1645b04de6row15_col0\" class=\"data row15 col0\" >Odisha</td>\n",
       "                        <td id=\"T_b30836f6_9566_11ea_99e6_8c1645b04de6row15_col1\" class=\"data row15 col1\" >538</td>\n",
       "            </tr>\n",
       "            <tr>\n",
       "                        <th id=\"T_b30836f6_9566_11ea_99e6_8c1645b04de6level0_row16\" class=\"row_heading level0 row16\" >17</th>\n",
       "                        <td id=\"T_b30836f6_9566_11ea_99e6_8c1645b04de6row16_col0\" class=\"data row16 col0\" >Kerala</td>\n",
       "                        <td id=\"T_b30836f6_9566_11ea_99e6_8c1645b04de6row16_col1\" class=\"data row16 col1\" >535</td>\n",
       "            </tr>\n",
       "            <tr>\n",
       "                        <th id=\"T_b30836f6_9566_11ea_99e6_8c1645b04de6level0_row17\" class=\"row_heading level0 row17\" >18</th>\n",
       "                        <td id=\"T_b30836f6_9566_11ea_99e6_8c1645b04de6row17_col0\" class=\"data row17 col0\" >Chandigarh</td>\n",
       "                        <td id=\"T_b30836f6_9566_11ea_99e6_8c1645b04de6row17_col1\" class=\"data row17 col1\" >191</td>\n",
       "            </tr>\n",
       "            <tr>\n",
       "                        <th id=\"T_b30836f6_9566_11ea_99e6_8c1645b04de6level0_row18\" class=\"row_heading level0 row18\" >19</th>\n",
       "                        <td id=\"T_b30836f6_9566_11ea_99e6_8c1645b04de6row18_col0\" class=\"data row18 col0\" >Jharkhand</td>\n",
       "                        <td id=\"T_b30836f6_9566_11ea_99e6_8c1645b04de6row18_col1\" class=\"data row18 col1\" >177</td>\n",
       "            </tr>\n",
       "            <tr>\n",
       "                        <th id=\"T_b30836f6_9566_11ea_99e6_8c1645b04de6level0_row19\" class=\"row_heading level0 row19\" >20</th>\n",
       "                        <td id=\"T_b30836f6_9566_11ea_99e6_8c1645b04de6row19_col0\" class=\"data row19 col0\" >Tripura</td>\n",
       "                        <td id=\"T_b30836f6_9566_11ea_99e6_8c1645b04de6row19_col1\" class=\"data row19 col1\" >154</td>\n",
       "            </tr>\n",
       "            <tr>\n",
       "                        <th id=\"T_b30836f6_9566_11ea_99e6_8c1645b04de6level0_row20\" class=\"row_heading level0 row20\" >23</th>\n",
       "                        <td id=\"T_b30836f6_9566_11ea_99e6_8c1645b04de6row20_col0\" class=\"data row20 col0\" >Assam</td>\n",
       "                        <td id=\"T_b30836f6_9566_11ea_99e6_8c1645b04de6row20_col1\" class=\"data row20 col1\" >80</td>\n",
       "            </tr>\n",
       "            <tr>\n",
       "                        <th id=\"T_b30836f6_9566_11ea_99e6_8c1645b04de6level0_row21\" class=\"row_heading level0 row21\" >21</th>\n",
       "                        <td id=\"T_b30836f6_9566_11ea_99e6_8c1645b04de6row21_col0\" class=\"data row21 col0\" >Uttarakhand</td>\n",
       "                        <td id=\"T_b30836f6_9566_11ea_99e6_8c1645b04de6row21_col1\" class=\"data row21 col1\" >72</td>\n",
       "            </tr>\n",
       "            <tr>\n",
       "                        <th id=\"T_b30836f6_9566_11ea_99e6_8c1645b04de6level0_row22\" class=\"row_heading level0 row22\" >22</th>\n",
       "                        <td id=\"T_b30836f6_9566_11ea_99e6_8c1645b04de6row22_col0\" class=\"data row22 col0\" >Himachal Pradesh</td>\n",
       "                        <td id=\"T_b30836f6_9566_11ea_99e6_8c1645b04de6row22_col1\" class=\"data row22 col1\" >67</td>\n",
       "            </tr>\n",
       "            <tr>\n",
       "                        <th id=\"T_b30836f6_9566_11ea_99e6_8c1645b04de6level0_row23\" class=\"row_heading level0 row23\" >24</th>\n",
       "                        <td id=\"T_b30836f6_9566_11ea_99e6_8c1645b04de6row23_col0\" class=\"data row23 col0\" >Chhattisgarh</td>\n",
       "                        <td id=\"T_b30836f6_9566_11ea_99e6_8c1645b04de6row23_col1\" class=\"data row23 col1\" >59</td>\n",
       "            </tr>\n",
       "            <tr>\n",
       "                        <th id=\"T_b30836f6_9566_11ea_99e6_8c1645b04de6level0_row24\" class=\"row_heading level0 row24\" >25</th>\n",
       "                        <td id=\"T_b30836f6_9566_11ea_99e6_8c1645b04de6row24_col0\" class=\"data row24 col0\" >Ladakh</td>\n",
       "                        <td id=\"T_b30836f6_9566_11ea_99e6_8c1645b04de6row24_col1\" class=\"data row24 col1\" >43</td>\n",
       "            </tr>\n",
       "            <tr>\n",
       "                        <th id=\"T_b30836f6_9566_11ea_99e6_8c1645b04de6level0_row25\" class=\"row_heading level0 row25\" >26</th>\n",
       "                        <td id=\"T_b30836f6_9566_11ea_99e6_8c1645b04de6row25_col0\" class=\"data row25 col0\" >Andaman and Nicobar Islands</td>\n",
       "                        <td id=\"T_b30836f6_9566_11ea_99e6_8c1645b04de6row25_col1\" class=\"data row25 col1\" >33</td>\n",
       "            </tr>\n",
       "            <tr>\n",
       "                        <th id=\"T_b30836f6_9566_11ea_99e6_8c1645b04de6level0_row26\" class=\"row_heading level0 row26\" >27</th>\n",
       "                        <td id=\"T_b30836f6_9566_11ea_99e6_8c1645b04de6row26_col0\" class=\"data row26 col0\" >Meghalaya</td>\n",
       "                        <td id=\"T_b30836f6_9566_11ea_99e6_8c1645b04de6row26_col1\" class=\"data row26 col1\" >13</td>\n",
       "            </tr>\n",
       "            <tr>\n",
       "                        <th id=\"T_b30836f6_9566_11ea_99e6_8c1645b04de6level0_row27\" class=\"row_heading level0 row27\" >28</th>\n",
       "                        <td id=\"T_b30836f6_9566_11ea_99e6_8c1645b04de6row27_col0\" class=\"data row27 col0\" >Puducherry</td>\n",
       "                        <td id=\"T_b30836f6_9566_11ea_99e6_8c1645b04de6row27_col1\" class=\"data row27 col1\" >13</td>\n",
       "            </tr>\n",
       "            <tr>\n",
       "                        <th id=\"T_b30836f6_9566_11ea_99e6_8c1645b04de6level0_row28\" class=\"row_heading level0 row28\" >29</th>\n",
       "                        <td id=\"T_b30836f6_9566_11ea_99e6_8c1645b04de6row28_col0\" class=\"data row28 col0\" >Goa</td>\n",
       "                        <td id=\"T_b30836f6_9566_11ea_99e6_8c1645b04de6row28_col1\" class=\"data row28 col1\" >7</td>\n",
       "            </tr>\n",
       "            <tr>\n",
       "                        <th id=\"T_b30836f6_9566_11ea_99e6_8c1645b04de6level0_row29\" class=\"row_heading level0 row29\" >30</th>\n",
       "                        <td id=\"T_b30836f6_9566_11ea_99e6_8c1645b04de6row29_col0\" class=\"data row29 col0\" >Manipur</td>\n",
       "                        <td id=\"T_b30836f6_9566_11ea_99e6_8c1645b04de6row29_col1\" class=\"data row29 col1\" >2</td>\n",
       "            </tr>\n",
       "            <tr>\n",
       "                        <th id=\"T_b30836f6_9566_11ea_99e6_8c1645b04de6level0_row30\" class=\"row_heading level0 row30\" >31</th>\n",
       "                        <td id=\"T_b30836f6_9566_11ea_99e6_8c1645b04de6row30_col0\" class=\"data row30 col0\" >Mizoram</td>\n",
       "                        <td id=\"T_b30836f6_9566_11ea_99e6_8c1645b04de6row30_col1\" class=\"data row30 col1\" >1</td>\n",
       "            </tr>\n",
       "            <tr>\n",
       "                        <th id=\"T_b30836f6_9566_11ea_99e6_8c1645b04de6level0_row31\" class=\"row_heading level0 row31\" >32</th>\n",
       "                        <td id=\"T_b30836f6_9566_11ea_99e6_8c1645b04de6row31_col0\" class=\"data row31 col0\" >Arunachal Pradesh</td>\n",
       "                        <td id=\"T_b30836f6_9566_11ea_99e6_8c1645b04de6row31_col1\" class=\"data row31 col1\" >1</td>\n",
       "            </tr>\n",
       "            <tr>\n",
       "                        <th id=\"T_b30836f6_9566_11ea_99e6_8c1645b04de6level0_row32\" class=\"row_heading level0 row32\" >33</th>\n",
       "                        <td id=\"T_b30836f6_9566_11ea_99e6_8c1645b04de6row32_col0\" class=\"data row32 col0\" >Dadra and Nagar Haveli and Daman and Diu</td>\n",
       "                        <td id=\"T_b30836f6_9566_11ea_99e6_8c1645b04de6row32_col1\" class=\"data row32 col1\" >1</td>\n",
       "            </tr>\n",
       "            <tr>\n",
       "                        <th id=\"T_b30836f6_9566_11ea_99e6_8c1645b04de6level0_row33\" class=\"row_heading level0 row33\" >34</th>\n",
       "                        <td id=\"T_b30836f6_9566_11ea_99e6_8c1645b04de6row33_col0\" class=\"data row33 col0\" >Nagaland</td>\n",
       "                        <td id=\"T_b30836f6_9566_11ea_99e6_8c1645b04de6row33_col1\" class=\"data row33 col1\" >0</td>\n",
       "            </tr>\n",
       "            <tr>\n",
       "                        <th id=\"T_b30836f6_9566_11ea_99e6_8c1645b04de6level0_row34\" class=\"row_heading level0 row34\" >35</th>\n",
       "                        <td id=\"T_b30836f6_9566_11ea_99e6_8c1645b04de6row34_col0\" class=\"data row34 col0\" >Daman and Diu</td>\n",
       "                        <td id=\"T_b30836f6_9566_11ea_99e6_8c1645b04de6row34_col1\" class=\"data row34 col1\" >0</td>\n",
       "            </tr>\n",
       "            <tr>\n",
       "                        <th id=\"T_b30836f6_9566_11ea_99e6_8c1645b04de6level0_row35\" class=\"row_heading level0 row35\" >36</th>\n",
       "                        <td id=\"T_b30836f6_9566_11ea_99e6_8c1645b04de6row35_col0\" class=\"data row35 col0\" >Lakshadweep</td>\n",
       "                        <td id=\"T_b30836f6_9566_11ea_99e6_8c1645b04de6row35_col1\" class=\"data row35 col1\" >0</td>\n",
       "            </tr>\n",
       "            <tr>\n",
       "                        <th id=\"T_b30836f6_9566_11ea_99e6_8c1645b04de6level0_row36\" class=\"row_heading level0 row36\" >37</th>\n",
       "                        <td id=\"T_b30836f6_9566_11ea_99e6_8c1645b04de6row36_col0\" class=\"data row36 col0\" >Sikkim</td>\n",
       "                        <td id=\"T_b30836f6_9566_11ea_99e6_8c1645b04de6row36_col1\" class=\"data row36 col1\" >0</td>\n",
       "            </tr>\n",
       "    </tbody></table>"
      ],
      "text/plain": [
       "<pandas.io.formats.style.Styler at 0x1d31c0ebb48>"
      ]
     },
     "execution_count": 37,
     "metadata": {},
     "output_type": "execute_result"
    }
   ],
   "source": [
    "covid19_active.style.background_gradient(cmap='Reds')\n"
   ]
  },
  {
   "cell_type": "code",
   "execution_count": 38,
   "metadata": {},
   "outputs": [
    {
     "data": {
      "application/vnd.plotly.v1+json": {
       "config": {
        "linkText": "Export to plot.ly",
        "plotlyServerURL": "https://plot.ly",
        "showLink": true
       },
       "data": [
        {
         "marker": {
          "color": "rgba(255, 153, 51, 0.6)",
          "line": {
           "color": "rgba(255, 153, 51, 1.0)",
           "width": 1
          }
         },
         "name": "confirmed",
         "orientation": "v",
         "text": "",
         "type": "bar",
         "x": [
          "Andaman and Nicobar Islands",
          "Andhra Pradesh",
          "Arunachal Pradesh",
          "Assam",
          "Bihar",
          "Chandigarh",
          "Chhattisgarh",
          "Dadra and Nagar Haveli and Daman and Diu",
          "Daman and Diu",
          "Delhi",
          "Goa",
          "Gujarat",
          "Haryana",
          "Himachal Pradesh",
          "Jammu and Kashmir",
          "Jharkhand",
          "Karnataka",
          "Kerala",
          "Ladakh",
          "Lakshadweep",
          "Madhya Pradesh",
          "Maharashtra",
          "Manipur",
          "Meghalaya",
          "Mizoram",
          "Nagaland",
          "Odisha",
          "Puducherry",
          "Punjab",
          "Rajasthan",
          "Sikkim",
          "Tamil Nadu",
          "Telangana",
          "Tripura",
          "Uttar Pradesh",
          "Uttarakhand",
          "West Bengal"
         ],
         "y": [
          33,
          2137,
          1,
          80,
          953,
          191,
          59,
          1,
          0,
          7998,
          7,
          9268,
          793,
          67,
          971,
          177,
          959,
          535,
          43,
          0,
          4173,
          25922,
          2,
          13,
          1,
          0,
          538,
          13,
          1924,
          4328,
          0,
          9227,
          1367,
          154,
          3758,
          72,
          2290
         ]
        }
       ],
       "layout": {
        "legend": {
         "bgcolor": "#F5F6F9",
         "font": {
          "color": "#4D5663"
         }
        },
        "paper_bgcolor": "#F5F6F9",
        "plot_bgcolor": "#F5F6F9",
        "template": {
         "data": {
          "bar": [
           {
            "error_x": {
             "color": "#2a3f5f"
            },
            "error_y": {
             "color": "#2a3f5f"
            },
            "marker": {
             "line": {
              "color": "#E5ECF6",
              "width": 0.5
             }
            },
            "type": "bar"
           }
          ],
          "barpolar": [
           {
            "marker": {
             "line": {
              "color": "#E5ECF6",
              "width": 0.5
             }
            },
            "type": "barpolar"
           }
          ],
          "carpet": [
           {
            "aaxis": {
             "endlinecolor": "#2a3f5f",
             "gridcolor": "white",
             "linecolor": "white",
             "minorgridcolor": "white",
             "startlinecolor": "#2a3f5f"
            },
            "baxis": {
             "endlinecolor": "#2a3f5f",
             "gridcolor": "white",
             "linecolor": "white",
             "minorgridcolor": "white",
             "startlinecolor": "#2a3f5f"
            },
            "type": "carpet"
           }
          ],
          "choropleth": [
           {
            "colorbar": {
             "outlinewidth": 0,
             "ticks": ""
            },
            "type": "choropleth"
           }
          ],
          "contour": [
           {
            "colorbar": {
             "outlinewidth": 0,
             "ticks": ""
            },
            "colorscale": [
             [
              0,
              "#0d0887"
             ],
             [
              0.1111111111111111,
              "#46039f"
             ],
             [
              0.2222222222222222,
              "#7201a8"
             ],
             [
              0.3333333333333333,
              "#9c179e"
             ],
             [
              0.4444444444444444,
              "#bd3786"
             ],
             [
              0.5555555555555556,
              "#d8576b"
             ],
             [
              0.6666666666666666,
              "#ed7953"
             ],
             [
              0.7777777777777778,
              "#fb9f3a"
             ],
             [
              0.8888888888888888,
              "#fdca26"
             ],
             [
              1,
              "#f0f921"
             ]
            ],
            "type": "contour"
           }
          ],
          "contourcarpet": [
           {
            "colorbar": {
             "outlinewidth": 0,
             "ticks": ""
            },
            "type": "contourcarpet"
           }
          ],
          "heatmap": [
           {
            "colorbar": {
             "outlinewidth": 0,
             "ticks": ""
            },
            "colorscale": [
             [
              0,
              "#0d0887"
             ],
             [
              0.1111111111111111,
              "#46039f"
             ],
             [
              0.2222222222222222,
              "#7201a8"
             ],
             [
              0.3333333333333333,
              "#9c179e"
             ],
             [
              0.4444444444444444,
              "#bd3786"
             ],
             [
              0.5555555555555556,
              "#d8576b"
             ],
             [
              0.6666666666666666,
              "#ed7953"
             ],
             [
              0.7777777777777778,
              "#fb9f3a"
             ],
             [
              0.8888888888888888,
              "#fdca26"
             ],
             [
              1,
              "#f0f921"
             ]
            ],
            "type": "heatmap"
           }
          ],
          "heatmapgl": [
           {
            "colorbar": {
             "outlinewidth": 0,
             "ticks": ""
            },
            "colorscale": [
             [
              0,
              "#0d0887"
             ],
             [
              0.1111111111111111,
              "#46039f"
             ],
             [
              0.2222222222222222,
              "#7201a8"
             ],
             [
              0.3333333333333333,
              "#9c179e"
             ],
             [
              0.4444444444444444,
              "#bd3786"
             ],
             [
              0.5555555555555556,
              "#d8576b"
             ],
             [
              0.6666666666666666,
              "#ed7953"
             ],
             [
              0.7777777777777778,
              "#fb9f3a"
             ],
             [
              0.8888888888888888,
              "#fdca26"
             ],
             [
              1,
              "#f0f921"
             ]
            ],
            "type": "heatmapgl"
           }
          ],
          "histogram": [
           {
            "marker": {
             "colorbar": {
              "outlinewidth": 0,
              "ticks": ""
             }
            },
            "type": "histogram"
           }
          ],
          "histogram2d": [
           {
            "colorbar": {
             "outlinewidth": 0,
             "ticks": ""
            },
            "colorscale": [
             [
              0,
              "#0d0887"
             ],
             [
              0.1111111111111111,
              "#46039f"
             ],
             [
              0.2222222222222222,
              "#7201a8"
             ],
             [
              0.3333333333333333,
              "#9c179e"
             ],
             [
              0.4444444444444444,
              "#bd3786"
             ],
             [
              0.5555555555555556,
              "#d8576b"
             ],
             [
              0.6666666666666666,
              "#ed7953"
             ],
             [
              0.7777777777777778,
              "#fb9f3a"
             ],
             [
              0.8888888888888888,
              "#fdca26"
             ],
             [
              1,
              "#f0f921"
             ]
            ],
            "type": "histogram2d"
           }
          ],
          "histogram2dcontour": [
           {
            "colorbar": {
             "outlinewidth": 0,
             "ticks": ""
            },
            "colorscale": [
             [
              0,
              "#0d0887"
             ],
             [
              0.1111111111111111,
              "#46039f"
             ],
             [
              0.2222222222222222,
              "#7201a8"
             ],
             [
              0.3333333333333333,
              "#9c179e"
             ],
             [
              0.4444444444444444,
              "#bd3786"
             ],
             [
              0.5555555555555556,
              "#d8576b"
             ],
             [
              0.6666666666666666,
              "#ed7953"
             ],
             [
              0.7777777777777778,
              "#fb9f3a"
             ],
             [
              0.8888888888888888,
              "#fdca26"
             ],
             [
              1,
              "#f0f921"
             ]
            ],
            "type": "histogram2dcontour"
           }
          ],
          "mesh3d": [
           {
            "colorbar": {
             "outlinewidth": 0,
             "ticks": ""
            },
            "type": "mesh3d"
           }
          ],
          "parcoords": [
           {
            "line": {
             "colorbar": {
              "outlinewidth": 0,
              "ticks": ""
             }
            },
            "type": "parcoords"
           }
          ],
          "pie": [
           {
            "automargin": true,
            "type": "pie"
           }
          ],
          "scatter": [
           {
            "marker": {
             "colorbar": {
              "outlinewidth": 0,
              "ticks": ""
             }
            },
            "type": "scatter"
           }
          ],
          "scatter3d": [
           {
            "line": {
             "colorbar": {
              "outlinewidth": 0,
              "ticks": ""
             }
            },
            "marker": {
             "colorbar": {
              "outlinewidth": 0,
              "ticks": ""
             }
            },
            "type": "scatter3d"
           }
          ],
          "scattercarpet": [
           {
            "marker": {
             "colorbar": {
              "outlinewidth": 0,
              "ticks": ""
             }
            },
            "type": "scattercarpet"
           }
          ],
          "scattergeo": [
           {
            "marker": {
             "colorbar": {
              "outlinewidth": 0,
              "ticks": ""
             }
            },
            "type": "scattergeo"
           }
          ],
          "scattergl": [
           {
            "marker": {
             "colorbar": {
              "outlinewidth": 0,
              "ticks": ""
             }
            },
            "type": "scattergl"
           }
          ],
          "scattermapbox": [
           {
            "marker": {
             "colorbar": {
              "outlinewidth": 0,
              "ticks": ""
             }
            },
            "type": "scattermapbox"
           }
          ],
          "scatterpolar": [
           {
            "marker": {
             "colorbar": {
              "outlinewidth": 0,
              "ticks": ""
             }
            },
            "type": "scatterpolar"
           }
          ],
          "scatterpolargl": [
           {
            "marker": {
             "colorbar": {
              "outlinewidth": 0,
              "ticks": ""
             }
            },
            "type": "scatterpolargl"
           }
          ],
          "scatterternary": [
           {
            "marker": {
             "colorbar": {
              "outlinewidth": 0,
              "ticks": ""
             }
            },
            "type": "scatterternary"
           }
          ],
          "surface": [
           {
            "colorbar": {
             "outlinewidth": 0,
             "ticks": ""
            },
            "colorscale": [
             [
              0,
              "#0d0887"
             ],
             [
              0.1111111111111111,
              "#46039f"
             ],
             [
              0.2222222222222222,
              "#7201a8"
             ],
             [
              0.3333333333333333,
              "#9c179e"
             ],
             [
              0.4444444444444444,
              "#bd3786"
             ],
             [
              0.5555555555555556,
              "#d8576b"
             ],
             [
              0.6666666666666666,
              "#ed7953"
             ],
             [
              0.7777777777777778,
              "#fb9f3a"
             ],
             [
              0.8888888888888888,
              "#fdca26"
             ],
             [
              1,
              "#f0f921"
             ]
            ],
            "type": "surface"
           }
          ],
          "table": [
           {
            "cells": {
             "fill": {
              "color": "#EBF0F8"
             },
             "line": {
              "color": "white"
             }
            },
            "header": {
             "fill": {
              "color": "#C8D4E3"
             },
             "line": {
              "color": "white"
             }
            },
            "type": "table"
           }
          ]
         },
         "layout": {
          "annotationdefaults": {
           "arrowcolor": "#2a3f5f",
           "arrowhead": 0,
           "arrowwidth": 1
          },
          "coloraxis": {
           "colorbar": {
            "outlinewidth": 0,
            "ticks": ""
           }
          },
          "colorscale": {
           "diverging": [
            [
             0,
             "#8e0152"
            ],
            [
             0.1,
             "#c51b7d"
            ],
            [
             0.2,
             "#de77ae"
            ],
            [
             0.3,
             "#f1b6da"
            ],
            [
             0.4,
             "#fde0ef"
            ],
            [
             0.5,
             "#f7f7f7"
            ],
            [
             0.6,
             "#e6f5d0"
            ],
            [
             0.7,
             "#b8e186"
            ],
            [
             0.8,
             "#7fbc41"
            ],
            [
             0.9,
             "#4d9221"
            ],
            [
             1,
             "#276419"
            ]
           ],
           "sequential": [
            [
             0,
             "#0d0887"
            ],
            [
             0.1111111111111111,
             "#46039f"
            ],
            [
             0.2222222222222222,
             "#7201a8"
            ],
            [
             0.3333333333333333,
             "#9c179e"
            ],
            [
             0.4444444444444444,
             "#bd3786"
            ],
            [
             0.5555555555555556,
             "#d8576b"
            ],
            [
             0.6666666666666666,
             "#ed7953"
            ],
            [
             0.7777777777777778,
             "#fb9f3a"
            ],
            [
             0.8888888888888888,
             "#fdca26"
            ],
            [
             1,
             "#f0f921"
            ]
           ],
           "sequentialminus": [
            [
             0,
             "#0d0887"
            ],
            [
             0.1111111111111111,
             "#46039f"
            ],
            [
             0.2222222222222222,
             "#7201a8"
            ],
            [
             0.3333333333333333,
             "#9c179e"
            ],
            [
             0.4444444444444444,
             "#bd3786"
            ],
            [
             0.5555555555555556,
             "#d8576b"
            ],
            [
             0.6666666666666666,
             "#ed7953"
            ],
            [
             0.7777777777777778,
             "#fb9f3a"
            ],
            [
             0.8888888888888888,
             "#fdca26"
            ],
            [
             1,
             "#f0f921"
            ]
           ]
          },
          "colorway": [
           "#636efa",
           "#EF553B",
           "#00cc96",
           "#ab63fa",
           "#FFA15A",
           "#19d3f3",
           "#FF6692",
           "#B6E880",
           "#FF97FF",
           "#FECB52"
          ],
          "font": {
           "color": "#2a3f5f"
          },
          "geo": {
           "bgcolor": "white",
           "lakecolor": "white",
           "landcolor": "#E5ECF6",
           "showlakes": true,
           "showland": true,
           "subunitcolor": "white"
          },
          "hoverlabel": {
           "align": "left"
          },
          "hovermode": "closest",
          "mapbox": {
           "style": "light"
          },
          "paper_bgcolor": "white",
          "plot_bgcolor": "#E5ECF6",
          "polar": {
           "angularaxis": {
            "gridcolor": "white",
            "linecolor": "white",
            "ticks": ""
           },
           "bgcolor": "#E5ECF6",
           "radialaxis": {
            "gridcolor": "white",
            "linecolor": "white",
            "ticks": ""
           }
          },
          "scene": {
           "xaxis": {
            "backgroundcolor": "#E5ECF6",
            "gridcolor": "white",
            "gridwidth": 2,
            "linecolor": "white",
            "showbackground": true,
            "ticks": "",
            "zerolinecolor": "white"
           },
           "yaxis": {
            "backgroundcolor": "#E5ECF6",
            "gridcolor": "white",
            "gridwidth": 2,
            "linecolor": "white",
            "showbackground": true,
            "ticks": "",
            "zerolinecolor": "white"
           },
           "zaxis": {
            "backgroundcolor": "#E5ECF6",
            "gridcolor": "white",
            "gridwidth": 2,
            "linecolor": "white",
            "showbackground": true,
            "ticks": "",
            "zerolinecolor": "white"
           }
          },
          "shapedefaults": {
           "line": {
            "color": "#2a3f5f"
           }
          },
          "ternary": {
           "aaxis": {
            "gridcolor": "white",
            "linecolor": "white",
            "ticks": ""
           },
           "baxis": {
            "gridcolor": "white",
            "linecolor": "white",
            "ticks": ""
           },
           "bgcolor": "#E5ECF6",
           "caxis": {
            "gridcolor": "white",
            "linecolor": "white",
            "ticks": ""
           }
          },
          "title": {
           "x": 0.05
          },
          "xaxis": {
           "automargin": true,
           "gridcolor": "white",
           "linecolor": "white",
           "ticks": "",
           "title": {
            "standoff": 15
           },
           "zerolinecolor": "white",
           "zerolinewidth": 2
          },
          "yaxis": {
           "automargin": true,
           "gridcolor": "white",
           "linecolor": "white",
           "ticks": "",
           "title": {
            "standoff": 15
           },
           "zerolinecolor": "white",
           "zerolinewidth": 2
          }
         }
        },
        "title": {
         "font": {
          "color": "#4D5663"
         }
        },
        "xaxis": {
         "gridcolor": "#E1E5ED",
         "showgrid": true,
         "tickfont": {
          "color": "#4D5663"
         },
         "title": {
          "font": {
           "color": "#4D5663"
          },
          "text": ""
         },
         "zerolinecolor": "#E1E5ED"
        },
        "yaxis": {
         "gridcolor": "#E1E5ED",
         "showgrid": true,
         "tickfont": {
          "color": "#4D5663"
         },
         "title": {
          "font": {
           "color": "#4D5663"
          },
          "text": ""
         },
         "zerolinecolor": "#E1E5ED"
        }
       }
      },
      "text/html": [
       "<div>\n",
       "        \n",
       "        \n",
       "            <div id=\"f5d5b1b3-1230-4af1-909f-a8783c93e30a\" class=\"plotly-graph-div\" style=\"height:525px; width:100%;\"></div>\n",
       "            <script type=\"text/javascript\">\n",
       "                require([\"plotly\"], function(Plotly) {\n",
       "                    window.PLOTLYENV=window.PLOTLYENV || {};\n",
       "                    window.PLOTLYENV.BASE_URL='https://plot.ly';\n",
       "                    \n",
       "                if (document.getElementById(\"f5d5b1b3-1230-4af1-909f-a8783c93e30a\")) {\n",
       "                    Plotly.newPlot(\n",
       "                        'f5d5b1b3-1230-4af1-909f-a8783c93e30a',\n",
       "                        [{\"marker\": {\"color\": \"rgba(255, 153, 51, 0.6)\", \"line\": {\"color\": \"rgba(255, 153, 51, 1.0)\", \"width\": 1}}, \"name\": \"confirmed\", \"orientation\": \"v\", \"text\": \"\", \"type\": \"bar\", \"x\": [\"Andaman and Nicobar Islands\", \"Andhra Pradesh\", \"Arunachal Pradesh\", \"Assam\", \"Bihar\", \"Chandigarh\", \"Chhattisgarh\", \"Dadra and Nagar Haveli and Daman and Diu\", \"Daman and Diu\", \"Delhi\", \"Goa\", \"Gujarat\", \"Haryana\", \"Himachal Pradesh\", \"Jammu and Kashmir\", \"Jharkhand\", \"Karnataka\", \"Kerala\", \"Ladakh\", \"Lakshadweep\", \"Madhya Pradesh\", \"Maharashtra\", \"Manipur\", \"Meghalaya\", \"Mizoram\", \"Nagaland\", \"Odisha\", \"Puducherry\", \"Punjab\", \"Rajasthan\", \"Sikkim\", \"Tamil Nadu\", \"Telangana\", \"Tripura\", \"Uttar Pradesh\", \"Uttarakhand\", \"West Bengal\"], \"y\": [33, 2137, 1, 80, 953, 191, 59, 1, 0, 7998, 7, 9268, 793, 67, 971, 177, 959, 535, 43, 0, 4173, 25922, 2, 13, 1, 0, 538, 13, 1924, 4328, 0, 9227, 1367, 154, 3758, 72, 2290]}],\n",
       "                        {\"legend\": {\"bgcolor\": \"#F5F6F9\", \"font\": {\"color\": \"#4D5663\"}}, \"paper_bgcolor\": \"#F5F6F9\", \"plot_bgcolor\": \"#F5F6F9\", \"template\": {\"data\": {\"bar\": [{\"error_x\": {\"color\": \"#2a3f5f\"}, \"error_y\": {\"color\": \"#2a3f5f\"}, \"marker\": {\"line\": {\"color\": \"#E5ECF6\", \"width\": 0.5}}, \"type\": \"bar\"}], \"barpolar\": [{\"marker\": {\"line\": {\"color\": \"#E5ECF6\", \"width\": 0.5}}, \"type\": \"barpolar\"}], \"carpet\": [{\"aaxis\": {\"endlinecolor\": \"#2a3f5f\", \"gridcolor\": \"white\", \"linecolor\": \"white\", \"minorgridcolor\": \"white\", \"startlinecolor\": \"#2a3f5f\"}, \"baxis\": {\"endlinecolor\": \"#2a3f5f\", \"gridcolor\": \"white\", \"linecolor\": \"white\", \"minorgridcolor\": \"white\", \"startlinecolor\": \"#2a3f5f\"}, \"type\": \"carpet\"}], \"choropleth\": [{\"colorbar\": {\"outlinewidth\": 0, \"ticks\": \"\"}, \"type\": \"choropleth\"}], \"contour\": [{\"colorbar\": {\"outlinewidth\": 0, \"ticks\": \"\"}, \"colorscale\": [[0.0, \"#0d0887\"], [0.1111111111111111, \"#46039f\"], [0.2222222222222222, \"#7201a8\"], [0.3333333333333333, \"#9c179e\"], [0.4444444444444444, \"#bd3786\"], [0.5555555555555556, \"#d8576b\"], [0.6666666666666666, \"#ed7953\"], [0.7777777777777778, \"#fb9f3a\"], [0.8888888888888888, \"#fdca26\"], [1.0, \"#f0f921\"]], \"type\": \"contour\"}], \"contourcarpet\": [{\"colorbar\": {\"outlinewidth\": 0, \"ticks\": \"\"}, \"type\": \"contourcarpet\"}], \"heatmap\": [{\"colorbar\": {\"outlinewidth\": 0, \"ticks\": \"\"}, \"colorscale\": [[0.0, \"#0d0887\"], [0.1111111111111111, \"#46039f\"], [0.2222222222222222, \"#7201a8\"], [0.3333333333333333, \"#9c179e\"], [0.4444444444444444, \"#bd3786\"], [0.5555555555555556, \"#d8576b\"], [0.6666666666666666, \"#ed7953\"], [0.7777777777777778, \"#fb9f3a\"], [0.8888888888888888, \"#fdca26\"], [1.0, \"#f0f921\"]], \"type\": \"heatmap\"}], \"heatmapgl\": [{\"colorbar\": {\"outlinewidth\": 0, \"ticks\": \"\"}, \"colorscale\": [[0.0, \"#0d0887\"], [0.1111111111111111, \"#46039f\"], [0.2222222222222222, \"#7201a8\"], [0.3333333333333333, \"#9c179e\"], [0.4444444444444444, \"#bd3786\"], [0.5555555555555556, \"#d8576b\"], [0.6666666666666666, \"#ed7953\"], [0.7777777777777778, \"#fb9f3a\"], [0.8888888888888888, \"#fdca26\"], [1.0, \"#f0f921\"]], \"type\": \"heatmapgl\"}], \"histogram\": [{\"marker\": {\"colorbar\": {\"outlinewidth\": 0, \"ticks\": \"\"}}, \"type\": \"histogram\"}], \"histogram2d\": [{\"colorbar\": {\"outlinewidth\": 0, \"ticks\": \"\"}, \"colorscale\": [[0.0, \"#0d0887\"], [0.1111111111111111, \"#46039f\"], [0.2222222222222222, \"#7201a8\"], [0.3333333333333333, \"#9c179e\"], [0.4444444444444444, \"#bd3786\"], [0.5555555555555556, \"#d8576b\"], [0.6666666666666666, \"#ed7953\"], [0.7777777777777778, \"#fb9f3a\"], [0.8888888888888888, \"#fdca26\"], [1.0, \"#f0f921\"]], \"type\": \"histogram2d\"}], \"histogram2dcontour\": [{\"colorbar\": {\"outlinewidth\": 0, \"ticks\": \"\"}, \"colorscale\": [[0.0, \"#0d0887\"], [0.1111111111111111, \"#46039f\"], [0.2222222222222222, \"#7201a8\"], [0.3333333333333333, \"#9c179e\"], [0.4444444444444444, \"#bd3786\"], [0.5555555555555556, \"#d8576b\"], [0.6666666666666666, \"#ed7953\"], [0.7777777777777778, \"#fb9f3a\"], [0.8888888888888888, \"#fdca26\"], [1.0, \"#f0f921\"]], \"type\": \"histogram2dcontour\"}], \"mesh3d\": [{\"colorbar\": {\"outlinewidth\": 0, \"ticks\": \"\"}, \"type\": \"mesh3d\"}], \"parcoords\": [{\"line\": {\"colorbar\": {\"outlinewidth\": 0, \"ticks\": \"\"}}, \"type\": \"parcoords\"}], \"pie\": [{\"automargin\": true, \"type\": \"pie\"}], \"scatter\": [{\"marker\": {\"colorbar\": {\"outlinewidth\": 0, \"ticks\": \"\"}}, \"type\": \"scatter\"}], \"scatter3d\": [{\"line\": {\"colorbar\": {\"outlinewidth\": 0, \"ticks\": \"\"}}, \"marker\": {\"colorbar\": {\"outlinewidth\": 0, \"ticks\": \"\"}}, \"type\": \"scatter3d\"}], \"scattercarpet\": [{\"marker\": {\"colorbar\": {\"outlinewidth\": 0, \"ticks\": \"\"}}, \"type\": \"scattercarpet\"}], \"scattergeo\": [{\"marker\": {\"colorbar\": {\"outlinewidth\": 0, \"ticks\": \"\"}}, \"type\": \"scattergeo\"}], \"scattergl\": [{\"marker\": {\"colorbar\": {\"outlinewidth\": 0, \"ticks\": \"\"}}, \"type\": \"scattergl\"}], \"scattermapbox\": [{\"marker\": {\"colorbar\": {\"outlinewidth\": 0, \"ticks\": \"\"}}, \"type\": \"scattermapbox\"}], \"scatterpolar\": [{\"marker\": {\"colorbar\": {\"outlinewidth\": 0, \"ticks\": \"\"}}, \"type\": \"scatterpolar\"}], \"scatterpolargl\": [{\"marker\": {\"colorbar\": {\"outlinewidth\": 0, \"ticks\": \"\"}}, \"type\": \"scatterpolargl\"}], \"scatterternary\": [{\"marker\": {\"colorbar\": {\"outlinewidth\": 0, \"ticks\": \"\"}}, \"type\": \"scatterternary\"}], \"surface\": [{\"colorbar\": {\"outlinewidth\": 0, \"ticks\": \"\"}, \"colorscale\": [[0.0, \"#0d0887\"], [0.1111111111111111, \"#46039f\"], [0.2222222222222222, \"#7201a8\"], [0.3333333333333333, \"#9c179e\"], [0.4444444444444444, \"#bd3786\"], [0.5555555555555556, \"#d8576b\"], [0.6666666666666666, \"#ed7953\"], [0.7777777777777778, \"#fb9f3a\"], [0.8888888888888888, \"#fdca26\"], [1.0, \"#f0f921\"]], \"type\": \"surface\"}], \"table\": [{\"cells\": {\"fill\": {\"color\": \"#EBF0F8\"}, \"line\": {\"color\": \"white\"}}, \"header\": {\"fill\": {\"color\": \"#C8D4E3\"}, \"line\": {\"color\": \"white\"}}, \"type\": \"table\"}]}, \"layout\": {\"annotationdefaults\": {\"arrowcolor\": \"#2a3f5f\", \"arrowhead\": 0, \"arrowwidth\": 1}, \"coloraxis\": {\"colorbar\": {\"outlinewidth\": 0, \"ticks\": \"\"}}, \"colorscale\": {\"diverging\": [[0, \"#8e0152\"], [0.1, \"#c51b7d\"], [0.2, \"#de77ae\"], [0.3, \"#f1b6da\"], [0.4, \"#fde0ef\"], [0.5, \"#f7f7f7\"], [0.6, \"#e6f5d0\"], [0.7, \"#b8e186\"], [0.8, \"#7fbc41\"], [0.9, \"#4d9221\"], [1, \"#276419\"]], \"sequential\": [[0.0, \"#0d0887\"], [0.1111111111111111, \"#46039f\"], [0.2222222222222222, \"#7201a8\"], [0.3333333333333333, \"#9c179e\"], [0.4444444444444444, \"#bd3786\"], [0.5555555555555556, \"#d8576b\"], [0.6666666666666666, \"#ed7953\"], [0.7777777777777778, \"#fb9f3a\"], [0.8888888888888888, \"#fdca26\"], [1.0, \"#f0f921\"]], \"sequentialminus\": [[0.0, \"#0d0887\"], [0.1111111111111111, \"#46039f\"], [0.2222222222222222, \"#7201a8\"], [0.3333333333333333, \"#9c179e\"], [0.4444444444444444, \"#bd3786\"], [0.5555555555555556, \"#d8576b\"], [0.6666666666666666, \"#ed7953\"], [0.7777777777777778, \"#fb9f3a\"], [0.8888888888888888, \"#fdca26\"], [1.0, \"#f0f921\"]]}, \"colorway\": [\"#636efa\", \"#EF553B\", \"#00cc96\", \"#ab63fa\", \"#FFA15A\", \"#19d3f3\", \"#FF6692\", \"#B6E880\", \"#FF97FF\", \"#FECB52\"], \"font\": {\"color\": \"#2a3f5f\"}, \"geo\": {\"bgcolor\": \"white\", \"lakecolor\": \"white\", \"landcolor\": \"#E5ECF6\", \"showlakes\": true, \"showland\": true, \"subunitcolor\": \"white\"}, \"hoverlabel\": {\"align\": \"left\"}, \"hovermode\": \"closest\", \"mapbox\": {\"style\": \"light\"}, \"paper_bgcolor\": \"white\", \"plot_bgcolor\": \"#E5ECF6\", \"polar\": {\"angularaxis\": {\"gridcolor\": \"white\", \"linecolor\": \"white\", \"ticks\": \"\"}, \"bgcolor\": \"#E5ECF6\", \"radialaxis\": {\"gridcolor\": \"white\", \"linecolor\": \"white\", \"ticks\": \"\"}}, \"scene\": {\"xaxis\": {\"backgroundcolor\": \"#E5ECF6\", \"gridcolor\": \"white\", \"gridwidth\": 2, \"linecolor\": \"white\", \"showbackground\": true, \"ticks\": \"\", \"zerolinecolor\": \"white\"}, \"yaxis\": {\"backgroundcolor\": \"#E5ECF6\", \"gridcolor\": \"white\", \"gridwidth\": 2, \"linecolor\": \"white\", \"showbackground\": true, \"ticks\": \"\", \"zerolinecolor\": \"white\"}, \"zaxis\": {\"backgroundcolor\": \"#E5ECF6\", \"gridcolor\": \"white\", \"gridwidth\": 2, \"linecolor\": \"white\", \"showbackground\": true, \"ticks\": \"\", \"zerolinecolor\": \"white\"}}, \"shapedefaults\": {\"line\": {\"color\": \"#2a3f5f\"}}, \"ternary\": {\"aaxis\": {\"gridcolor\": \"white\", \"linecolor\": \"white\", \"ticks\": \"\"}, \"baxis\": {\"gridcolor\": \"white\", \"linecolor\": \"white\", \"ticks\": \"\"}, \"bgcolor\": \"#E5ECF6\", \"caxis\": {\"gridcolor\": \"white\", \"linecolor\": \"white\", \"ticks\": \"\"}}, \"title\": {\"x\": 0.05}, \"xaxis\": {\"automargin\": true, \"gridcolor\": \"white\", \"linecolor\": \"white\", \"ticks\": \"\", \"title\": {\"standoff\": 15}, \"zerolinecolor\": \"white\", \"zerolinewidth\": 2}, \"yaxis\": {\"automargin\": true, \"gridcolor\": \"white\", \"linecolor\": \"white\", \"ticks\": \"\", \"title\": {\"standoff\": 15}, \"zerolinecolor\": \"white\", \"zerolinewidth\": 2}}}, \"title\": {\"font\": {\"color\": \"#4D5663\"}}, \"xaxis\": {\"gridcolor\": \"#E1E5ED\", \"showgrid\": true, \"tickfont\": {\"color\": \"#4D5663\"}, \"title\": {\"font\": {\"color\": \"#4D5663\"}, \"text\": \"\"}, \"zerolinecolor\": \"#E1E5ED\"}, \"yaxis\": {\"gridcolor\": \"#E1E5ED\", \"showgrid\": true, \"tickfont\": {\"color\": \"#4D5663\"}, \"title\": {\"font\": {\"color\": \"#4D5663\"}, \"text\": \"\"}, \"zerolinecolor\": \"#E1E5ED\"}},\n",
       "                        {\"showLink\": true, \"linkText\": \"Export to plot.ly\", \"plotlyServerURL\": \"https://plot.ly\", \"responsive\": true}\n",
       "                    ).then(function(){\n",
       "                            \n",
       "var gd = document.getElementById('f5d5b1b3-1230-4af1-909f-a8783c93e30a');\n",
       "var x = new MutationObserver(function (mutations, observer) {{\n",
       "        var display = window.getComputedStyle(gd).display;\n",
       "        if (!display || display === 'none') {{\n",
       "            console.log([gd, 'removed!']);\n",
       "            Plotly.purge(gd);\n",
       "            observer.disconnect();\n",
       "        }}\n",
       "}});\n",
       "\n",
       "// Listen for the removal of the full notebook cells\n",
       "var notebookContainer = gd.closest('#notebook-container');\n",
       "if (notebookContainer) {{\n",
       "    x.observe(notebookContainer, {childList: true});\n",
       "}}\n",
       "\n",
       "// Listen for the clearing of the current output cell\n",
       "var outputEl = gd.closest('.output');\n",
       "if (outputEl) {{\n",
       "    x.observe(outputEl, {childList: true});\n",
       "}}\n",
       "\n",
       "                        })\n",
       "                };\n",
       "                });\n",
       "            </script>\n",
       "        </div>"
      ]
     },
     "metadata": {},
     "output_type": "display_data"
    }
   ],
   "source": [
    "covid19.iplot(kind='bar',x='state',y='confirmed')"
   ]
  },
  {
   "cell_type": "code",
   "execution_count": 39,
   "metadata": {},
   "outputs": [
    {
     "data": {
      "application/vnd.plotly.v1+json": {
       "config": {
        "linkText": "Export to plot.ly",
        "plotlyServerURL": "https://plot.ly",
        "showLink": true
       },
       "data": [
        {
         "line": {
          "color": "rgba(219, 64, 82, 1.0)",
          "dash": "solid",
          "shape": "linear",
          "width": 1.3
         },
         "marker": {
          "size": 15,
          "symbol": "circle"
         },
         "mode": "markers+lines",
         "name": "confirmed",
         "text": "",
         "type": "scatter",
         "x": [
          "Andaman and Nicobar Islands",
          "Andhra Pradesh",
          "Arunachal Pradesh",
          "Assam",
          "Bihar",
          "Chandigarh",
          "Chhattisgarh",
          "Dadra and Nagar Haveli and Daman and Diu",
          "Daman and Diu",
          "Delhi",
          "Goa",
          "Gujarat",
          "Haryana",
          "Himachal Pradesh",
          "Jammu and Kashmir",
          "Jharkhand",
          "Karnataka",
          "Kerala",
          "Ladakh",
          "Lakshadweep",
          "Madhya Pradesh",
          "Maharashtra",
          "Manipur",
          "Meghalaya",
          "Mizoram",
          "Nagaland",
          "Odisha",
          "Puducherry",
          "Punjab",
          "Rajasthan",
          "Sikkim",
          "Tamil Nadu",
          "Telangana",
          "Tripura",
          "Uttar Pradesh",
          "Uttarakhand",
          "West Bengal"
         ],
         "y": [
          33,
          2137,
          1,
          80,
          953,
          191,
          59,
          1,
          0,
          7998,
          7,
          9268,
          793,
          67,
          971,
          177,
          959,
          535,
          43,
          0,
          4173,
          25922,
          2,
          13,
          1,
          0,
          538,
          13,
          1924,
          4328,
          0,
          9227,
          1367,
          154,
          3758,
          72,
          2290
         ]
        }
       ],
       "layout": {
        "legend": {
         "bgcolor": "#F5F6F9",
         "font": {
          "color": "#4D5663"
         }
        },
        "paper_bgcolor": "#F5F6F9",
        "plot_bgcolor": "#F5F6F9",
        "template": {
         "data": {
          "bar": [
           {
            "error_x": {
             "color": "#2a3f5f"
            },
            "error_y": {
             "color": "#2a3f5f"
            },
            "marker": {
             "line": {
              "color": "#E5ECF6",
              "width": 0.5
             }
            },
            "type": "bar"
           }
          ],
          "barpolar": [
           {
            "marker": {
             "line": {
              "color": "#E5ECF6",
              "width": 0.5
             }
            },
            "type": "barpolar"
           }
          ],
          "carpet": [
           {
            "aaxis": {
             "endlinecolor": "#2a3f5f",
             "gridcolor": "white",
             "linecolor": "white",
             "minorgridcolor": "white",
             "startlinecolor": "#2a3f5f"
            },
            "baxis": {
             "endlinecolor": "#2a3f5f",
             "gridcolor": "white",
             "linecolor": "white",
             "minorgridcolor": "white",
             "startlinecolor": "#2a3f5f"
            },
            "type": "carpet"
           }
          ],
          "choropleth": [
           {
            "colorbar": {
             "outlinewidth": 0,
             "ticks": ""
            },
            "type": "choropleth"
           }
          ],
          "contour": [
           {
            "colorbar": {
             "outlinewidth": 0,
             "ticks": ""
            },
            "colorscale": [
             [
              0,
              "#0d0887"
             ],
             [
              0.1111111111111111,
              "#46039f"
             ],
             [
              0.2222222222222222,
              "#7201a8"
             ],
             [
              0.3333333333333333,
              "#9c179e"
             ],
             [
              0.4444444444444444,
              "#bd3786"
             ],
             [
              0.5555555555555556,
              "#d8576b"
             ],
             [
              0.6666666666666666,
              "#ed7953"
             ],
             [
              0.7777777777777778,
              "#fb9f3a"
             ],
             [
              0.8888888888888888,
              "#fdca26"
             ],
             [
              1,
              "#f0f921"
             ]
            ],
            "type": "contour"
           }
          ],
          "contourcarpet": [
           {
            "colorbar": {
             "outlinewidth": 0,
             "ticks": ""
            },
            "type": "contourcarpet"
           }
          ],
          "heatmap": [
           {
            "colorbar": {
             "outlinewidth": 0,
             "ticks": ""
            },
            "colorscale": [
             [
              0,
              "#0d0887"
             ],
             [
              0.1111111111111111,
              "#46039f"
             ],
             [
              0.2222222222222222,
              "#7201a8"
             ],
             [
              0.3333333333333333,
              "#9c179e"
             ],
             [
              0.4444444444444444,
              "#bd3786"
             ],
             [
              0.5555555555555556,
              "#d8576b"
             ],
             [
              0.6666666666666666,
              "#ed7953"
             ],
             [
              0.7777777777777778,
              "#fb9f3a"
             ],
             [
              0.8888888888888888,
              "#fdca26"
             ],
             [
              1,
              "#f0f921"
             ]
            ],
            "type": "heatmap"
           }
          ],
          "heatmapgl": [
           {
            "colorbar": {
             "outlinewidth": 0,
             "ticks": ""
            },
            "colorscale": [
             [
              0,
              "#0d0887"
             ],
             [
              0.1111111111111111,
              "#46039f"
             ],
             [
              0.2222222222222222,
              "#7201a8"
             ],
             [
              0.3333333333333333,
              "#9c179e"
             ],
             [
              0.4444444444444444,
              "#bd3786"
             ],
             [
              0.5555555555555556,
              "#d8576b"
             ],
             [
              0.6666666666666666,
              "#ed7953"
             ],
             [
              0.7777777777777778,
              "#fb9f3a"
             ],
             [
              0.8888888888888888,
              "#fdca26"
             ],
             [
              1,
              "#f0f921"
             ]
            ],
            "type": "heatmapgl"
           }
          ],
          "histogram": [
           {
            "marker": {
             "colorbar": {
              "outlinewidth": 0,
              "ticks": ""
             }
            },
            "type": "histogram"
           }
          ],
          "histogram2d": [
           {
            "colorbar": {
             "outlinewidth": 0,
             "ticks": ""
            },
            "colorscale": [
             [
              0,
              "#0d0887"
             ],
             [
              0.1111111111111111,
              "#46039f"
             ],
             [
              0.2222222222222222,
              "#7201a8"
             ],
             [
              0.3333333333333333,
              "#9c179e"
             ],
             [
              0.4444444444444444,
              "#bd3786"
             ],
             [
              0.5555555555555556,
              "#d8576b"
             ],
             [
              0.6666666666666666,
              "#ed7953"
             ],
             [
              0.7777777777777778,
              "#fb9f3a"
             ],
             [
              0.8888888888888888,
              "#fdca26"
             ],
             [
              1,
              "#f0f921"
             ]
            ],
            "type": "histogram2d"
           }
          ],
          "histogram2dcontour": [
           {
            "colorbar": {
             "outlinewidth": 0,
             "ticks": ""
            },
            "colorscale": [
             [
              0,
              "#0d0887"
             ],
             [
              0.1111111111111111,
              "#46039f"
             ],
             [
              0.2222222222222222,
              "#7201a8"
             ],
             [
              0.3333333333333333,
              "#9c179e"
             ],
             [
              0.4444444444444444,
              "#bd3786"
             ],
             [
              0.5555555555555556,
              "#d8576b"
             ],
             [
              0.6666666666666666,
              "#ed7953"
             ],
             [
              0.7777777777777778,
              "#fb9f3a"
             ],
             [
              0.8888888888888888,
              "#fdca26"
             ],
             [
              1,
              "#f0f921"
             ]
            ],
            "type": "histogram2dcontour"
           }
          ],
          "mesh3d": [
           {
            "colorbar": {
             "outlinewidth": 0,
             "ticks": ""
            },
            "type": "mesh3d"
           }
          ],
          "parcoords": [
           {
            "line": {
             "colorbar": {
              "outlinewidth": 0,
              "ticks": ""
             }
            },
            "type": "parcoords"
           }
          ],
          "pie": [
           {
            "automargin": true,
            "type": "pie"
           }
          ],
          "scatter": [
           {
            "marker": {
             "colorbar": {
              "outlinewidth": 0,
              "ticks": ""
             }
            },
            "type": "scatter"
           }
          ],
          "scatter3d": [
           {
            "line": {
             "colorbar": {
              "outlinewidth": 0,
              "ticks": ""
             }
            },
            "marker": {
             "colorbar": {
              "outlinewidth": 0,
              "ticks": ""
             }
            },
            "type": "scatter3d"
           }
          ],
          "scattercarpet": [
           {
            "marker": {
             "colorbar": {
              "outlinewidth": 0,
              "ticks": ""
             }
            },
            "type": "scattercarpet"
           }
          ],
          "scattergeo": [
           {
            "marker": {
             "colorbar": {
              "outlinewidth": 0,
              "ticks": ""
             }
            },
            "type": "scattergeo"
           }
          ],
          "scattergl": [
           {
            "marker": {
             "colorbar": {
              "outlinewidth": 0,
              "ticks": ""
             }
            },
            "type": "scattergl"
           }
          ],
          "scattermapbox": [
           {
            "marker": {
             "colorbar": {
              "outlinewidth": 0,
              "ticks": ""
             }
            },
            "type": "scattermapbox"
           }
          ],
          "scatterpolar": [
           {
            "marker": {
             "colorbar": {
              "outlinewidth": 0,
              "ticks": ""
             }
            },
            "type": "scatterpolar"
           }
          ],
          "scatterpolargl": [
           {
            "marker": {
             "colorbar": {
              "outlinewidth": 0,
              "ticks": ""
             }
            },
            "type": "scatterpolargl"
           }
          ],
          "scatterternary": [
           {
            "marker": {
             "colorbar": {
              "outlinewidth": 0,
              "ticks": ""
             }
            },
            "type": "scatterternary"
           }
          ],
          "surface": [
           {
            "colorbar": {
             "outlinewidth": 0,
             "ticks": ""
            },
            "colorscale": [
             [
              0,
              "#0d0887"
             ],
             [
              0.1111111111111111,
              "#46039f"
             ],
             [
              0.2222222222222222,
              "#7201a8"
             ],
             [
              0.3333333333333333,
              "#9c179e"
             ],
             [
              0.4444444444444444,
              "#bd3786"
             ],
             [
              0.5555555555555556,
              "#d8576b"
             ],
             [
              0.6666666666666666,
              "#ed7953"
             ],
             [
              0.7777777777777778,
              "#fb9f3a"
             ],
             [
              0.8888888888888888,
              "#fdca26"
             ],
             [
              1,
              "#f0f921"
             ]
            ],
            "type": "surface"
           }
          ],
          "table": [
           {
            "cells": {
             "fill": {
              "color": "#EBF0F8"
             },
             "line": {
              "color": "white"
             }
            },
            "header": {
             "fill": {
              "color": "#C8D4E3"
             },
             "line": {
              "color": "white"
             }
            },
            "type": "table"
           }
          ]
         },
         "layout": {
          "annotationdefaults": {
           "arrowcolor": "#2a3f5f",
           "arrowhead": 0,
           "arrowwidth": 1
          },
          "coloraxis": {
           "colorbar": {
            "outlinewidth": 0,
            "ticks": ""
           }
          },
          "colorscale": {
           "diverging": [
            [
             0,
             "#8e0152"
            ],
            [
             0.1,
             "#c51b7d"
            ],
            [
             0.2,
             "#de77ae"
            ],
            [
             0.3,
             "#f1b6da"
            ],
            [
             0.4,
             "#fde0ef"
            ],
            [
             0.5,
             "#f7f7f7"
            ],
            [
             0.6,
             "#e6f5d0"
            ],
            [
             0.7,
             "#b8e186"
            ],
            [
             0.8,
             "#7fbc41"
            ],
            [
             0.9,
             "#4d9221"
            ],
            [
             1,
             "#276419"
            ]
           ],
           "sequential": [
            [
             0,
             "#0d0887"
            ],
            [
             0.1111111111111111,
             "#46039f"
            ],
            [
             0.2222222222222222,
             "#7201a8"
            ],
            [
             0.3333333333333333,
             "#9c179e"
            ],
            [
             0.4444444444444444,
             "#bd3786"
            ],
            [
             0.5555555555555556,
             "#d8576b"
            ],
            [
             0.6666666666666666,
             "#ed7953"
            ],
            [
             0.7777777777777778,
             "#fb9f3a"
            ],
            [
             0.8888888888888888,
             "#fdca26"
            ],
            [
             1,
             "#f0f921"
            ]
           ],
           "sequentialminus": [
            [
             0,
             "#0d0887"
            ],
            [
             0.1111111111111111,
             "#46039f"
            ],
            [
             0.2222222222222222,
             "#7201a8"
            ],
            [
             0.3333333333333333,
             "#9c179e"
            ],
            [
             0.4444444444444444,
             "#bd3786"
            ],
            [
             0.5555555555555556,
             "#d8576b"
            ],
            [
             0.6666666666666666,
             "#ed7953"
            ],
            [
             0.7777777777777778,
             "#fb9f3a"
            ],
            [
             0.8888888888888888,
             "#fdca26"
            ],
            [
             1,
             "#f0f921"
            ]
           ]
          },
          "colorway": [
           "#636efa",
           "#EF553B",
           "#00cc96",
           "#ab63fa",
           "#FFA15A",
           "#19d3f3",
           "#FF6692",
           "#B6E880",
           "#FF97FF",
           "#FECB52"
          ],
          "font": {
           "color": "#2a3f5f"
          },
          "geo": {
           "bgcolor": "white",
           "lakecolor": "white",
           "landcolor": "#E5ECF6",
           "showlakes": true,
           "showland": true,
           "subunitcolor": "white"
          },
          "hoverlabel": {
           "align": "left"
          },
          "hovermode": "closest",
          "mapbox": {
           "style": "light"
          },
          "paper_bgcolor": "white",
          "plot_bgcolor": "#E5ECF6",
          "polar": {
           "angularaxis": {
            "gridcolor": "white",
            "linecolor": "white",
            "ticks": ""
           },
           "bgcolor": "#E5ECF6",
           "radialaxis": {
            "gridcolor": "white",
            "linecolor": "white",
            "ticks": ""
           }
          },
          "scene": {
           "xaxis": {
            "backgroundcolor": "#E5ECF6",
            "gridcolor": "white",
            "gridwidth": 2,
            "linecolor": "white",
            "showbackground": true,
            "ticks": "",
            "zerolinecolor": "white"
           },
           "yaxis": {
            "backgroundcolor": "#E5ECF6",
            "gridcolor": "white",
            "gridwidth": 2,
            "linecolor": "white",
            "showbackground": true,
            "ticks": "",
            "zerolinecolor": "white"
           },
           "zaxis": {
            "backgroundcolor": "#E5ECF6",
            "gridcolor": "white",
            "gridwidth": 2,
            "linecolor": "white",
            "showbackground": true,
            "ticks": "",
            "zerolinecolor": "white"
           }
          },
          "shapedefaults": {
           "line": {
            "color": "#2a3f5f"
           }
          },
          "ternary": {
           "aaxis": {
            "gridcolor": "white",
            "linecolor": "white",
            "ticks": ""
           },
           "baxis": {
            "gridcolor": "white",
            "linecolor": "white",
            "ticks": ""
           },
           "bgcolor": "#E5ECF6",
           "caxis": {
            "gridcolor": "white",
            "linecolor": "white",
            "ticks": ""
           }
          },
          "title": {
           "x": 0.05
          },
          "xaxis": {
           "automargin": true,
           "gridcolor": "white",
           "linecolor": "white",
           "ticks": "",
           "title": {
            "standoff": 15
           },
           "zerolinecolor": "white",
           "zerolinewidth": 2
          },
          "yaxis": {
           "automargin": true,
           "gridcolor": "white",
           "linecolor": "white",
           "ticks": "",
           "title": {
            "standoff": 15
           },
           "zerolinecolor": "white",
           "zerolinewidth": 2
          }
         }
        },
        "title": {
         "font": {
          "color": "#4D5663"
         },
         "text": "Confirmed Cases in INDIA"
        },
        "xaxis": {
         "gridcolor": "#E1E5ED",
         "showgrid": true,
         "tickfont": {
          "color": "#4D5663"
         },
         "title": {
          "font": {
           "color": "#4D5663"
          },
          "text": "Name of the states"
         },
         "zerolinecolor": "#E1E5ED"
        },
        "yaxis": {
         "gridcolor": "#E1E5ED",
         "showgrid": true,
         "tickfont": {
          "color": "#4D5663"
         },
         "title": {
          "font": {
           "color": "#4D5663"
          },
          "text": "Total cases"
         },
         "zerolinecolor": "#E1E5ED"
        }
       }
      },
      "text/html": [
       "<div>\n",
       "        \n",
       "        \n",
       "            <div id=\"af9d6ea3-09b9-42e0-a6ee-c342e01e34cf\" class=\"plotly-graph-div\" style=\"height:525px; width:100%;\"></div>\n",
       "            <script type=\"text/javascript\">\n",
       "                require([\"plotly\"], function(Plotly) {\n",
       "                    window.PLOTLYENV=window.PLOTLYENV || {};\n",
       "                    window.PLOTLYENV.BASE_URL='https://plot.ly';\n",
       "                    \n",
       "                if (document.getElementById(\"af9d6ea3-09b9-42e0-a6ee-c342e01e34cf\")) {\n",
       "                    Plotly.newPlot(\n",
       "                        'af9d6ea3-09b9-42e0-a6ee-c342e01e34cf',\n",
       "                        [{\"line\": {\"color\": \"rgba(219, 64, 82, 1.0)\", \"dash\": \"solid\", \"shape\": \"linear\", \"width\": 1.3}, \"marker\": {\"size\": 15, \"symbol\": \"circle\"}, \"mode\": \"markers+lines\", \"name\": \"confirmed\", \"text\": \"\", \"type\": \"scatter\", \"x\": [\"Andaman and Nicobar Islands\", \"Andhra Pradesh\", \"Arunachal Pradesh\", \"Assam\", \"Bihar\", \"Chandigarh\", \"Chhattisgarh\", \"Dadra and Nagar Haveli and Daman and Diu\", \"Daman and Diu\", \"Delhi\", \"Goa\", \"Gujarat\", \"Haryana\", \"Himachal Pradesh\", \"Jammu and Kashmir\", \"Jharkhand\", \"Karnataka\", \"Kerala\", \"Ladakh\", \"Lakshadweep\", \"Madhya Pradesh\", \"Maharashtra\", \"Manipur\", \"Meghalaya\", \"Mizoram\", \"Nagaland\", \"Odisha\", \"Puducherry\", \"Punjab\", \"Rajasthan\", \"Sikkim\", \"Tamil Nadu\", \"Telangana\", \"Tripura\", \"Uttar Pradesh\", \"Uttarakhand\", \"West Bengal\"], \"y\": [33, 2137, 1, 80, 953, 191, 59, 1, 0, 7998, 7, 9268, 793, 67, 971, 177, 959, 535, 43, 0, 4173, 25922, 2, 13, 1, 0, 538, 13, 1924, 4328, 0, 9227, 1367, 154, 3758, 72, 2290]}],\n",
       "                        {\"legend\": {\"bgcolor\": \"#F5F6F9\", \"font\": {\"color\": \"#4D5663\"}}, \"paper_bgcolor\": \"#F5F6F9\", \"plot_bgcolor\": \"#F5F6F9\", \"template\": {\"data\": {\"bar\": [{\"error_x\": {\"color\": \"#2a3f5f\"}, \"error_y\": {\"color\": \"#2a3f5f\"}, \"marker\": {\"line\": {\"color\": \"#E5ECF6\", \"width\": 0.5}}, \"type\": \"bar\"}], \"barpolar\": [{\"marker\": {\"line\": {\"color\": \"#E5ECF6\", \"width\": 0.5}}, \"type\": \"barpolar\"}], \"carpet\": [{\"aaxis\": {\"endlinecolor\": \"#2a3f5f\", \"gridcolor\": \"white\", \"linecolor\": \"white\", \"minorgridcolor\": \"white\", \"startlinecolor\": \"#2a3f5f\"}, \"baxis\": {\"endlinecolor\": \"#2a3f5f\", \"gridcolor\": \"white\", \"linecolor\": \"white\", \"minorgridcolor\": \"white\", \"startlinecolor\": \"#2a3f5f\"}, \"type\": \"carpet\"}], \"choropleth\": [{\"colorbar\": {\"outlinewidth\": 0, \"ticks\": \"\"}, \"type\": \"choropleth\"}], \"contour\": [{\"colorbar\": {\"outlinewidth\": 0, \"ticks\": \"\"}, \"colorscale\": [[0.0, \"#0d0887\"], [0.1111111111111111, \"#46039f\"], [0.2222222222222222, \"#7201a8\"], [0.3333333333333333, \"#9c179e\"], [0.4444444444444444, \"#bd3786\"], [0.5555555555555556, \"#d8576b\"], [0.6666666666666666, \"#ed7953\"], [0.7777777777777778, \"#fb9f3a\"], [0.8888888888888888, \"#fdca26\"], [1.0, \"#f0f921\"]], \"type\": \"contour\"}], \"contourcarpet\": [{\"colorbar\": {\"outlinewidth\": 0, \"ticks\": \"\"}, \"type\": \"contourcarpet\"}], \"heatmap\": [{\"colorbar\": {\"outlinewidth\": 0, \"ticks\": \"\"}, \"colorscale\": [[0.0, \"#0d0887\"], [0.1111111111111111, \"#46039f\"], [0.2222222222222222, \"#7201a8\"], [0.3333333333333333, \"#9c179e\"], [0.4444444444444444, \"#bd3786\"], [0.5555555555555556, \"#d8576b\"], [0.6666666666666666, \"#ed7953\"], [0.7777777777777778, \"#fb9f3a\"], [0.8888888888888888, \"#fdca26\"], [1.0, \"#f0f921\"]], \"type\": \"heatmap\"}], \"heatmapgl\": [{\"colorbar\": {\"outlinewidth\": 0, \"ticks\": \"\"}, \"colorscale\": [[0.0, \"#0d0887\"], [0.1111111111111111, \"#46039f\"], [0.2222222222222222, \"#7201a8\"], [0.3333333333333333, \"#9c179e\"], [0.4444444444444444, \"#bd3786\"], [0.5555555555555556, \"#d8576b\"], [0.6666666666666666, \"#ed7953\"], [0.7777777777777778, \"#fb9f3a\"], [0.8888888888888888, \"#fdca26\"], [1.0, \"#f0f921\"]], \"type\": \"heatmapgl\"}], \"histogram\": [{\"marker\": {\"colorbar\": {\"outlinewidth\": 0, \"ticks\": \"\"}}, \"type\": \"histogram\"}], \"histogram2d\": [{\"colorbar\": {\"outlinewidth\": 0, \"ticks\": \"\"}, \"colorscale\": [[0.0, \"#0d0887\"], [0.1111111111111111, \"#46039f\"], [0.2222222222222222, \"#7201a8\"], [0.3333333333333333, \"#9c179e\"], [0.4444444444444444, \"#bd3786\"], [0.5555555555555556, \"#d8576b\"], [0.6666666666666666, \"#ed7953\"], [0.7777777777777778, \"#fb9f3a\"], [0.8888888888888888, \"#fdca26\"], [1.0, \"#f0f921\"]], \"type\": \"histogram2d\"}], \"histogram2dcontour\": [{\"colorbar\": {\"outlinewidth\": 0, \"ticks\": \"\"}, \"colorscale\": [[0.0, \"#0d0887\"], [0.1111111111111111, \"#46039f\"], [0.2222222222222222, \"#7201a8\"], [0.3333333333333333, \"#9c179e\"], [0.4444444444444444, \"#bd3786\"], [0.5555555555555556, \"#d8576b\"], [0.6666666666666666, \"#ed7953\"], [0.7777777777777778, \"#fb9f3a\"], [0.8888888888888888, \"#fdca26\"], [1.0, \"#f0f921\"]], \"type\": \"histogram2dcontour\"}], \"mesh3d\": [{\"colorbar\": {\"outlinewidth\": 0, \"ticks\": \"\"}, \"type\": \"mesh3d\"}], \"parcoords\": [{\"line\": {\"colorbar\": {\"outlinewidth\": 0, \"ticks\": \"\"}}, \"type\": \"parcoords\"}], \"pie\": [{\"automargin\": true, \"type\": \"pie\"}], \"scatter\": [{\"marker\": {\"colorbar\": {\"outlinewidth\": 0, \"ticks\": \"\"}}, \"type\": \"scatter\"}], \"scatter3d\": [{\"line\": {\"colorbar\": {\"outlinewidth\": 0, \"ticks\": \"\"}}, \"marker\": {\"colorbar\": {\"outlinewidth\": 0, \"ticks\": \"\"}}, \"type\": \"scatter3d\"}], \"scattercarpet\": [{\"marker\": {\"colorbar\": {\"outlinewidth\": 0, \"ticks\": \"\"}}, \"type\": \"scattercarpet\"}], \"scattergeo\": [{\"marker\": {\"colorbar\": {\"outlinewidth\": 0, \"ticks\": \"\"}}, \"type\": \"scattergeo\"}], \"scattergl\": [{\"marker\": {\"colorbar\": {\"outlinewidth\": 0, \"ticks\": \"\"}}, \"type\": \"scattergl\"}], \"scattermapbox\": [{\"marker\": {\"colorbar\": {\"outlinewidth\": 0, \"ticks\": \"\"}}, \"type\": \"scattermapbox\"}], \"scatterpolar\": [{\"marker\": {\"colorbar\": {\"outlinewidth\": 0, \"ticks\": \"\"}}, \"type\": \"scatterpolar\"}], \"scatterpolargl\": [{\"marker\": {\"colorbar\": {\"outlinewidth\": 0, \"ticks\": \"\"}}, \"type\": \"scatterpolargl\"}], \"scatterternary\": [{\"marker\": {\"colorbar\": {\"outlinewidth\": 0, \"ticks\": \"\"}}, \"type\": \"scatterternary\"}], \"surface\": [{\"colorbar\": {\"outlinewidth\": 0, \"ticks\": \"\"}, \"colorscale\": [[0.0, \"#0d0887\"], [0.1111111111111111, \"#46039f\"], [0.2222222222222222, \"#7201a8\"], [0.3333333333333333, \"#9c179e\"], [0.4444444444444444, \"#bd3786\"], [0.5555555555555556, \"#d8576b\"], [0.6666666666666666, \"#ed7953\"], [0.7777777777777778, \"#fb9f3a\"], [0.8888888888888888, \"#fdca26\"], [1.0, \"#f0f921\"]], \"type\": \"surface\"}], \"table\": [{\"cells\": {\"fill\": {\"color\": \"#EBF0F8\"}, \"line\": {\"color\": \"white\"}}, \"header\": {\"fill\": {\"color\": \"#C8D4E3\"}, \"line\": {\"color\": \"white\"}}, \"type\": \"table\"}]}, \"layout\": {\"annotationdefaults\": {\"arrowcolor\": \"#2a3f5f\", \"arrowhead\": 0, \"arrowwidth\": 1}, \"coloraxis\": {\"colorbar\": {\"outlinewidth\": 0, \"ticks\": \"\"}}, \"colorscale\": {\"diverging\": [[0, \"#8e0152\"], [0.1, \"#c51b7d\"], [0.2, \"#de77ae\"], [0.3, \"#f1b6da\"], [0.4, \"#fde0ef\"], [0.5, \"#f7f7f7\"], [0.6, \"#e6f5d0\"], [0.7, \"#b8e186\"], [0.8, \"#7fbc41\"], [0.9, \"#4d9221\"], [1, \"#276419\"]], \"sequential\": [[0.0, \"#0d0887\"], [0.1111111111111111, \"#46039f\"], [0.2222222222222222, \"#7201a8\"], [0.3333333333333333, \"#9c179e\"], [0.4444444444444444, \"#bd3786\"], [0.5555555555555556, \"#d8576b\"], [0.6666666666666666, \"#ed7953\"], [0.7777777777777778, \"#fb9f3a\"], [0.8888888888888888, \"#fdca26\"], [1.0, \"#f0f921\"]], \"sequentialminus\": [[0.0, \"#0d0887\"], [0.1111111111111111, \"#46039f\"], [0.2222222222222222, \"#7201a8\"], [0.3333333333333333, \"#9c179e\"], [0.4444444444444444, \"#bd3786\"], [0.5555555555555556, \"#d8576b\"], [0.6666666666666666, \"#ed7953\"], [0.7777777777777778, \"#fb9f3a\"], [0.8888888888888888, \"#fdca26\"], [1.0, \"#f0f921\"]]}, \"colorway\": [\"#636efa\", \"#EF553B\", \"#00cc96\", \"#ab63fa\", \"#FFA15A\", \"#19d3f3\", \"#FF6692\", \"#B6E880\", \"#FF97FF\", \"#FECB52\"], \"font\": {\"color\": \"#2a3f5f\"}, \"geo\": {\"bgcolor\": \"white\", \"lakecolor\": \"white\", \"landcolor\": \"#E5ECF6\", \"showlakes\": true, \"showland\": true, \"subunitcolor\": \"white\"}, \"hoverlabel\": {\"align\": \"left\"}, \"hovermode\": \"closest\", \"mapbox\": {\"style\": \"light\"}, \"paper_bgcolor\": \"white\", \"plot_bgcolor\": \"#E5ECF6\", \"polar\": {\"angularaxis\": {\"gridcolor\": \"white\", \"linecolor\": \"white\", \"ticks\": \"\"}, \"bgcolor\": \"#E5ECF6\", \"radialaxis\": {\"gridcolor\": \"white\", \"linecolor\": \"white\", \"ticks\": \"\"}}, \"scene\": {\"xaxis\": {\"backgroundcolor\": \"#E5ECF6\", \"gridcolor\": \"white\", \"gridwidth\": 2, \"linecolor\": \"white\", \"showbackground\": true, \"ticks\": \"\", \"zerolinecolor\": \"white\"}, \"yaxis\": {\"backgroundcolor\": \"#E5ECF6\", \"gridcolor\": \"white\", \"gridwidth\": 2, \"linecolor\": \"white\", \"showbackground\": true, \"ticks\": \"\", \"zerolinecolor\": \"white\"}, \"zaxis\": {\"backgroundcolor\": \"#E5ECF6\", \"gridcolor\": \"white\", \"gridwidth\": 2, \"linecolor\": \"white\", \"showbackground\": true, \"ticks\": \"\", \"zerolinecolor\": \"white\"}}, \"shapedefaults\": {\"line\": {\"color\": \"#2a3f5f\"}}, \"ternary\": {\"aaxis\": {\"gridcolor\": \"white\", \"linecolor\": \"white\", \"ticks\": \"\"}, \"baxis\": {\"gridcolor\": \"white\", \"linecolor\": \"white\", \"ticks\": \"\"}, \"bgcolor\": \"#E5ECF6\", \"caxis\": {\"gridcolor\": \"white\", \"linecolor\": \"white\", \"ticks\": \"\"}}, \"title\": {\"x\": 0.05}, \"xaxis\": {\"automargin\": true, \"gridcolor\": \"white\", \"linecolor\": \"white\", \"ticks\": \"\", \"title\": {\"standoff\": 15}, \"zerolinecolor\": \"white\", \"zerolinewidth\": 2}, \"yaxis\": {\"automargin\": true, \"gridcolor\": \"white\", \"linecolor\": \"white\", \"ticks\": \"\", \"title\": {\"standoff\": 15}, \"zerolinecolor\": \"white\", \"zerolinewidth\": 2}}}, \"title\": {\"font\": {\"color\": \"#4D5663\"}, \"text\": \"Confirmed Cases in INDIA\"}, \"xaxis\": {\"gridcolor\": \"#E1E5ED\", \"showgrid\": true, \"tickfont\": {\"color\": \"#4D5663\"}, \"title\": {\"font\": {\"color\": \"#4D5663\"}, \"text\": \"Name of the states\"}, \"zerolinecolor\": \"#E1E5ED\"}, \"yaxis\": {\"gridcolor\": \"#E1E5ED\", \"showgrid\": true, \"tickfont\": {\"color\": \"#4D5663\"}, \"title\": {\"font\": {\"color\": \"#4D5663\"}, \"text\": \"Total cases\"}, \"zerolinecolor\": \"#E1E5ED\"}},\n",
       "                        {\"showLink\": true, \"linkText\": \"Export to plot.ly\", \"plotlyServerURL\": \"https://plot.ly\", \"responsive\": true}\n",
       "                    ).then(function(){\n",
       "                            \n",
       "var gd = document.getElementById('af9d6ea3-09b9-42e0-a6ee-c342e01e34cf');\n",
       "var x = new MutationObserver(function (mutations, observer) {{\n",
       "        var display = window.getComputedStyle(gd).display;\n",
       "        if (!display || display === 'none') {{\n",
       "            console.log([gd, 'removed!']);\n",
       "            Plotly.purge(gd);\n",
       "            observer.disconnect();\n",
       "        }}\n",
       "}});\n",
       "\n",
       "// Listen for the removal of the full notebook cells\n",
       "var notebookContainer = gd.closest('#notebook-container');\n",
       "if (notebookContainer) {{\n",
       "    x.observe(notebookContainer, {childList: true});\n",
       "}}\n",
       "\n",
       "// Listen for the clearing of the current output cell\n",
       "var outputEl = gd.closest('.output');\n",
       "if (outputEl) {{\n",
       "    x.observe(outputEl, {childList: true});\n",
       "}}\n",
       "\n",
       "                        })\n",
       "                };\n",
       "                });\n",
       "            </script>\n",
       "        </div>"
      ]
     },
     "metadata": {},
     "output_type": "display_data"
    }
   ],
   "source": [
    "covid19.iplot(kind='scatter',x='state',y='confirmed',mode='markers+lines',title=\"Confirmed Cases in INDIA\"\n",
    "              ,xTitle='Name of the states',yTitle='Total cases',colors='red',size=15)"
   ]
  },
  {
   "cell_type": "code",
   "execution_count": 40,
   "metadata": {},
   "outputs": [],
   "source": [
    "india_cor=pd.read_excel('Indian Coordinates.xlsx')"
   ]
  },
  {
   "cell_type": "code",
   "execution_count": 41,
   "metadata": {
    "scrolled": false
   },
   "outputs": [
    {
     "data": {
      "text/html": [
       "<div>\n",
       "<style scoped>\n",
       "    .dataframe tbody tr th:only-of-type {\n",
       "        vertical-align: middle;\n",
       "    }\n",
       "\n",
       "    .dataframe tbody tr th {\n",
       "        vertical-align: top;\n",
       "    }\n",
       "\n",
       "    .dataframe thead th {\n",
       "        text-align: right;\n",
       "    }\n",
       "</style>\n",
       "<table border=\"1\" class=\"dataframe\">\n",
       "  <thead>\n",
       "    <tr style=\"text-align: right;\">\n",
       "      <th></th>\n",
       "      <th>Name of State / UT</th>\n",
       "      <th>Latitude</th>\n",
       "      <th>Longitude</th>\n",
       "    </tr>\n",
       "  </thead>\n",
       "  <tbody>\n",
       "    <tr>\n",
       "      <th>0</th>\n",
       "      <td>Andaman And Nicobar</td>\n",
       "      <td>11.667026</td>\n",
       "      <td>92.735983</td>\n",
       "    </tr>\n",
       "    <tr>\n",
       "      <th>1</th>\n",
       "      <td>Andhra Pradesh</td>\n",
       "      <td>14.750429</td>\n",
       "      <td>78.570026</td>\n",
       "    </tr>\n",
       "    <tr>\n",
       "      <th>2</th>\n",
       "      <td>Arunachal Pradesh</td>\n",
       "      <td>27.100399</td>\n",
       "      <td>93.616601</td>\n",
       "    </tr>\n",
       "    <tr>\n",
       "      <th>3</th>\n",
       "      <td>Assam</td>\n",
       "      <td>26.749981</td>\n",
       "      <td>94.216667</td>\n",
       "    </tr>\n",
       "    <tr>\n",
       "      <th>4</th>\n",
       "      <td>Bihar</td>\n",
       "      <td>25.785414</td>\n",
       "      <td>87.479973</td>\n",
       "    </tr>\n",
       "    <tr>\n",
       "      <th>5</th>\n",
       "      <td>Chandigarh</td>\n",
       "      <td>30.719997</td>\n",
       "      <td>76.780006</td>\n",
       "    </tr>\n",
       "    <tr>\n",
       "      <th>6</th>\n",
       "      <td>Chhattisgarh</td>\n",
       "      <td>22.090420</td>\n",
       "      <td>82.159987</td>\n",
       "    </tr>\n",
       "    <tr>\n",
       "      <th>7</th>\n",
       "      <td>Dadra And Nagar Haveli</td>\n",
       "      <td>20.266578</td>\n",
       "      <td>73.016618</td>\n",
       "    </tr>\n",
       "    <tr>\n",
       "      <th>8</th>\n",
       "      <td>Delhi</td>\n",
       "      <td>28.669993</td>\n",
       "      <td>77.230004</td>\n",
       "    </tr>\n",
       "    <tr>\n",
       "      <th>9</th>\n",
       "      <td>Goa</td>\n",
       "      <td>15.491997</td>\n",
       "      <td>73.818001</td>\n",
       "    </tr>\n",
       "    <tr>\n",
       "      <th>10</th>\n",
       "      <td>Haryana</td>\n",
       "      <td>28.450006</td>\n",
       "      <td>77.019991</td>\n",
       "    </tr>\n",
       "    <tr>\n",
       "      <th>11</th>\n",
       "      <td>Himachal Pradesh</td>\n",
       "      <td>31.100025</td>\n",
       "      <td>77.166597</td>\n",
       "    </tr>\n",
       "    <tr>\n",
       "      <th>12</th>\n",
       "      <td>Union Territory of Jammu and Kashmir</td>\n",
       "      <td>33.450000</td>\n",
       "      <td>76.240000</td>\n",
       "    </tr>\n",
       "    <tr>\n",
       "      <th>13</th>\n",
       "      <td>Jharkhand</td>\n",
       "      <td>23.800393</td>\n",
       "      <td>86.419986</td>\n",
       "    </tr>\n",
       "    <tr>\n",
       "      <th>14</th>\n",
       "      <td>Karnataka</td>\n",
       "      <td>12.570381</td>\n",
       "      <td>76.919997</td>\n",
       "    </tr>\n",
       "    <tr>\n",
       "      <th>15</th>\n",
       "      <td>Kerala</td>\n",
       "      <td>8.900373</td>\n",
       "      <td>76.569993</td>\n",
       "    </tr>\n",
       "    <tr>\n",
       "      <th>16</th>\n",
       "      <td>Lakshadweep</td>\n",
       "      <td>10.562573</td>\n",
       "      <td>72.636867</td>\n",
       "    </tr>\n",
       "    <tr>\n",
       "      <th>17</th>\n",
       "      <td>Madhya Pradesh</td>\n",
       "      <td>21.300391</td>\n",
       "      <td>76.130019</td>\n",
       "    </tr>\n",
       "    <tr>\n",
       "      <th>18</th>\n",
       "      <td>Maharashtra</td>\n",
       "      <td>19.250232</td>\n",
       "      <td>73.160175</td>\n",
       "    </tr>\n",
       "    <tr>\n",
       "      <th>19</th>\n",
       "      <td>Manipur</td>\n",
       "      <td>24.799971</td>\n",
       "      <td>93.950017</td>\n",
       "    </tr>\n",
       "    <tr>\n",
       "      <th>20</th>\n",
       "      <td>Meghalaya</td>\n",
       "      <td>25.570492</td>\n",
       "      <td>91.880014</td>\n",
       "    </tr>\n",
       "    <tr>\n",
       "      <th>21</th>\n",
       "      <td>Mizoram</td>\n",
       "      <td>23.710399</td>\n",
       "      <td>92.720015</td>\n",
       "    </tr>\n",
       "    <tr>\n",
       "      <th>22</th>\n",
       "      <td>Nagaland</td>\n",
       "      <td>25.666998</td>\n",
       "      <td>94.116570</td>\n",
       "    </tr>\n",
       "    <tr>\n",
       "      <th>23</th>\n",
       "      <td>Orissa</td>\n",
       "      <td>19.820430</td>\n",
       "      <td>85.900017</td>\n",
       "    </tr>\n",
       "    <tr>\n",
       "      <th>24</th>\n",
       "      <td>Puducherry</td>\n",
       "      <td>11.934994</td>\n",
       "      <td>79.830000</td>\n",
       "    </tr>\n",
       "    <tr>\n",
       "      <th>25</th>\n",
       "      <td>Punjab</td>\n",
       "      <td>31.519974</td>\n",
       "      <td>75.980003</td>\n",
       "    </tr>\n",
       "    <tr>\n",
       "      <th>26</th>\n",
       "      <td>Rajasthan</td>\n",
       "      <td>26.449999</td>\n",
       "      <td>74.639981</td>\n",
       "    </tr>\n",
       "    <tr>\n",
       "      <th>27</th>\n",
       "      <td>Sikkim</td>\n",
       "      <td>27.333330</td>\n",
       "      <td>88.616647</td>\n",
       "    </tr>\n",
       "    <tr>\n",
       "      <th>28</th>\n",
       "      <td>Telengana</td>\n",
       "      <td>18.112400</td>\n",
       "      <td>79.019300</td>\n",
       "    </tr>\n",
       "    <tr>\n",
       "      <th>29</th>\n",
       "      <td>Tamil Nadu</td>\n",
       "      <td>12.920386</td>\n",
       "      <td>79.150042</td>\n",
       "    </tr>\n",
       "    <tr>\n",
       "      <th>30</th>\n",
       "      <td>Tripura</td>\n",
       "      <td>23.835404</td>\n",
       "      <td>91.279999</td>\n",
       "    </tr>\n",
       "    <tr>\n",
       "      <th>31</th>\n",
       "      <td>Uttar Pradesh</td>\n",
       "      <td>27.599981</td>\n",
       "      <td>78.050006</td>\n",
       "    </tr>\n",
       "    <tr>\n",
       "      <th>32</th>\n",
       "      <td>Uttarakhand</td>\n",
       "      <td>30.320409</td>\n",
       "      <td>78.050006</td>\n",
       "    </tr>\n",
       "    <tr>\n",
       "      <th>33</th>\n",
       "      <td>West Bengal</td>\n",
       "      <td>22.580390</td>\n",
       "      <td>88.329947</td>\n",
       "    </tr>\n",
       "    <tr>\n",
       "      <th>34</th>\n",
       "      <td>Union Territory of Ladakh</td>\n",
       "      <td>34.100000</td>\n",
       "      <td>77.340000</td>\n",
       "    </tr>\n",
       "  </tbody>\n",
       "</table>\n",
       "</div>"
      ],
      "text/plain": [
       "                      Name of State / UT   Latitude  Longitude\n",
       "0                   Andaman And Nicobar   11.667026  92.735983\n",
       "1                         Andhra Pradesh  14.750429  78.570026\n",
       "2                     Arunachal Pradesh   27.100399  93.616601\n",
       "3                                 Assam   26.749981  94.216667\n",
       "4                                 Bihar   25.785414  87.479973\n",
       "5                            Chandigarh   30.719997  76.780006\n",
       "6                          Chhattisgarh   22.090420  82.159987\n",
       "7                Dadra And Nagar Haveli   20.266578  73.016618\n",
       "8                                  Delhi  28.669993  77.230004\n",
       "9                                   Goa   15.491997  73.818001\n",
       "10                               Haryana  28.450006  77.019991\n",
       "11                     Himachal Pradesh   31.100025  77.166597\n",
       "12  Union Territory of Jammu and Kashmir  33.450000  76.240000\n",
       "13                            Jharkhand   23.800393  86.419986\n",
       "14                             Karnataka  12.570381  76.919997\n",
       "15                                Kerala   8.900373  76.569993\n",
       "16                          Lakshadweep   10.562573  72.636867\n",
       "17                       Madhya Pradesh   21.300391  76.130019\n",
       "18                           Maharashtra  19.250232  73.160175\n",
       "19                              Manipur   24.799971  93.950017\n",
       "20                            Meghalaya   25.570492  91.880014\n",
       "21                              Mizoram   23.710399  92.720015\n",
       "22                             Nagaland   25.666998  94.116570\n",
       "23                               Orissa   19.820430  85.900017\n",
       "24                           Puducherry   11.934994  79.830000\n",
       "25                                Punjab  31.519974  75.980003\n",
       "26                             Rajasthan  26.449999  74.639981\n",
       "27                               Sikkim   27.333330  88.616647\n",
       "28                             Telengana  18.112400  79.019300\n",
       "29                            Tamil Nadu  12.920386  79.150042\n",
       "30                              Tripura   23.835404  91.279999\n",
       "31                         Uttar Pradesh  27.599981  78.050006\n",
       "32                           Uttarakhand  30.320409  78.050006\n",
       "33                          West Bengal   22.580390  88.329947\n",
       "34             Union Territory of Ladakh  34.100000  77.340000"
      ]
     },
     "execution_count": 41,
     "metadata": {},
     "output_type": "execute_result"
    }
   ],
   "source": [
    "india_cor"
   ]
  },
  {
   "cell_type": "code",
   "execution_count": 42,
   "metadata": {},
   "outputs": [],
   "source": [
    "india_cor.rename({\"Name of State / UT\":\"state\"},axis='columns',inplace=True)"
   ]
  },
  {
   "cell_type": "code",
   "execution_count": 43,
   "metadata": {},
   "outputs": [
    {
     "data": {
      "text/html": [
       "<div>\n",
       "<style scoped>\n",
       "    .dataframe tbody tr th:only-of-type {\n",
       "        vertical-align: middle;\n",
       "    }\n",
       "\n",
       "    .dataframe tbody tr th {\n",
       "        vertical-align: top;\n",
       "    }\n",
       "\n",
       "    .dataframe thead th {\n",
       "        text-align: right;\n",
       "    }\n",
       "</style>\n",
       "<table border=\"1\" class=\"dataframe\">\n",
       "  <thead>\n",
       "    <tr style=\"text-align: right;\">\n",
       "      <th></th>\n",
       "      <th>state</th>\n",
       "      <th>Latitude</th>\n",
       "      <th>Longitude</th>\n",
       "      <th>confirmed</th>\n",
       "    </tr>\n",
       "  </thead>\n",
       "  <tbody>\n",
       "    <tr>\n",
       "      <th>0</th>\n",
       "      <td>Andhra Pradesh</td>\n",
       "      <td>14.750429</td>\n",
       "      <td>78.570026</td>\n",
       "      <td>2137</td>\n",
       "    </tr>\n",
       "    <tr>\n",
       "      <th>1</th>\n",
       "      <td>Delhi</td>\n",
       "      <td>28.669993</td>\n",
       "      <td>77.230004</td>\n",
       "      <td>7998</td>\n",
       "    </tr>\n",
       "    <tr>\n",
       "      <th>2</th>\n",
       "      <td>Haryana</td>\n",
       "      <td>28.450006</td>\n",
       "      <td>77.019991</td>\n",
       "      <td>793</td>\n",
       "    </tr>\n",
       "    <tr>\n",
       "      <th>3</th>\n",
       "      <td>Karnataka</td>\n",
       "      <td>12.570381</td>\n",
       "      <td>76.919997</td>\n",
       "      <td>959</td>\n",
       "    </tr>\n",
       "    <tr>\n",
       "      <th>4</th>\n",
       "      <td>Kerala</td>\n",
       "      <td>8.900373</td>\n",
       "      <td>76.569993</td>\n",
       "      <td>535</td>\n",
       "    </tr>\n",
       "    <tr>\n",
       "      <th>5</th>\n",
       "      <td>Maharashtra</td>\n",
       "      <td>19.250232</td>\n",
       "      <td>73.160175</td>\n",
       "      <td>25922</td>\n",
       "    </tr>\n",
       "    <tr>\n",
       "      <th>6</th>\n",
       "      <td>Punjab</td>\n",
       "      <td>31.519974</td>\n",
       "      <td>75.980003</td>\n",
       "      <td>1924</td>\n",
       "    </tr>\n",
       "    <tr>\n",
       "      <th>7</th>\n",
       "      <td>Rajasthan</td>\n",
       "      <td>26.449999</td>\n",
       "      <td>74.639981</td>\n",
       "      <td>4328</td>\n",
       "    </tr>\n",
       "    <tr>\n",
       "      <th>8</th>\n",
       "      <td>Tamil Nadu</td>\n",
       "      <td>12.920386</td>\n",
       "      <td>79.150042</td>\n",
       "      <td>9227</td>\n",
       "    </tr>\n",
       "    <tr>\n",
       "      <th>9</th>\n",
       "      <td>Uttar Pradesh</td>\n",
       "      <td>27.599981</td>\n",
       "      <td>78.050006</td>\n",
       "      <td>3758</td>\n",
       "    </tr>\n",
       "    <tr>\n",
       "      <th>10</th>\n",
       "      <td>Uttarakhand</td>\n",
       "      <td>30.320409</td>\n",
       "      <td>78.050006</td>\n",
       "      <td>72</td>\n",
       "    </tr>\n",
       "  </tbody>\n",
       "</table>\n",
       "</div>"
      ],
      "text/plain": [
       "             state   Latitude  Longitude  confirmed\n",
       "0   Andhra Pradesh  14.750429  78.570026       2137\n",
       "1            Delhi  28.669993  77.230004       7998\n",
       "2          Haryana  28.450006  77.019991        793\n",
       "3        Karnataka  12.570381  76.919997        959\n",
       "4           Kerala   8.900373  76.569993        535\n",
       "5      Maharashtra  19.250232  73.160175      25922\n",
       "6           Punjab  31.519974  75.980003       1924\n",
       "7        Rajasthan  26.449999  74.639981       4328\n",
       "8       Tamil Nadu  12.920386  79.150042       9227\n",
       "9    Uttar Pradesh  27.599981  78.050006       3758\n",
       "10     Uttarakhand  30.320409  78.050006         72"
      ]
     },
     "execution_count": 43,
     "metadata": {},
     "output_type": "execute_result"
    }
   ],
   "source": [
    "covid19_full=pd.merge(india_cor,covid19,on='state')\n",
    "covid19_full"
   ]
  },
  {
   "cell_type": "code",
   "execution_count": 58,
   "metadata": {},
   "outputs": [],
   "source": [
    "map=folium.Map(location=[20,90],zoom_start=6,tiles='Stamenterrain')\n",
    "\n",
    "for lat,long,value, name in zip(covid19_full['Latitude'],covid19_full['Longitude'],\n",
    "                                covid19_full['confirmed'],covid19_full['state']):\n",
    "    folium.CircleMarker([lat,long],radius=value*0.01,popup\n",
    "                        =('<strong>State</strong>: '+str(name).capitalize()\n",
    "                                             +'<br>''<strong>Total Cases</strong>: ' \n",
    "                                             + str(value)+ '<br>'),color='red',fill_color='red',fill_opacity=0.1).add_to(map)"
   ]
  },
  {
   "cell_type": "code",
   "execution_count": 59,
   "metadata": {
    "scrolled": false
   },
   "outputs": [
    {
     "data": {
      "text/html": [
       "<div style=\"width:100%;\"><div style=\"position:relative;width:100%;height:0;padding-bottom:60%;\"><span style=\"color:#565656\">Make this Notebook Trusted to load map: File -> Trust Notebook</span><iframe src=\"about:blank\" style=\"position:absolute;width:100%;height:100%;left:0;top:0;border:none !important;\" data-html=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 onload=\"this.contentDocument.open();this.contentDocument.write(atob(this.getAttribute('data-html')));this.contentDocument.close();\" allowfullscreen webkitallowfullscreen mozallowfullscreen></iframe></div></div>"
      ],
      "text/plain": [
       "<folium.folium.Map at 0x1d31c2fe948>"
      ]
     },
     "execution_count": 59,
     "metadata": {},
     "output_type": "execute_result"
    }
   ],
   "source": [
    "map"
   ]
  },
  {
   "cell_type": "code",
   "execution_count": 80,
   "metadata": {},
   "outputs": [
    {
     "data": {
      "application/vnd.plotly.v1+json": {
       "config": {
        "linkText": "Export to plot.ly",
        "plotlyServerURL": "https://plot.ly",
        "showLink": true
       },
       "data": [
        {
         "line": {
          "color": "rgba(219, 64, 82, 1.0)",
          "dash": "solid",
          "shape": "linear",
          "width": 1.3
         },
         "marker": {
          "size": 12,
          "symbol": "circle"
         },
         "mode": "markers+lines",
         "name": "confirmed",
         "text": "",
         "type": "scatter",
         "x": [
          "26/03/2020 07:19:29",
          "20/04/2020 08:45:07",
          "26/03/2020 07:19:29",
          "26/03/2020 07:19:29",
          "12/05/2020 23:23:25",
          "16/04/2020 19:33:11",
          "05/05/2020 22:32:47",
          "20/04/2020 10:04:08",
          "19/04/2020 17:04:07",
          "13/05/2020 11:13:25",
          "13/05/2020 21:23:25",
          "07/05/2020 22:24:57",
          "13/05/2020 21:33:28",
          "13/05/2020 21:33:27",
          "13/05/2020 23:04:25",
          "13/05/2020 20:33:38",
          "13/05/2020 20:33:39",
          "12/05/2020 23:13:25",
          "13/05/2020 20:33:36",
          "13/05/2020 20:13:26",
          "13/05/2020 18:13:25",
          "13/05/2020 17:22:24",
          "13/05/2020 20:13:25",
          "13/05/2020 22:24:32",
          "13/05/2020 18:08:24",
          "13/05/2020 20:03:27",
          "13/05/2020 21:53:24",
          "13/05/2020 20:03:25",
          "13/05/2020 11:54:24",
          "13/05/2020 21:23:24",
          "13/05/2020 22:53:24",
          "13/05/2020 19:33:25",
          "13/05/2020 22:23:28",
          "13/05/2020 11:13:23",
          "13/05/2020 20:33:35",
          "13/05/2020 20:33:34",
          "13/05/2020 20:33:33"
         ],
         "y": [
          0,
          0,
          0,
          0,
          1,
          1,
          1,
          2,
          7,
          13,
          13,
          33,
          43,
          59,
          67,
          72,
          80,
          154,
          177,
          191,
          535,
          538,
          793,
          940,
          959,
          971,
          1367,
          1924,
          2137,
          2290,
          3758,
          4173,
          4328,
          7998,
          9227,
          9268,
          25922
         ]
        }
       ],
       "layout": {
        "legend": {
         "bgcolor": "#F5F6F9",
         "font": {
          "color": "#4D5663"
         }
        },
        "paper_bgcolor": "#F5F6F9",
        "plot_bgcolor": "#F5F6F9",
        "template": {
         "data": {
          "bar": [
           {
            "error_x": {
             "color": "#2a3f5f"
            },
            "error_y": {
             "color": "#2a3f5f"
            },
            "marker": {
             "line": {
              "color": "#E5ECF6",
              "width": 0.5
             }
            },
            "type": "bar"
           }
          ],
          "barpolar": [
           {
            "marker": {
             "line": {
              "color": "#E5ECF6",
              "width": 0.5
             }
            },
            "type": "barpolar"
           }
          ],
          "carpet": [
           {
            "aaxis": {
             "endlinecolor": "#2a3f5f",
             "gridcolor": "white",
             "linecolor": "white",
             "minorgridcolor": "white",
             "startlinecolor": "#2a3f5f"
            },
            "baxis": {
             "endlinecolor": "#2a3f5f",
             "gridcolor": "white",
             "linecolor": "white",
             "minorgridcolor": "white",
             "startlinecolor": "#2a3f5f"
            },
            "type": "carpet"
           }
          ],
          "choropleth": [
           {
            "colorbar": {
             "outlinewidth": 0,
             "ticks": ""
            },
            "type": "choropleth"
           }
          ],
          "contour": [
           {
            "colorbar": {
             "outlinewidth": 0,
             "ticks": ""
            },
            "colorscale": [
             [
              0,
              "#0d0887"
             ],
             [
              0.1111111111111111,
              "#46039f"
             ],
             [
              0.2222222222222222,
              "#7201a8"
             ],
             [
              0.3333333333333333,
              "#9c179e"
             ],
             [
              0.4444444444444444,
              "#bd3786"
             ],
             [
              0.5555555555555556,
              "#d8576b"
             ],
             [
              0.6666666666666666,
              "#ed7953"
             ],
             [
              0.7777777777777778,
              "#fb9f3a"
             ],
             [
              0.8888888888888888,
              "#fdca26"
             ],
             [
              1,
              "#f0f921"
             ]
            ],
            "type": "contour"
           }
          ],
          "contourcarpet": [
           {
            "colorbar": {
             "outlinewidth": 0,
             "ticks": ""
            },
            "type": "contourcarpet"
           }
          ],
          "heatmap": [
           {
            "colorbar": {
             "outlinewidth": 0,
             "ticks": ""
            },
            "colorscale": [
             [
              0,
              "#0d0887"
             ],
             [
              0.1111111111111111,
              "#46039f"
             ],
             [
              0.2222222222222222,
              "#7201a8"
             ],
             [
              0.3333333333333333,
              "#9c179e"
             ],
             [
              0.4444444444444444,
              "#bd3786"
             ],
             [
              0.5555555555555556,
              "#d8576b"
             ],
             [
              0.6666666666666666,
              "#ed7953"
             ],
             [
              0.7777777777777778,
              "#fb9f3a"
             ],
             [
              0.8888888888888888,
              "#fdca26"
             ],
             [
              1,
              "#f0f921"
             ]
            ],
            "type": "heatmap"
           }
          ],
          "heatmapgl": [
           {
            "colorbar": {
             "outlinewidth": 0,
             "ticks": ""
            },
            "colorscale": [
             [
              0,
              "#0d0887"
             ],
             [
              0.1111111111111111,
              "#46039f"
             ],
             [
              0.2222222222222222,
              "#7201a8"
             ],
             [
              0.3333333333333333,
              "#9c179e"
             ],
             [
              0.4444444444444444,
              "#bd3786"
             ],
             [
              0.5555555555555556,
              "#d8576b"
             ],
             [
              0.6666666666666666,
              "#ed7953"
             ],
             [
              0.7777777777777778,
              "#fb9f3a"
             ],
             [
              0.8888888888888888,
              "#fdca26"
             ],
             [
              1,
              "#f0f921"
             ]
            ],
            "type": "heatmapgl"
           }
          ],
          "histogram": [
           {
            "marker": {
             "colorbar": {
              "outlinewidth": 0,
              "ticks": ""
             }
            },
            "type": "histogram"
           }
          ],
          "histogram2d": [
           {
            "colorbar": {
             "outlinewidth": 0,
             "ticks": ""
            },
            "colorscale": [
             [
              0,
              "#0d0887"
             ],
             [
              0.1111111111111111,
              "#46039f"
             ],
             [
              0.2222222222222222,
              "#7201a8"
             ],
             [
              0.3333333333333333,
              "#9c179e"
             ],
             [
              0.4444444444444444,
              "#bd3786"
             ],
             [
              0.5555555555555556,
              "#d8576b"
             ],
             [
              0.6666666666666666,
              "#ed7953"
             ],
             [
              0.7777777777777778,
              "#fb9f3a"
             ],
             [
              0.8888888888888888,
              "#fdca26"
             ],
             [
              1,
              "#f0f921"
             ]
            ],
            "type": "histogram2d"
           }
          ],
          "histogram2dcontour": [
           {
            "colorbar": {
             "outlinewidth": 0,
             "ticks": ""
            },
            "colorscale": [
             [
              0,
              "#0d0887"
             ],
             [
              0.1111111111111111,
              "#46039f"
             ],
             [
              0.2222222222222222,
              "#7201a8"
             ],
             [
              0.3333333333333333,
              "#9c179e"
             ],
             [
              0.4444444444444444,
              "#bd3786"
             ],
             [
              0.5555555555555556,
              "#d8576b"
             ],
             [
              0.6666666666666666,
              "#ed7953"
             ],
             [
              0.7777777777777778,
              "#fb9f3a"
             ],
             [
              0.8888888888888888,
              "#fdca26"
             ],
             [
              1,
              "#f0f921"
             ]
            ],
            "type": "histogram2dcontour"
           }
          ],
          "mesh3d": [
           {
            "colorbar": {
             "outlinewidth": 0,
             "ticks": ""
            },
            "type": "mesh3d"
           }
          ],
          "parcoords": [
           {
            "line": {
             "colorbar": {
              "outlinewidth": 0,
              "ticks": ""
             }
            },
            "type": "parcoords"
           }
          ],
          "pie": [
           {
            "automargin": true,
            "type": "pie"
           }
          ],
          "scatter": [
           {
            "marker": {
             "colorbar": {
              "outlinewidth": 0,
              "ticks": ""
             }
            },
            "type": "scatter"
           }
          ],
          "scatter3d": [
           {
            "line": {
             "colorbar": {
              "outlinewidth": 0,
              "ticks": ""
             }
            },
            "marker": {
             "colorbar": {
              "outlinewidth": 0,
              "ticks": ""
             }
            },
            "type": "scatter3d"
           }
          ],
          "scattercarpet": [
           {
            "marker": {
             "colorbar": {
              "outlinewidth": 0,
              "ticks": ""
             }
            },
            "type": "scattercarpet"
           }
          ],
          "scattergeo": [
           {
            "marker": {
             "colorbar": {
              "outlinewidth": 0,
              "ticks": ""
             }
            },
            "type": "scattergeo"
           }
          ],
          "scattergl": [
           {
            "marker": {
             "colorbar": {
              "outlinewidth": 0,
              "ticks": ""
             }
            },
            "type": "scattergl"
           }
          ],
          "scattermapbox": [
           {
            "marker": {
             "colorbar": {
              "outlinewidth": 0,
              "ticks": ""
             }
            },
            "type": "scattermapbox"
           }
          ],
          "scatterpolar": [
           {
            "marker": {
             "colorbar": {
              "outlinewidth": 0,
              "ticks": ""
             }
            },
            "type": "scatterpolar"
           }
          ],
          "scatterpolargl": [
           {
            "marker": {
             "colorbar": {
              "outlinewidth": 0,
              "ticks": ""
             }
            },
            "type": "scatterpolargl"
           }
          ],
          "scatterternary": [
           {
            "marker": {
             "colorbar": {
              "outlinewidth": 0,
              "ticks": ""
             }
            },
            "type": "scatterternary"
           }
          ],
          "surface": [
           {
            "colorbar": {
             "outlinewidth": 0,
             "ticks": ""
            },
            "colorscale": [
             [
              0,
              "#0d0887"
             ],
             [
              0.1111111111111111,
              "#46039f"
             ],
             [
              0.2222222222222222,
              "#7201a8"
             ],
             [
              0.3333333333333333,
              "#9c179e"
             ],
             [
              0.4444444444444444,
              "#bd3786"
             ],
             [
              0.5555555555555556,
              "#d8576b"
             ],
             [
              0.6666666666666666,
              "#ed7953"
             ],
             [
              0.7777777777777778,
              "#fb9f3a"
             ],
             [
              0.8888888888888888,
              "#fdca26"
             ],
             [
              1,
              "#f0f921"
             ]
            ],
            "type": "surface"
           }
          ],
          "table": [
           {
            "cells": {
             "fill": {
              "color": "#EBF0F8"
             },
             "line": {
              "color": "white"
             }
            },
            "header": {
             "fill": {
              "color": "#C8D4E3"
             },
             "line": {
              "color": "white"
             }
            },
            "type": "table"
           }
          ]
         },
         "layout": {
          "annotationdefaults": {
           "arrowcolor": "#2a3f5f",
           "arrowhead": 0,
           "arrowwidth": 1
          },
          "coloraxis": {
           "colorbar": {
            "outlinewidth": 0,
            "ticks": ""
           }
          },
          "colorscale": {
           "diverging": [
            [
             0,
             "#8e0152"
            ],
            [
             0.1,
             "#c51b7d"
            ],
            [
             0.2,
             "#de77ae"
            ],
            [
             0.3,
             "#f1b6da"
            ],
            [
             0.4,
             "#fde0ef"
            ],
            [
             0.5,
             "#f7f7f7"
            ],
            [
             0.6,
             "#e6f5d0"
            ],
            [
             0.7,
             "#b8e186"
            ],
            [
             0.8,
             "#7fbc41"
            ],
            [
             0.9,
             "#4d9221"
            ],
            [
             1,
             "#276419"
            ]
           ],
           "sequential": [
            [
             0,
             "#0d0887"
            ],
            [
             0.1111111111111111,
             "#46039f"
            ],
            [
             0.2222222222222222,
             "#7201a8"
            ],
            [
             0.3333333333333333,
             "#9c179e"
            ],
            [
             0.4444444444444444,
             "#bd3786"
            ],
            [
             0.5555555555555556,
             "#d8576b"
            ],
            [
             0.6666666666666666,
             "#ed7953"
            ],
            [
             0.7777777777777778,
             "#fb9f3a"
            ],
            [
             0.8888888888888888,
             "#fdca26"
            ],
            [
             1,
             "#f0f921"
            ]
           ],
           "sequentialminus": [
            [
             0,
             "#0d0887"
            ],
            [
             0.1111111111111111,
             "#46039f"
            ],
            [
             0.2222222222222222,
             "#7201a8"
            ],
            [
             0.3333333333333333,
             "#9c179e"
            ],
            [
             0.4444444444444444,
             "#bd3786"
            ],
            [
             0.5555555555555556,
             "#d8576b"
            ],
            [
             0.6666666666666666,
             "#ed7953"
            ],
            [
             0.7777777777777778,
             "#fb9f3a"
            ],
            [
             0.8888888888888888,
             "#fdca26"
            ],
            [
             1,
             "#f0f921"
            ]
           ]
          },
          "colorway": [
           "#636efa",
           "#EF553B",
           "#00cc96",
           "#ab63fa",
           "#FFA15A",
           "#19d3f3",
           "#FF6692",
           "#B6E880",
           "#FF97FF",
           "#FECB52"
          ],
          "font": {
           "color": "#2a3f5f"
          },
          "geo": {
           "bgcolor": "white",
           "lakecolor": "white",
           "landcolor": "#E5ECF6",
           "showlakes": true,
           "showland": true,
           "subunitcolor": "white"
          },
          "hoverlabel": {
           "align": "left"
          },
          "hovermode": "closest",
          "mapbox": {
           "style": "light"
          },
          "paper_bgcolor": "white",
          "plot_bgcolor": "#E5ECF6",
          "polar": {
           "angularaxis": {
            "gridcolor": "white",
            "linecolor": "white",
            "ticks": ""
           },
           "bgcolor": "#E5ECF6",
           "radialaxis": {
            "gridcolor": "white",
            "linecolor": "white",
            "ticks": ""
           }
          },
          "scene": {
           "xaxis": {
            "backgroundcolor": "#E5ECF6",
            "gridcolor": "white",
            "gridwidth": 2,
            "linecolor": "white",
            "showbackground": true,
            "ticks": "",
            "zerolinecolor": "white"
           },
           "yaxis": {
            "backgroundcolor": "#E5ECF6",
            "gridcolor": "white",
            "gridwidth": 2,
            "linecolor": "white",
            "showbackground": true,
            "ticks": "",
            "zerolinecolor": "white"
           },
           "zaxis": {
            "backgroundcolor": "#E5ECF6",
            "gridcolor": "white",
            "gridwidth": 2,
            "linecolor": "white",
            "showbackground": true,
            "ticks": "",
            "zerolinecolor": "white"
           }
          },
          "shapedefaults": {
           "line": {
            "color": "#2a3f5f"
           }
          },
          "ternary": {
           "aaxis": {
            "gridcolor": "white",
            "linecolor": "white",
            "ticks": ""
           },
           "baxis": {
            "gridcolor": "white",
            "linecolor": "white",
            "ticks": ""
           },
           "bgcolor": "#E5ECF6",
           "caxis": {
            "gridcolor": "white",
            "linecolor": "white",
            "ticks": ""
           }
          },
          "title": {
           "x": 0.05
          },
          "xaxis": {
           "automargin": true,
           "gridcolor": "white",
           "linecolor": "white",
           "ticks": "",
           "title": {
            "standoff": 15
           },
           "zerolinecolor": "white",
           "zerolinewidth": 2
          },
          "yaxis": {
           "automargin": true,
           "gridcolor": "white",
           "linecolor": "white",
           "ticks": "",
           "title": {
            "standoff": 15
           },
           "zerolinecolor": "white",
           "zerolinewidth": 2
          }
         }
        },
        "title": {
         "font": {
          "color": "#4D5663"
         },
         "text": "Confirmed Cases in INDIA"
        },
        "xaxis": {
         "gridcolor": "#E1E5ED",
         "showgrid": true,
         "tickfont": {
          "color": "#4D5663"
         },
         "title": {
          "font": {
           "color": "#4D5663"
          },
          "text": "Name of the states"
         },
         "zerolinecolor": "#E1E5ED"
        },
        "yaxis": {
         "gridcolor": "#E1E5ED",
         "showgrid": true,
         "tickfont": {
          "color": "#4D5663"
         },
         "title": {
          "font": {
           "color": "#4D5663"
          },
          "text": "Total cases"
         },
         "zerolinecolor": "#E1E5ED"
        }
       }
      },
      "text/html": [
       "<div>\n",
       "        \n",
       "        \n",
       "            <div id=\"d8b43f29-5ea4-49ee-9a1e-96e88388df8a\" class=\"plotly-graph-div\" style=\"height:525px; width:100%;\"></div>\n",
       "            <script type=\"text/javascript\">\n",
       "                require([\"plotly\"], function(Plotly) {\n",
       "                    window.PLOTLYENV=window.PLOTLYENV || {};\n",
       "                    window.PLOTLYENV.BASE_URL='https://plot.ly';\n",
       "                    \n",
       "                if (document.getElementById(\"d8b43f29-5ea4-49ee-9a1e-96e88388df8a\")) {\n",
       "                    Plotly.newPlot(\n",
       "                        'd8b43f29-5ea4-49ee-9a1e-96e88388df8a',\n",
       "                        [{\"line\": {\"color\": \"rgba(219, 64, 82, 1.0)\", \"dash\": \"solid\", \"shape\": \"linear\", \"width\": 1.3}, \"marker\": {\"size\": 12, \"symbol\": \"circle\"}, \"mode\": \"markers+lines\", \"name\": \"confirmed\", \"text\": \"\", \"type\": \"scatter\", \"x\": [\"26/03/2020 07:19:29\", \"20/04/2020 08:45:07\", \"26/03/2020 07:19:29\", \"26/03/2020 07:19:29\", \"12/05/2020 23:23:25\", \"16/04/2020 19:33:11\", \"05/05/2020 22:32:47\", \"20/04/2020 10:04:08\", \"19/04/2020 17:04:07\", \"13/05/2020 11:13:25\", \"13/05/2020 21:23:25\", \"07/05/2020 22:24:57\", \"13/05/2020 21:33:28\", \"13/05/2020 21:33:27\", \"13/05/2020 23:04:25\", \"13/05/2020 20:33:38\", \"13/05/2020 20:33:39\", \"12/05/2020 23:13:25\", \"13/05/2020 20:33:36\", \"13/05/2020 20:13:26\", \"13/05/2020 18:13:25\", \"13/05/2020 17:22:24\", \"13/05/2020 20:13:25\", \"13/05/2020 22:24:32\", \"13/05/2020 18:08:24\", \"13/05/2020 20:03:27\", \"13/05/2020 21:53:24\", \"13/05/2020 20:03:25\", \"13/05/2020 11:54:24\", \"13/05/2020 21:23:24\", \"13/05/2020 22:53:24\", \"13/05/2020 19:33:25\", \"13/05/2020 22:23:28\", \"13/05/2020 11:13:23\", \"13/05/2020 20:33:35\", \"13/05/2020 20:33:34\", \"13/05/2020 20:33:33\"], \"y\": [0, 0, 0, 0, 1, 1, 1, 2, 7, 13, 13, 33, 43, 59, 67, 72, 80, 154, 177, 191, 535, 538, 793, 940, 959, 971, 1367, 1924, 2137, 2290, 3758, 4173, 4328, 7998, 9227, 9268, 25922]}],\n",
       "                        {\"legend\": {\"bgcolor\": \"#F5F6F9\", \"font\": {\"color\": \"#4D5663\"}}, \"paper_bgcolor\": \"#F5F6F9\", \"plot_bgcolor\": \"#F5F6F9\", \"template\": {\"data\": {\"bar\": [{\"error_x\": {\"color\": \"#2a3f5f\"}, \"error_y\": {\"color\": \"#2a3f5f\"}, \"marker\": {\"line\": {\"color\": \"#E5ECF6\", \"width\": 0.5}}, \"type\": \"bar\"}], \"barpolar\": [{\"marker\": {\"line\": {\"color\": \"#E5ECF6\", \"width\": 0.5}}, \"type\": \"barpolar\"}], \"carpet\": [{\"aaxis\": {\"endlinecolor\": \"#2a3f5f\", \"gridcolor\": \"white\", \"linecolor\": \"white\", \"minorgridcolor\": \"white\", \"startlinecolor\": \"#2a3f5f\"}, \"baxis\": {\"endlinecolor\": \"#2a3f5f\", \"gridcolor\": \"white\", \"linecolor\": \"white\", \"minorgridcolor\": \"white\", \"startlinecolor\": \"#2a3f5f\"}, \"type\": \"carpet\"}], \"choropleth\": [{\"colorbar\": {\"outlinewidth\": 0, \"ticks\": \"\"}, \"type\": \"choropleth\"}], \"contour\": [{\"colorbar\": {\"outlinewidth\": 0, \"ticks\": \"\"}, \"colorscale\": [[0.0, \"#0d0887\"], [0.1111111111111111, \"#46039f\"], [0.2222222222222222, \"#7201a8\"], [0.3333333333333333, \"#9c179e\"], [0.4444444444444444, \"#bd3786\"], [0.5555555555555556, \"#d8576b\"], [0.6666666666666666, \"#ed7953\"], [0.7777777777777778, \"#fb9f3a\"], [0.8888888888888888, \"#fdca26\"], [1.0, \"#f0f921\"]], \"type\": \"contour\"}], \"contourcarpet\": [{\"colorbar\": {\"outlinewidth\": 0, \"ticks\": \"\"}, \"type\": \"contourcarpet\"}], \"heatmap\": [{\"colorbar\": {\"outlinewidth\": 0, \"ticks\": \"\"}, \"colorscale\": [[0.0, \"#0d0887\"], [0.1111111111111111, \"#46039f\"], [0.2222222222222222, \"#7201a8\"], [0.3333333333333333, \"#9c179e\"], [0.4444444444444444, \"#bd3786\"], [0.5555555555555556, \"#d8576b\"], [0.6666666666666666, \"#ed7953\"], [0.7777777777777778, \"#fb9f3a\"], [0.8888888888888888, \"#fdca26\"], [1.0, \"#f0f921\"]], \"type\": \"heatmap\"}], \"heatmapgl\": [{\"colorbar\": {\"outlinewidth\": 0, \"ticks\": \"\"}, \"colorscale\": [[0.0, \"#0d0887\"], [0.1111111111111111, \"#46039f\"], [0.2222222222222222, \"#7201a8\"], [0.3333333333333333, \"#9c179e\"], [0.4444444444444444, \"#bd3786\"], [0.5555555555555556, \"#d8576b\"], [0.6666666666666666, \"#ed7953\"], [0.7777777777777778, \"#fb9f3a\"], [0.8888888888888888, \"#fdca26\"], [1.0, \"#f0f921\"]], \"type\": \"heatmapgl\"}], \"histogram\": [{\"marker\": {\"colorbar\": {\"outlinewidth\": 0, \"ticks\": \"\"}}, \"type\": \"histogram\"}], \"histogram2d\": [{\"colorbar\": {\"outlinewidth\": 0, \"ticks\": \"\"}, \"colorscale\": [[0.0, \"#0d0887\"], [0.1111111111111111, \"#46039f\"], [0.2222222222222222, \"#7201a8\"], [0.3333333333333333, \"#9c179e\"], [0.4444444444444444, \"#bd3786\"], [0.5555555555555556, \"#d8576b\"], [0.6666666666666666, \"#ed7953\"], [0.7777777777777778, \"#fb9f3a\"], [0.8888888888888888, \"#fdca26\"], [1.0, \"#f0f921\"]], \"type\": \"histogram2d\"}], \"histogram2dcontour\": [{\"colorbar\": {\"outlinewidth\": 0, \"ticks\": \"\"}, \"colorscale\": [[0.0, \"#0d0887\"], [0.1111111111111111, \"#46039f\"], [0.2222222222222222, \"#7201a8\"], [0.3333333333333333, \"#9c179e\"], [0.4444444444444444, \"#bd3786\"], [0.5555555555555556, \"#d8576b\"], [0.6666666666666666, \"#ed7953\"], [0.7777777777777778, \"#fb9f3a\"], [0.8888888888888888, \"#fdca26\"], [1.0, \"#f0f921\"]], \"type\": \"histogram2dcontour\"}], \"mesh3d\": [{\"colorbar\": {\"outlinewidth\": 0, \"ticks\": \"\"}, \"type\": \"mesh3d\"}], \"parcoords\": [{\"line\": {\"colorbar\": {\"outlinewidth\": 0, \"ticks\": \"\"}}, \"type\": \"parcoords\"}], \"pie\": [{\"automargin\": true, \"type\": \"pie\"}], \"scatter\": [{\"marker\": {\"colorbar\": {\"outlinewidth\": 0, \"ticks\": \"\"}}, \"type\": \"scatter\"}], \"scatter3d\": [{\"line\": {\"colorbar\": {\"outlinewidth\": 0, \"ticks\": \"\"}}, \"marker\": {\"colorbar\": {\"outlinewidth\": 0, \"ticks\": \"\"}}, \"type\": \"scatter3d\"}], \"scattercarpet\": [{\"marker\": {\"colorbar\": {\"outlinewidth\": 0, \"ticks\": \"\"}}, \"type\": \"scattercarpet\"}], \"scattergeo\": [{\"marker\": {\"colorbar\": {\"outlinewidth\": 0, \"ticks\": \"\"}}, \"type\": \"scattergeo\"}], \"scattergl\": [{\"marker\": {\"colorbar\": {\"outlinewidth\": 0, \"ticks\": \"\"}}, \"type\": \"scattergl\"}], \"scattermapbox\": [{\"marker\": {\"colorbar\": {\"outlinewidth\": 0, \"ticks\": \"\"}}, \"type\": \"scattermapbox\"}], \"scatterpolar\": [{\"marker\": {\"colorbar\": {\"outlinewidth\": 0, \"ticks\": \"\"}}, \"type\": \"scatterpolar\"}], \"scatterpolargl\": [{\"marker\": {\"colorbar\": {\"outlinewidth\": 0, \"ticks\": \"\"}}, \"type\": \"scatterpolargl\"}], \"scatterternary\": [{\"marker\": {\"colorbar\": {\"outlinewidth\": 0, \"ticks\": \"\"}}, \"type\": \"scatterternary\"}], \"surface\": [{\"colorbar\": {\"outlinewidth\": 0, \"ticks\": \"\"}, \"colorscale\": [[0.0, \"#0d0887\"], [0.1111111111111111, \"#46039f\"], [0.2222222222222222, \"#7201a8\"], [0.3333333333333333, \"#9c179e\"], [0.4444444444444444, \"#bd3786\"], [0.5555555555555556, \"#d8576b\"], [0.6666666666666666, \"#ed7953\"], [0.7777777777777778, \"#fb9f3a\"], [0.8888888888888888, \"#fdca26\"], [1.0, \"#f0f921\"]], \"type\": \"surface\"}], \"table\": [{\"cells\": {\"fill\": {\"color\": \"#EBF0F8\"}, \"line\": {\"color\": \"white\"}}, \"header\": {\"fill\": {\"color\": \"#C8D4E3\"}, \"line\": {\"color\": \"white\"}}, \"type\": \"table\"}]}, \"layout\": {\"annotationdefaults\": {\"arrowcolor\": \"#2a3f5f\", \"arrowhead\": 0, \"arrowwidth\": 1}, \"coloraxis\": {\"colorbar\": {\"outlinewidth\": 0, \"ticks\": \"\"}}, \"colorscale\": {\"diverging\": [[0, \"#8e0152\"], [0.1, \"#c51b7d\"], [0.2, \"#de77ae\"], [0.3, \"#f1b6da\"], [0.4, \"#fde0ef\"], [0.5, \"#f7f7f7\"], [0.6, \"#e6f5d0\"], [0.7, \"#b8e186\"], [0.8, \"#7fbc41\"], [0.9, \"#4d9221\"], [1, \"#276419\"]], \"sequential\": [[0.0, \"#0d0887\"], [0.1111111111111111, \"#46039f\"], [0.2222222222222222, \"#7201a8\"], [0.3333333333333333, \"#9c179e\"], [0.4444444444444444, \"#bd3786\"], [0.5555555555555556, \"#d8576b\"], [0.6666666666666666, \"#ed7953\"], [0.7777777777777778, \"#fb9f3a\"], [0.8888888888888888, \"#fdca26\"], [1.0, \"#f0f921\"]], \"sequentialminus\": [[0.0, \"#0d0887\"], [0.1111111111111111, \"#46039f\"], [0.2222222222222222, \"#7201a8\"], [0.3333333333333333, \"#9c179e\"], [0.4444444444444444, \"#bd3786\"], [0.5555555555555556, \"#d8576b\"], [0.6666666666666666, \"#ed7953\"], [0.7777777777777778, \"#fb9f3a\"], [0.8888888888888888, \"#fdca26\"], [1.0, \"#f0f921\"]]}, \"colorway\": [\"#636efa\", \"#EF553B\", \"#00cc96\", \"#ab63fa\", \"#FFA15A\", \"#19d3f3\", \"#FF6692\", \"#B6E880\", \"#FF97FF\", \"#FECB52\"], \"font\": {\"color\": \"#2a3f5f\"}, \"geo\": {\"bgcolor\": \"white\", \"lakecolor\": \"white\", \"landcolor\": \"#E5ECF6\", \"showlakes\": true, \"showland\": true, \"subunitcolor\": \"white\"}, \"hoverlabel\": {\"align\": \"left\"}, \"hovermode\": \"closest\", \"mapbox\": {\"style\": \"light\"}, \"paper_bgcolor\": \"white\", \"plot_bgcolor\": \"#E5ECF6\", \"polar\": {\"angularaxis\": {\"gridcolor\": \"white\", \"linecolor\": \"white\", \"ticks\": \"\"}, \"bgcolor\": \"#E5ECF6\", \"radialaxis\": {\"gridcolor\": \"white\", \"linecolor\": \"white\", \"ticks\": \"\"}}, \"scene\": {\"xaxis\": {\"backgroundcolor\": \"#E5ECF6\", \"gridcolor\": \"white\", \"gridwidth\": 2, \"linecolor\": \"white\", \"showbackground\": true, \"ticks\": \"\", \"zerolinecolor\": \"white\"}, \"yaxis\": {\"backgroundcolor\": \"#E5ECF6\", \"gridcolor\": \"white\", \"gridwidth\": 2, \"linecolor\": \"white\", \"showbackground\": true, \"ticks\": \"\", \"zerolinecolor\": \"white\"}, \"zaxis\": {\"backgroundcolor\": \"#E5ECF6\", \"gridcolor\": \"white\", \"gridwidth\": 2, \"linecolor\": \"white\", \"showbackground\": true, \"ticks\": \"\", \"zerolinecolor\": \"white\"}}, \"shapedefaults\": {\"line\": {\"color\": \"#2a3f5f\"}}, \"ternary\": {\"aaxis\": {\"gridcolor\": \"white\", \"linecolor\": \"white\", \"ticks\": \"\"}, \"baxis\": {\"gridcolor\": \"white\", \"linecolor\": \"white\", \"ticks\": \"\"}, \"bgcolor\": \"#E5ECF6\", \"caxis\": {\"gridcolor\": \"white\", \"linecolor\": \"white\", \"ticks\": \"\"}}, \"title\": {\"x\": 0.05}, \"xaxis\": {\"automargin\": true, \"gridcolor\": \"white\", \"linecolor\": \"white\", \"ticks\": \"\", \"title\": {\"standoff\": 15}, \"zerolinecolor\": \"white\", \"zerolinewidth\": 2}, \"yaxis\": {\"automargin\": true, \"gridcolor\": \"white\", \"linecolor\": \"white\", \"ticks\": \"\", \"title\": {\"standoff\": 15}, \"zerolinecolor\": \"white\", \"zerolinewidth\": 2}}}, \"title\": {\"font\": {\"color\": \"#4D5663\"}, \"text\": \"Confirmed Cases in INDIA\"}, \"xaxis\": {\"gridcolor\": \"#E1E5ED\", \"showgrid\": true, \"tickfont\": {\"color\": \"#4D5663\"}, \"title\": {\"font\": {\"color\": \"#4D5663\"}, \"text\": \"Name of the states\"}, \"zerolinecolor\": \"#E1E5ED\"}, \"yaxis\": {\"gridcolor\": \"#E1E5ED\", \"showgrid\": true, \"tickfont\": {\"color\": \"#4D5663\"}, \"title\": {\"font\": {\"color\": \"#4D5663\"}, \"text\": \"Total cases\"}, \"zerolinecolor\": \"#E1E5ED\"}},\n",
       "                        {\"showLink\": true, \"linkText\": \"Export to plot.ly\", \"plotlyServerURL\": \"https://plot.ly\", \"responsive\": true}\n",
       "                    ).then(function(){\n",
       "                            \n",
       "var gd = document.getElementById('d8b43f29-5ea4-49ee-9a1e-96e88388df8a');\n",
       "var x = new MutationObserver(function (mutations, observer) {{\n",
       "        var display = window.getComputedStyle(gd).display;\n",
       "        if (!display || display === 'none') {{\n",
       "            console.log([gd, 'removed!']);\n",
       "            Plotly.purge(gd);\n",
       "            observer.disconnect();\n",
       "        }}\n",
       "}});\n",
       "\n",
       "// Listen for the removal of the full notebook cells\n",
       "var notebookContainer = gd.closest('#notebook-container');\n",
       "if (notebookContainer) {{\n",
       "    x.observe(notebookContainer, {childList: true});\n",
       "}}\n",
       "\n",
       "// Listen for the clearing of the current output cell\n",
       "var outputEl = gd.closest('.output');\n",
       "if (outputEl) {{\n",
       "    x.observe(outputEl, {childList: true});\n",
       "}}\n",
       "\n",
       "                        })\n",
       "                };\n",
       "                });\n",
       "            </script>\n",
       "        </div>"
      ]
     },
     "metadata": {},
     "output_type": "display_data"
    }
   ],
   "source": [
    "time=covid_india.sort_values(by='confirmed',ascending=True)\n",
    "time.iplot(kind='scatter',y='confirmed',x='lastupdatedtime',mode='markers+lines',\n",
    "           title=\"Confirmed Cases in INDIA\",xTitle='Name of the states',yTitle='Total cases',colors='red',size=12)"
   ]
  },
  {
   "cell_type": "code",
   "execution_count": 81,
   "metadata": {},
   "outputs": [],
   "source": [
    "r = requests.get(\"https://api.apify.com/v2/key-value-stores/moxA3Q0aZh5LosewB/records/LATEST?disableRedirect=true\")\n",
    "data =json.loads(r.text)\n",
    "json_data = json.dumps(data['casesByState'])"
   ]
  },
  {
   "cell_type": "code",
   "execution_count": 82,
   "metadata": {},
   "outputs": [
    {
     "data": {
      "text/html": [
       "<div>\n",
       "<style scoped>\n",
       "    .dataframe tbody tr th:only-of-type {\n",
       "        vertical-align: middle;\n",
       "    }\n",
       "\n",
       "    .dataframe tbody tr th {\n",
       "        vertical-align: top;\n",
       "    }\n",
       "\n",
       "    .dataframe thead th {\n",
       "        text-align: right;\n",
       "    }\n",
       "</style>\n",
       "<table border=\"1\" class=\"dataframe\">\n",
       "  <thead>\n",
       "    <tr style=\"text-align: right;\">\n",
       "      <th></th>\n",
       "      <th>name</th>\n",
       "      <th>range</th>\n",
       "      <th>casesReported</th>\n",
       "      <th>communityTransmission</th>\n",
       "    </tr>\n",
       "  </thead>\n",
       "  <tbody>\n",
       "    <tr>\n",
       "      <th>0</th>\n",
       "      <td>Alabama</td>\n",
       "      <td>10,001 to 20,000</td>\n",
       "      <td>10413</td>\n",
       "      <td>Yes, widespread</td>\n",
       "    </tr>\n",
       "    <tr>\n",
       "      <th>1</th>\n",
       "      <td>Alaska</td>\n",
       "      <td>0 to 1,000</td>\n",
       "      <td>381</td>\n",
       "      <td>Yes, defined area(s)</td>\n",
       "    </tr>\n",
       "    <tr>\n",
       "      <th>2</th>\n",
       "      <td>American Samoa</td>\n",
       "      <td>0 to 1,000</td>\n",
       "      <td>0</td>\n",
       "      <td>N/A</td>\n",
       "    </tr>\n",
       "    <tr>\n",
       "      <th>3</th>\n",
       "      <td>Arizona</td>\n",
       "      <td>10,001 to 20,000</td>\n",
       "      <td>11380</td>\n",
       "      <td>Yes, widespread</td>\n",
       "    </tr>\n",
       "    <tr>\n",
       "      <th>4</th>\n",
       "      <td>Arkansas</td>\n",
       "      <td>1,001 to 5,000</td>\n",
       "      <td>4043</td>\n",
       "      <td>Yes, widespread</td>\n",
       "    </tr>\n",
       "    <tr>\n",
       "      <th>5</th>\n",
       "      <td>California</td>\n",
       "      <td>40,001 or more</td>\n",
       "      <td>67939</td>\n",
       "      <td>Yes, widespread</td>\n",
       "    </tr>\n",
       "    <tr>\n",
       "      <th>6</th>\n",
       "      <td>Colorado</td>\n",
       "      <td>10,001 to 20,000</td>\n",
       "      <td>19735</td>\n",
       "      <td>Yes, widespread</td>\n",
       "    </tr>\n",
       "    <tr>\n",
       "      <th>7</th>\n",
       "      <td>Connecticut</td>\n",
       "      <td>20,001 to 40,000</td>\n",
       "      <td>33765</td>\n",
       "      <td>Yes, widespread</td>\n",
       "    </tr>\n",
       "    <tr>\n",
       "      <th>8</th>\n",
       "      <td>Delaware</td>\n",
       "      <td>5,001 to 10,000</td>\n",
       "      <td>6741</td>\n",
       "      <td>Yes, widespread</td>\n",
       "    </tr>\n",
       "    <tr>\n",
       "      <th>9</th>\n",
       "      <td>District of Columbia</td>\n",
       "      <td>5,001 to 10,000</td>\n",
       "      <td>6389</td>\n",
       "      <td>Undetermined</td>\n",
       "    </tr>\n",
       "    <tr>\n",
       "      <th>10</th>\n",
       "      <td>Florida</td>\n",
       "      <td>40,001 or more</td>\n",
       "      <td>40982</td>\n",
       "      <td>Yes, widespread</td>\n",
       "    </tr>\n",
       "    <tr>\n",
       "      <th>11</th>\n",
       "      <td>Georgia</td>\n",
       "      <td>20,001 to 40,000</td>\n",
       "      <td>33995</td>\n",
       "      <td>Yes, widespread</td>\n",
       "    </tr>\n",
       "    <tr>\n",
       "      <th>12</th>\n",
       "      <td>Guam</td>\n",
       "      <td>0 to 1,000</td>\n",
       "      <td>152</td>\n",
       "      <td>Yes, widespread</td>\n",
       "    </tr>\n",
       "    <tr>\n",
       "      <th>13</th>\n",
       "      <td>Hawaii</td>\n",
       "      <td>0 to 1,000</td>\n",
       "      <td>582</td>\n",
       "      <td>Yes, defined area(s)</td>\n",
       "    </tr>\n",
       "    <tr>\n",
       "      <th>14</th>\n",
       "      <td>Idaho</td>\n",
       "      <td>1,001 to 5,000</td>\n",
       "      <td>2260</td>\n",
       "      <td>Yes, widespread</td>\n",
       "    </tr>\n",
       "    <tr>\n",
       "      <th>15</th>\n",
       "      <td>Illinois</td>\n",
       "      <td>40,001 or more</td>\n",
       "      <td>79007</td>\n",
       "      <td>Yes, widespread</td>\n",
       "    </tr>\n",
       "    <tr>\n",
       "      <th>16</th>\n",
       "      <td>Indiana</td>\n",
       "      <td>20,001 to 40,000</td>\n",
       "      <td>24627</td>\n",
       "      <td>Undetermined</td>\n",
       "    </tr>\n",
       "    <tr>\n",
       "      <th>17</th>\n",
       "      <td>Iowa</td>\n",
       "      <td>10,001 to 20,000</td>\n",
       "      <td>12373</td>\n",
       "      <td>Yes, widespread</td>\n",
       "    </tr>\n",
       "    <tr>\n",
       "      <th>18</th>\n",
       "      <td>Kansas</td>\n",
       "      <td>5,001 to 10,000</td>\n",
       "      <td>7116</td>\n",
       "      <td>Yes, defined area(s)</td>\n",
       "    </tr>\n",
       "    <tr>\n",
       "      <th>19</th>\n",
       "      <td>Kentucky</td>\n",
       "      <td>5,001 to 10,000</td>\n",
       "      <td>6677</td>\n",
       "      <td>Undetermined</td>\n",
       "    </tr>\n",
       "    <tr>\n",
       "      <th>20</th>\n",
       "      <td>Louisiana</td>\n",
       "      <td>20,001 to 40,000</td>\n",
       "      <td>31881</td>\n",
       "      <td>Yes, widespread</td>\n",
       "    </tr>\n",
       "    <tr>\n",
       "      <th>21</th>\n",
       "      <td>Maine</td>\n",
       "      <td>1,001 to 5,000</td>\n",
       "      <td>1462</td>\n",
       "      <td>Yes, widespread</td>\n",
       "    </tr>\n",
       "    <tr>\n",
       "      <th>22</th>\n",
       "      <td>Marshall Islands</td>\n",
       "      <td>0 to 1,000</td>\n",
       "      <td>0</td>\n",
       "      <td>N/A</td>\n",
       "    </tr>\n",
       "    <tr>\n",
       "      <th>23</th>\n",
       "      <td>Maryland</td>\n",
       "      <td>20,001 to 40,000</td>\n",
       "      <td>34061</td>\n",
       "      <td>Yes, widespread</td>\n",
       "    </tr>\n",
       "    <tr>\n",
       "      <th>24</th>\n",
       "      <td>Massachusetts</td>\n",
       "      <td>40,001 or more</td>\n",
       "      <td>78462</td>\n",
       "      <td>Yes, widespread</td>\n",
       "    </tr>\n",
       "    <tr>\n",
       "      <th>25</th>\n",
       "      <td>Michigan</td>\n",
       "      <td>40,001 or more</td>\n",
       "      <td>47552</td>\n",
       "      <td>Yes, widespread</td>\n",
       "    </tr>\n",
       "    <tr>\n",
       "      <th>26</th>\n",
       "      <td>Micronesia</td>\n",
       "      <td>0 to 1,000</td>\n",
       "      <td>0</td>\n",
       "      <td>N/A</td>\n",
       "    </tr>\n",
       "    <tr>\n",
       "      <th>27</th>\n",
       "      <td>Minnesota</td>\n",
       "      <td>10,001 to 20,000</td>\n",
       "      <td>11799</td>\n",
       "      <td>Yes, widespread</td>\n",
       "    </tr>\n",
       "    <tr>\n",
       "      <th>28</th>\n",
       "      <td>Mississippi</td>\n",
       "      <td>5,001 to 10,000</td>\n",
       "      <td>9908</td>\n",
       "      <td>Yes, widespread</td>\n",
       "    </tr>\n",
       "    <tr>\n",
       "      <th>29</th>\n",
       "      <td>Missouri</td>\n",
       "      <td>5,001 to 10,000</td>\n",
       "      <td>9918</td>\n",
       "      <td>Yes, widespread</td>\n",
       "    </tr>\n",
       "    <tr>\n",
       "      <th>30</th>\n",
       "      <td>Montana</td>\n",
       "      <td>0 to 1,000</td>\n",
       "      <td>459</td>\n",
       "      <td>Yes, defined area(s)</td>\n",
       "    </tr>\n",
       "    <tr>\n",
       "      <th>31</th>\n",
       "      <td>Nebraska</td>\n",
       "      <td>5,001 to 10,000</td>\n",
       "      <td>8572</td>\n",
       "      <td>Yes, widespread</td>\n",
       "    </tr>\n",
       "    <tr>\n",
       "      <th>32</th>\n",
       "      <td>Nevada</td>\n",
       "      <td>5,001 to 10,000</td>\n",
       "      <td>6163</td>\n",
       "      <td>Yes, widespread</td>\n",
       "    </tr>\n",
       "    <tr>\n",
       "      <th>33</th>\n",
       "      <td>New Hampshire</td>\n",
       "      <td>1,001 to 5,000</td>\n",
       "      <td>3160</td>\n",
       "      <td>Yes, widespread</td>\n",
       "    </tr>\n",
       "    <tr>\n",
       "      <th>34</th>\n",
       "      <td>New Jersey</td>\n",
       "      <td>40,001 or more</td>\n",
       "      <td>139945</td>\n",
       "      <td>Yes, widespread</td>\n",
       "    </tr>\n",
       "    <tr>\n",
       "      <th>35</th>\n",
       "      <td>New Mexico</td>\n",
       "      <td>5,001 to 10,000</td>\n",
       "      <td>5069</td>\n",
       "      <td>Yes, widespread</td>\n",
       "    </tr>\n",
       "    <tr>\n",
       "      <th>36</th>\n",
       "      <td>New York</td>\n",
       "      <td>40,001 or more</td>\n",
       "      <td>336017</td>\n",
       "      <td>Yes, widespread</td>\n",
       "    </tr>\n",
       "    <tr>\n",
       "      <th>37</th>\n",
       "      <td>North Carolina</td>\n",
       "      <td>10,001 to 20,000</td>\n",
       "      <td>15045</td>\n",
       "      <td>Yes, widespread</td>\n",
       "    </tr>\n",
       "    <tr>\n",
       "      <th>38</th>\n",
       "      <td>North Dakota</td>\n",
       "      <td>1,001 to 5,000</td>\n",
       "      <td>1518</td>\n",
       "      <td>Yes, defined area(s)</td>\n",
       "    </tr>\n",
       "    <tr>\n",
       "      <th>39</th>\n",
       "      <td>Northern Marianas</td>\n",
       "      <td>0 to 1,000</td>\n",
       "      <td>19</td>\n",
       "      <td>Undetermined</td>\n",
       "    </tr>\n",
       "    <tr>\n",
       "      <th>40</th>\n",
       "      <td>Ohio</td>\n",
       "      <td>20,001 to 40,000</td>\n",
       "      <td>24777</td>\n",
       "      <td>Yes, defined area(s)</td>\n",
       "    </tr>\n",
       "    <tr>\n",
       "      <th>41</th>\n",
       "      <td>Oklahoma</td>\n",
       "      <td>1,001 to 5,000</td>\n",
       "      <td>4439</td>\n",
       "      <td>Yes, widespread</td>\n",
       "    </tr>\n",
       "    <tr>\n",
       "      <th>42</th>\n",
       "      <td>Oregon</td>\n",
       "      <td>1,001 to 5,000</td>\n",
       "      <td>3286</td>\n",
       "      <td>Yes, widespread</td>\n",
       "    </tr>\n",
       "    <tr>\n",
       "      <th>43</th>\n",
       "      <td>Palau</td>\n",
       "      <td>0 to 1,000</td>\n",
       "      <td>0</td>\n",
       "      <td>N/A</td>\n",
       "    </tr>\n",
       "    <tr>\n",
       "      <th>44</th>\n",
       "      <td>Pennsylvania</td>\n",
       "      <td>40,001 or more</td>\n",
       "      <td>57154</td>\n",
       "      <td>Yes, defined area(s)</td>\n",
       "    </tr>\n",
       "    <tr>\n",
       "      <th>45</th>\n",
       "      <td>Puerto Rico</td>\n",
       "      <td>1,001 to 5,000</td>\n",
       "      <td>2256</td>\n",
       "      <td>Undetermined</td>\n",
       "    </tr>\n",
       "    <tr>\n",
       "      <th>46</th>\n",
       "      <td>Rhode Island</td>\n",
       "      <td>10,001 to 20,000</td>\n",
       "      <td>11450</td>\n",
       "      <td>Yes, widespread</td>\n",
       "    </tr>\n",
       "    <tr>\n",
       "      <th>47</th>\n",
       "      <td>South Carolina</td>\n",
       "      <td>5,001 to 10,000</td>\n",
       "      <td>7792</td>\n",
       "      <td>Yes, defined area(s)</td>\n",
       "    </tr>\n",
       "    <tr>\n",
       "      <th>48</th>\n",
       "      <td>South Dakota</td>\n",
       "      <td>1,001 to 5,000</td>\n",
       "      <td>3614</td>\n",
       "      <td>Yes, defined area(s)</td>\n",
       "    </tr>\n",
       "    <tr>\n",
       "      <th>49</th>\n",
       "      <td>Tennessee</td>\n",
       "      <td>10,001 to 20,000</td>\n",
       "      <td>15622</td>\n",
       "      <td>Yes, defined area(s)</td>\n",
       "    </tr>\n",
       "    <tr>\n",
       "      <th>50</th>\n",
       "      <td>Texas</td>\n",
       "      <td>20,001 to 40,000</td>\n",
       "      <td>39869</td>\n",
       "      <td>Yes, defined area(s)</td>\n",
       "    </tr>\n",
       "    <tr>\n",
       "      <th>51</th>\n",
       "      <td>Utah</td>\n",
       "      <td>5,001 to 10,000</td>\n",
       "      <td>6395</td>\n",
       "      <td>Yes, widespread</td>\n",
       "    </tr>\n",
       "    <tr>\n",
       "      <th>52</th>\n",
       "      <td>Vermont</td>\n",
       "      <td>0 to 1,000</td>\n",
       "      <td>926</td>\n",
       "      <td>Yes, widespread</td>\n",
       "    </tr>\n",
       "    <tr>\n",
       "      <th>53</th>\n",
       "      <td>Virgin Islands</td>\n",
       "      <td>0 to 1,000</td>\n",
       "      <td>69</td>\n",
       "      <td>Yes, defined area(s)</td>\n",
       "    </tr>\n",
       "    <tr>\n",
       "      <th>54</th>\n",
       "      <td>Virginia</td>\n",
       "      <td>20,001 to 40,000</td>\n",
       "      <td>25800</td>\n",
       "      <td>Yes, widespread</td>\n",
       "    </tr>\n",
       "    <tr>\n",
       "      <th>55</th>\n",
       "      <td>Washington</td>\n",
       "      <td>10,001 to 20,000</td>\n",
       "      <td>17122</td>\n",
       "      <td>Yes, widespread</td>\n",
       "    </tr>\n",
       "    <tr>\n",
       "      <th>56</th>\n",
       "      <td>West Virginia</td>\n",
       "      <td>1,001 to 5,000</td>\n",
       "      <td>1369</td>\n",
       "      <td>Yes, defined area(s)</td>\n",
       "    </tr>\n",
       "    <tr>\n",
       "      <th>57</th>\n",
       "      <td>Wisconsin</td>\n",
       "      <td>10,001 to 20,000</td>\n",
       "      <td>10418</td>\n",
       "      <td>Yes, widespread</td>\n",
       "    </tr>\n",
       "    <tr>\n",
       "      <th>58</th>\n",
       "      <td>Wyoming</td>\n",
       "      <td>0 to 1,000</td>\n",
       "      <td>669</td>\n",
       "      <td>Yes, defined area(s)</td>\n",
       "    </tr>\n",
       "  </tbody>\n",
       "</table>\n",
       "</div>"
      ],
      "text/plain": [
       "                    name             range  casesReported  \\\n",
       "0                Alabama  10,001 to 20,000          10413   \n",
       "1                 Alaska        0 to 1,000            381   \n",
       "2         American Samoa        0 to 1,000              0   \n",
       "3                Arizona  10,001 to 20,000          11380   \n",
       "4               Arkansas    1,001 to 5,000           4043   \n",
       "5             California    40,001 or more          67939   \n",
       "6               Colorado  10,001 to 20,000          19735   \n",
       "7            Connecticut  20,001 to 40,000          33765   \n",
       "8               Delaware   5,001 to 10,000           6741   \n",
       "9   District of Columbia   5,001 to 10,000           6389   \n",
       "10               Florida    40,001 or more          40982   \n",
       "11               Georgia  20,001 to 40,000          33995   \n",
       "12                  Guam        0 to 1,000            152   \n",
       "13                Hawaii        0 to 1,000            582   \n",
       "14                 Idaho    1,001 to 5,000           2260   \n",
       "15              Illinois    40,001 or more          79007   \n",
       "16               Indiana  20,001 to 40,000          24627   \n",
       "17                  Iowa  10,001 to 20,000          12373   \n",
       "18                Kansas   5,001 to 10,000           7116   \n",
       "19              Kentucky   5,001 to 10,000           6677   \n",
       "20             Louisiana  20,001 to 40,000          31881   \n",
       "21                 Maine    1,001 to 5,000           1462   \n",
       "22      Marshall Islands        0 to 1,000              0   \n",
       "23              Maryland  20,001 to 40,000          34061   \n",
       "24         Massachusetts    40,001 or more          78462   \n",
       "25              Michigan    40,001 or more          47552   \n",
       "26            Micronesia        0 to 1,000              0   \n",
       "27             Minnesota  10,001 to 20,000          11799   \n",
       "28           Mississippi   5,001 to 10,000           9908   \n",
       "29              Missouri   5,001 to 10,000           9918   \n",
       "30               Montana        0 to 1,000            459   \n",
       "31              Nebraska   5,001 to 10,000           8572   \n",
       "32                Nevada   5,001 to 10,000           6163   \n",
       "33         New Hampshire    1,001 to 5,000           3160   \n",
       "34            New Jersey    40,001 or more         139945   \n",
       "35            New Mexico   5,001 to 10,000           5069   \n",
       "36              New York    40,001 or more         336017   \n",
       "37        North Carolina  10,001 to 20,000          15045   \n",
       "38          North Dakota    1,001 to 5,000           1518   \n",
       "39     Northern Marianas        0 to 1,000             19   \n",
       "40                  Ohio  20,001 to 40,000          24777   \n",
       "41              Oklahoma    1,001 to 5,000           4439   \n",
       "42                Oregon    1,001 to 5,000           3286   \n",
       "43                 Palau        0 to 1,000              0   \n",
       "44          Pennsylvania    40,001 or more          57154   \n",
       "45           Puerto Rico    1,001 to 5,000           2256   \n",
       "46          Rhode Island  10,001 to 20,000          11450   \n",
       "47        South Carolina   5,001 to 10,000           7792   \n",
       "48          South Dakota    1,001 to 5,000           3614   \n",
       "49             Tennessee  10,001 to 20,000          15622   \n",
       "50                 Texas  20,001 to 40,000          39869   \n",
       "51                  Utah   5,001 to 10,000           6395   \n",
       "52               Vermont        0 to 1,000            926   \n",
       "53        Virgin Islands        0 to 1,000             69   \n",
       "54              Virginia  20,001 to 40,000          25800   \n",
       "55            Washington  10,001 to 20,000          17122   \n",
       "56         West Virginia    1,001 to 5,000           1369   \n",
       "57             Wisconsin  10,001 to 20,000          10418   \n",
       "58               Wyoming        0 to 1,000            669   \n",
       "\n",
       "   communityTransmission  \n",
       "0        Yes, widespread  \n",
       "1   Yes, defined area(s)  \n",
       "2                    N/A  \n",
       "3        Yes, widespread  \n",
       "4        Yes, widespread  \n",
       "5        Yes, widespread  \n",
       "6        Yes, widespread  \n",
       "7        Yes, widespread  \n",
       "8        Yes, widespread  \n",
       "9           Undetermined  \n",
       "10       Yes, widespread  \n",
       "11       Yes, widespread  \n",
       "12       Yes, widespread  \n",
       "13  Yes, defined area(s)  \n",
       "14       Yes, widespread  \n",
       "15       Yes, widespread  \n",
       "16          Undetermined  \n",
       "17       Yes, widespread  \n",
       "18  Yes, defined area(s)  \n",
       "19          Undetermined  \n",
       "20       Yes, widespread  \n",
       "21       Yes, widespread  \n",
       "22                   N/A  \n",
       "23       Yes, widespread  \n",
       "24       Yes, widespread  \n",
       "25       Yes, widespread  \n",
       "26                   N/A  \n",
       "27       Yes, widespread  \n",
       "28       Yes, widespread  \n",
       "29       Yes, widespread  \n",
       "30  Yes, defined area(s)  \n",
       "31       Yes, widespread  \n",
       "32       Yes, widespread  \n",
       "33       Yes, widespread  \n",
       "34       Yes, widespread  \n",
       "35       Yes, widespread  \n",
       "36       Yes, widespread  \n",
       "37       Yes, widespread  \n",
       "38  Yes, defined area(s)  \n",
       "39          Undetermined  \n",
       "40  Yes, defined area(s)  \n",
       "41       Yes, widespread  \n",
       "42       Yes, widespread  \n",
       "43                   N/A  \n",
       "44  Yes, defined area(s)  \n",
       "45          Undetermined  \n",
       "46       Yes, widespread  \n",
       "47  Yes, defined area(s)  \n",
       "48  Yes, defined area(s)  \n",
       "49  Yes, defined area(s)  \n",
       "50  Yes, defined area(s)  \n",
       "51       Yes, widespread  \n",
       "52       Yes, widespread  \n",
       "53  Yes, defined area(s)  \n",
       "54       Yes, widespread  \n",
       "55       Yes, widespread  \n",
       "56  Yes, defined area(s)  \n",
       "57       Yes, widespread  \n",
       "58  Yes, defined area(s)  "
      ]
     },
     "execution_count": 82,
     "metadata": {},
     "output_type": "execute_result"
    }
   ],
   "source": [
    "covid_us=pd.read_json(json_data, orient='records')\n",
    "covid_us"
   ]
  },
  {
   "cell_type": "code",
   "execution_count": 83,
   "metadata": {},
   "outputs": [
    {
     "data": {
      "application/vnd.plotly.v1+json": {
       "config": {
        "linkText": "Export to plot.ly",
        "plotlyServerURL": "https://plot.ly",
        "showLink": true
       },
       "data": [
        {
         "marker": {
          "color": "rgba(255, 153, 51, 0.6)",
          "line": {
           "color": "rgba(255, 153, 51, 1.0)",
           "width": 1
          }
         },
         "name": "casesReported",
         "orientation": "v",
         "text": "",
         "type": "bar",
         "x": [
          "Alabama",
          "Alaska",
          "American Samoa",
          "Arizona",
          "Arkansas",
          "California",
          "Colorado",
          "Connecticut",
          "Delaware",
          "District of Columbia",
          "Florida",
          "Georgia",
          "Guam",
          "Hawaii",
          "Idaho",
          "Illinois",
          "Indiana",
          "Iowa",
          "Kansas",
          "Kentucky",
          "Louisiana",
          "Maine",
          "Marshall Islands",
          "Maryland",
          "Massachusetts",
          "Michigan",
          "Micronesia",
          "Minnesota",
          "Mississippi",
          "Missouri",
          "Montana",
          "Nebraska",
          "Nevada",
          "New Hampshire",
          "New Jersey",
          "New Mexico",
          "New York",
          "North Carolina",
          "North Dakota",
          "Northern Marianas",
          "Ohio",
          "Oklahoma",
          "Oregon",
          "Palau",
          "Pennsylvania",
          "Puerto Rico",
          "Rhode Island",
          "South Carolina",
          "South Dakota",
          "Tennessee",
          "Texas",
          "Utah",
          "Vermont",
          "Virgin Islands",
          "Virginia",
          "Washington",
          "West Virginia",
          "Wisconsin",
          "Wyoming"
         ],
         "y": [
          10413,
          381,
          0,
          11380,
          4043,
          67939,
          19735,
          33765,
          6741,
          6389,
          40982,
          33995,
          152,
          582,
          2260,
          79007,
          24627,
          12373,
          7116,
          6677,
          31881,
          1462,
          0,
          34061,
          78462,
          47552,
          0,
          11799,
          9908,
          9918,
          459,
          8572,
          6163,
          3160,
          139945,
          5069,
          336017,
          15045,
          1518,
          19,
          24777,
          4439,
          3286,
          0,
          57154,
          2256,
          11450,
          7792,
          3614,
          15622,
          39869,
          6395,
          926,
          69,
          25800,
          17122,
          1369,
          10418,
          669
         ]
        }
       ],
       "layout": {
        "legend": {
         "bgcolor": "#F5F6F9",
         "font": {
          "color": "#4D5663"
         }
        },
        "paper_bgcolor": "#F5F6F9",
        "plot_bgcolor": "#F5F6F9",
        "template": {
         "data": {
          "bar": [
           {
            "error_x": {
             "color": "#2a3f5f"
            },
            "error_y": {
             "color": "#2a3f5f"
            },
            "marker": {
             "line": {
              "color": "#E5ECF6",
              "width": 0.5
             }
            },
            "type": "bar"
           }
          ],
          "barpolar": [
           {
            "marker": {
             "line": {
              "color": "#E5ECF6",
              "width": 0.5
             }
            },
            "type": "barpolar"
           }
          ],
          "carpet": [
           {
            "aaxis": {
             "endlinecolor": "#2a3f5f",
             "gridcolor": "white",
             "linecolor": "white",
             "minorgridcolor": "white",
             "startlinecolor": "#2a3f5f"
            },
            "baxis": {
             "endlinecolor": "#2a3f5f",
             "gridcolor": "white",
             "linecolor": "white",
             "minorgridcolor": "white",
             "startlinecolor": "#2a3f5f"
            },
            "type": "carpet"
           }
          ],
          "choropleth": [
           {
            "colorbar": {
             "outlinewidth": 0,
             "ticks": ""
            },
            "type": "choropleth"
           }
          ],
          "contour": [
           {
            "colorbar": {
             "outlinewidth": 0,
             "ticks": ""
            },
            "colorscale": [
             [
              0,
              "#0d0887"
             ],
             [
              0.1111111111111111,
              "#46039f"
             ],
             [
              0.2222222222222222,
              "#7201a8"
             ],
             [
              0.3333333333333333,
              "#9c179e"
             ],
             [
              0.4444444444444444,
              "#bd3786"
             ],
             [
              0.5555555555555556,
              "#d8576b"
             ],
             [
              0.6666666666666666,
              "#ed7953"
             ],
             [
              0.7777777777777778,
              "#fb9f3a"
             ],
             [
              0.8888888888888888,
              "#fdca26"
             ],
             [
              1,
              "#f0f921"
             ]
            ],
            "type": "contour"
           }
          ],
          "contourcarpet": [
           {
            "colorbar": {
             "outlinewidth": 0,
             "ticks": ""
            },
            "type": "contourcarpet"
           }
          ],
          "heatmap": [
           {
            "colorbar": {
             "outlinewidth": 0,
             "ticks": ""
            },
            "colorscale": [
             [
              0,
              "#0d0887"
             ],
             [
              0.1111111111111111,
              "#46039f"
             ],
             [
              0.2222222222222222,
              "#7201a8"
             ],
             [
              0.3333333333333333,
              "#9c179e"
             ],
             [
              0.4444444444444444,
              "#bd3786"
             ],
             [
              0.5555555555555556,
              "#d8576b"
             ],
             [
              0.6666666666666666,
              "#ed7953"
             ],
             [
              0.7777777777777778,
              "#fb9f3a"
             ],
             [
              0.8888888888888888,
              "#fdca26"
             ],
             [
              1,
              "#f0f921"
             ]
            ],
            "type": "heatmap"
           }
          ],
          "heatmapgl": [
           {
            "colorbar": {
             "outlinewidth": 0,
             "ticks": ""
            },
            "colorscale": [
             [
              0,
              "#0d0887"
             ],
             [
              0.1111111111111111,
              "#46039f"
             ],
             [
              0.2222222222222222,
              "#7201a8"
             ],
             [
              0.3333333333333333,
              "#9c179e"
             ],
             [
              0.4444444444444444,
              "#bd3786"
             ],
             [
              0.5555555555555556,
              "#d8576b"
             ],
             [
              0.6666666666666666,
              "#ed7953"
             ],
             [
              0.7777777777777778,
              "#fb9f3a"
             ],
             [
              0.8888888888888888,
              "#fdca26"
             ],
             [
              1,
              "#f0f921"
             ]
            ],
            "type": "heatmapgl"
           }
          ],
          "histogram": [
           {
            "marker": {
             "colorbar": {
              "outlinewidth": 0,
              "ticks": ""
             }
            },
            "type": "histogram"
           }
          ],
          "histogram2d": [
           {
            "colorbar": {
             "outlinewidth": 0,
             "ticks": ""
            },
            "colorscale": [
             [
              0,
              "#0d0887"
             ],
             [
              0.1111111111111111,
              "#46039f"
             ],
             [
              0.2222222222222222,
              "#7201a8"
             ],
             [
              0.3333333333333333,
              "#9c179e"
             ],
             [
              0.4444444444444444,
              "#bd3786"
             ],
             [
              0.5555555555555556,
              "#d8576b"
             ],
             [
              0.6666666666666666,
              "#ed7953"
             ],
             [
              0.7777777777777778,
              "#fb9f3a"
             ],
             [
              0.8888888888888888,
              "#fdca26"
             ],
             [
              1,
              "#f0f921"
             ]
            ],
            "type": "histogram2d"
           }
          ],
          "histogram2dcontour": [
           {
            "colorbar": {
             "outlinewidth": 0,
             "ticks": ""
            },
            "colorscale": [
             [
              0,
              "#0d0887"
             ],
             [
              0.1111111111111111,
              "#46039f"
             ],
             [
              0.2222222222222222,
              "#7201a8"
             ],
             [
              0.3333333333333333,
              "#9c179e"
             ],
             [
              0.4444444444444444,
              "#bd3786"
             ],
             [
              0.5555555555555556,
              "#d8576b"
             ],
             [
              0.6666666666666666,
              "#ed7953"
             ],
             [
              0.7777777777777778,
              "#fb9f3a"
             ],
             [
              0.8888888888888888,
              "#fdca26"
             ],
             [
              1,
              "#f0f921"
             ]
            ],
            "type": "histogram2dcontour"
           }
          ],
          "mesh3d": [
           {
            "colorbar": {
             "outlinewidth": 0,
             "ticks": ""
            },
            "type": "mesh3d"
           }
          ],
          "parcoords": [
           {
            "line": {
             "colorbar": {
              "outlinewidth": 0,
              "ticks": ""
             }
            },
            "type": "parcoords"
           }
          ],
          "pie": [
           {
            "automargin": true,
            "type": "pie"
           }
          ],
          "scatter": [
           {
            "marker": {
             "colorbar": {
              "outlinewidth": 0,
              "ticks": ""
             }
            },
            "type": "scatter"
           }
          ],
          "scatter3d": [
           {
            "line": {
             "colorbar": {
              "outlinewidth": 0,
              "ticks": ""
             }
            },
            "marker": {
             "colorbar": {
              "outlinewidth": 0,
              "ticks": ""
             }
            },
            "type": "scatter3d"
           }
          ],
          "scattercarpet": [
           {
            "marker": {
             "colorbar": {
              "outlinewidth": 0,
              "ticks": ""
             }
            },
            "type": "scattercarpet"
           }
          ],
          "scattergeo": [
           {
            "marker": {
             "colorbar": {
              "outlinewidth": 0,
              "ticks": ""
             }
            },
            "type": "scattergeo"
           }
          ],
          "scattergl": [
           {
            "marker": {
             "colorbar": {
              "outlinewidth": 0,
              "ticks": ""
             }
            },
            "type": "scattergl"
           }
          ],
          "scattermapbox": [
           {
            "marker": {
             "colorbar": {
              "outlinewidth": 0,
              "ticks": ""
             }
            },
            "type": "scattermapbox"
           }
          ],
          "scatterpolar": [
           {
            "marker": {
             "colorbar": {
              "outlinewidth": 0,
              "ticks": ""
             }
            },
            "type": "scatterpolar"
           }
          ],
          "scatterpolargl": [
           {
            "marker": {
             "colorbar": {
              "outlinewidth": 0,
              "ticks": ""
             }
            },
            "type": "scatterpolargl"
           }
          ],
          "scatterternary": [
           {
            "marker": {
             "colorbar": {
              "outlinewidth": 0,
              "ticks": ""
             }
            },
            "type": "scatterternary"
           }
          ],
          "surface": [
           {
            "colorbar": {
             "outlinewidth": 0,
             "ticks": ""
            },
            "colorscale": [
             [
              0,
              "#0d0887"
             ],
             [
              0.1111111111111111,
              "#46039f"
             ],
             [
              0.2222222222222222,
              "#7201a8"
             ],
             [
              0.3333333333333333,
              "#9c179e"
             ],
             [
              0.4444444444444444,
              "#bd3786"
             ],
             [
              0.5555555555555556,
              "#d8576b"
             ],
             [
              0.6666666666666666,
              "#ed7953"
             ],
             [
              0.7777777777777778,
              "#fb9f3a"
             ],
             [
              0.8888888888888888,
              "#fdca26"
             ],
             [
              1,
              "#f0f921"
             ]
            ],
            "type": "surface"
           }
          ],
          "table": [
           {
            "cells": {
             "fill": {
              "color": "#EBF0F8"
             },
             "line": {
              "color": "white"
             }
            },
            "header": {
             "fill": {
              "color": "#C8D4E3"
             },
             "line": {
              "color": "white"
             }
            },
            "type": "table"
           }
          ]
         },
         "layout": {
          "annotationdefaults": {
           "arrowcolor": "#2a3f5f",
           "arrowhead": 0,
           "arrowwidth": 1
          },
          "coloraxis": {
           "colorbar": {
            "outlinewidth": 0,
            "ticks": ""
           }
          },
          "colorscale": {
           "diverging": [
            [
             0,
             "#8e0152"
            ],
            [
             0.1,
             "#c51b7d"
            ],
            [
             0.2,
             "#de77ae"
            ],
            [
             0.3,
             "#f1b6da"
            ],
            [
             0.4,
             "#fde0ef"
            ],
            [
             0.5,
             "#f7f7f7"
            ],
            [
             0.6,
             "#e6f5d0"
            ],
            [
             0.7,
             "#b8e186"
            ],
            [
             0.8,
             "#7fbc41"
            ],
            [
             0.9,
             "#4d9221"
            ],
            [
             1,
             "#276419"
            ]
           ],
           "sequential": [
            [
             0,
             "#0d0887"
            ],
            [
             0.1111111111111111,
             "#46039f"
            ],
            [
             0.2222222222222222,
             "#7201a8"
            ],
            [
             0.3333333333333333,
             "#9c179e"
            ],
            [
             0.4444444444444444,
             "#bd3786"
            ],
            [
             0.5555555555555556,
             "#d8576b"
            ],
            [
             0.6666666666666666,
             "#ed7953"
            ],
            [
             0.7777777777777778,
             "#fb9f3a"
            ],
            [
             0.8888888888888888,
             "#fdca26"
            ],
            [
             1,
             "#f0f921"
            ]
           ],
           "sequentialminus": [
            [
             0,
             "#0d0887"
            ],
            [
             0.1111111111111111,
             "#46039f"
            ],
            [
             0.2222222222222222,
             "#7201a8"
            ],
            [
             0.3333333333333333,
             "#9c179e"
            ],
            [
             0.4444444444444444,
             "#bd3786"
            ],
            [
             0.5555555555555556,
             "#d8576b"
            ],
            [
             0.6666666666666666,
             "#ed7953"
            ],
            [
             0.7777777777777778,
             "#fb9f3a"
            ],
            [
             0.8888888888888888,
             "#fdca26"
            ],
            [
             1,
             "#f0f921"
            ]
           ]
          },
          "colorway": [
           "#636efa",
           "#EF553B",
           "#00cc96",
           "#ab63fa",
           "#FFA15A",
           "#19d3f3",
           "#FF6692",
           "#B6E880",
           "#FF97FF",
           "#FECB52"
          ],
          "font": {
           "color": "#2a3f5f"
          },
          "geo": {
           "bgcolor": "white",
           "lakecolor": "white",
           "landcolor": "#E5ECF6",
           "showlakes": true,
           "showland": true,
           "subunitcolor": "white"
          },
          "hoverlabel": {
           "align": "left"
          },
          "hovermode": "closest",
          "mapbox": {
           "style": "light"
          },
          "paper_bgcolor": "white",
          "plot_bgcolor": "#E5ECF6",
          "polar": {
           "angularaxis": {
            "gridcolor": "white",
            "linecolor": "white",
            "ticks": ""
           },
           "bgcolor": "#E5ECF6",
           "radialaxis": {
            "gridcolor": "white",
            "linecolor": "white",
            "ticks": ""
           }
          },
          "scene": {
           "xaxis": {
            "backgroundcolor": "#E5ECF6",
            "gridcolor": "white",
            "gridwidth": 2,
            "linecolor": "white",
            "showbackground": true,
            "ticks": "",
            "zerolinecolor": "white"
           },
           "yaxis": {
            "backgroundcolor": "#E5ECF6",
            "gridcolor": "white",
            "gridwidth": 2,
            "linecolor": "white",
            "showbackground": true,
            "ticks": "",
            "zerolinecolor": "white"
           },
           "zaxis": {
            "backgroundcolor": "#E5ECF6",
            "gridcolor": "white",
            "gridwidth": 2,
            "linecolor": "white",
            "showbackground": true,
            "ticks": "",
            "zerolinecolor": "white"
           }
          },
          "shapedefaults": {
           "line": {
            "color": "#2a3f5f"
           }
          },
          "ternary": {
           "aaxis": {
            "gridcolor": "white",
            "linecolor": "white",
            "ticks": ""
           },
           "baxis": {
            "gridcolor": "white",
            "linecolor": "white",
            "ticks": ""
           },
           "bgcolor": "#E5ECF6",
           "caxis": {
            "gridcolor": "white",
            "linecolor": "white",
            "ticks": ""
           }
          },
          "title": {
           "x": 0.05
          },
          "xaxis": {
           "automargin": true,
           "gridcolor": "white",
           "linecolor": "white",
           "ticks": "",
           "title": {
            "standoff": 15
           },
           "zerolinecolor": "white",
           "zerolinewidth": 2
          },
          "yaxis": {
           "automargin": true,
           "gridcolor": "white",
           "linecolor": "white",
           "ticks": "",
           "title": {
            "standoff": 15
           },
           "zerolinecolor": "white",
           "zerolinewidth": 2
          }
         }
        },
        "title": {
         "font": {
          "color": "#4D5663"
         }
        },
        "xaxis": {
         "gridcolor": "#E1E5ED",
         "showgrid": true,
         "tickfont": {
          "color": "#4D5663"
         },
         "title": {
          "font": {
           "color": "#4D5663"
          },
          "text": ""
         },
         "zerolinecolor": "#E1E5ED"
        },
        "yaxis": {
         "gridcolor": "#E1E5ED",
         "showgrid": true,
         "tickfont": {
          "color": "#4D5663"
         },
         "title": {
          "font": {
           "color": "#4D5663"
          },
          "text": ""
         },
         "zerolinecolor": "#E1E5ED"
        }
       }
      },
      "text/html": [
       "<div>\n",
       "        \n",
       "        \n",
       "            <div id=\"7bd94682-dceb-4cd5-aba8-76231fe932a7\" class=\"plotly-graph-div\" style=\"height:525px; width:100%;\"></div>\n",
       "            <script type=\"text/javascript\">\n",
       "                require([\"plotly\"], function(Plotly) {\n",
       "                    window.PLOTLYENV=window.PLOTLYENV || {};\n",
       "                    window.PLOTLYENV.BASE_URL='https://plot.ly';\n",
       "                    \n",
       "                if (document.getElementById(\"7bd94682-dceb-4cd5-aba8-76231fe932a7\")) {\n",
       "                    Plotly.newPlot(\n",
       "                        '7bd94682-dceb-4cd5-aba8-76231fe932a7',\n",
       "                        [{\"marker\": {\"color\": \"rgba(255, 153, 51, 0.6)\", \"line\": {\"color\": \"rgba(255, 153, 51, 1.0)\", \"width\": 1}}, \"name\": \"casesReported\", \"orientation\": \"v\", \"text\": \"\", \"type\": \"bar\", \"x\": [\"Alabama\", \"Alaska\", \"American Samoa\", \"Arizona\", \"Arkansas\", \"California\", \"Colorado\", \"Connecticut\", \"Delaware\", \"District of Columbia\", \"Florida\", \"Georgia\", \"Guam\", \"Hawaii\", \"Idaho\", \"Illinois\", \"Indiana\", \"Iowa\", \"Kansas\", \"Kentucky\", \"Louisiana\", \"Maine\", \"Marshall Islands\", \"Maryland\", \"Massachusetts\", \"Michigan\", \"Micronesia\", \"Minnesota\", \"Mississippi\", \"Missouri\", \"Montana\", \"Nebraska\", \"Nevada\", \"New Hampshire\", \"New Jersey\", \"New Mexico\", \"New York\", \"North Carolina\", \"North Dakota\", \"Northern Marianas\", \"Ohio\", \"Oklahoma\", \"Oregon\", \"Palau\", \"Pennsylvania\", \"Puerto Rico\", \"Rhode Island\", \"South Carolina\", \"South Dakota\", \"Tennessee\", \"Texas\", \"Utah\", \"Vermont\", \"Virgin Islands\", \"Virginia\", \"Washington\", \"West Virginia\", \"Wisconsin\", \"Wyoming\"], \"y\": [10413, 381, 0, 11380, 4043, 67939, 19735, 33765, 6741, 6389, 40982, 33995, 152, 582, 2260, 79007, 24627, 12373, 7116, 6677, 31881, 1462, 0, 34061, 78462, 47552, 0, 11799, 9908, 9918, 459, 8572, 6163, 3160, 139945, 5069, 336017, 15045, 1518, 19, 24777, 4439, 3286, 0, 57154, 2256, 11450, 7792, 3614, 15622, 39869, 6395, 926, 69, 25800, 17122, 1369, 10418, 669]}],\n",
       "                        {\"legend\": {\"bgcolor\": \"#F5F6F9\", \"font\": {\"color\": \"#4D5663\"}}, \"paper_bgcolor\": \"#F5F6F9\", \"plot_bgcolor\": \"#F5F6F9\", \"template\": {\"data\": {\"bar\": [{\"error_x\": {\"color\": \"#2a3f5f\"}, \"error_y\": {\"color\": \"#2a3f5f\"}, \"marker\": {\"line\": {\"color\": \"#E5ECF6\", \"width\": 0.5}}, \"type\": \"bar\"}], \"barpolar\": [{\"marker\": {\"line\": {\"color\": \"#E5ECF6\", \"width\": 0.5}}, \"type\": \"barpolar\"}], \"carpet\": [{\"aaxis\": {\"endlinecolor\": \"#2a3f5f\", \"gridcolor\": \"white\", \"linecolor\": \"white\", \"minorgridcolor\": \"white\", \"startlinecolor\": \"#2a3f5f\"}, \"baxis\": {\"endlinecolor\": \"#2a3f5f\", \"gridcolor\": \"white\", \"linecolor\": \"white\", \"minorgridcolor\": \"white\", \"startlinecolor\": \"#2a3f5f\"}, \"type\": \"carpet\"}], \"choropleth\": [{\"colorbar\": {\"outlinewidth\": 0, \"ticks\": \"\"}, \"type\": \"choropleth\"}], \"contour\": [{\"colorbar\": {\"outlinewidth\": 0, \"ticks\": \"\"}, \"colorscale\": [[0.0, \"#0d0887\"], [0.1111111111111111, \"#46039f\"], [0.2222222222222222, \"#7201a8\"], [0.3333333333333333, \"#9c179e\"], [0.4444444444444444, \"#bd3786\"], [0.5555555555555556, \"#d8576b\"], [0.6666666666666666, \"#ed7953\"], [0.7777777777777778, \"#fb9f3a\"], [0.8888888888888888, \"#fdca26\"], [1.0, \"#f0f921\"]], \"type\": \"contour\"}], \"contourcarpet\": [{\"colorbar\": {\"outlinewidth\": 0, \"ticks\": \"\"}, \"type\": \"contourcarpet\"}], \"heatmap\": [{\"colorbar\": {\"outlinewidth\": 0, \"ticks\": \"\"}, \"colorscale\": [[0.0, \"#0d0887\"], [0.1111111111111111, \"#46039f\"], [0.2222222222222222, \"#7201a8\"], [0.3333333333333333, \"#9c179e\"], [0.4444444444444444, \"#bd3786\"], [0.5555555555555556, \"#d8576b\"], [0.6666666666666666, \"#ed7953\"], [0.7777777777777778, \"#fb9f3a\"], [0.8888888888888888, \"#fdca26\"], [1.0, \"#f0f921\"]], \"type\": \"heatmap\"}], \"heatmapgl\": [{\"colorbar\": {\"outlinewidth\": 0, \"ticks\": \"\"}, \"colorscale\": [[0.0, \"#0d0887\"], [0.1111111111111111, \"#46039f\"], [0.2222222222222222, \"#7201a8\"], [0.3333333333333333, \"#9c179e\"], [0.4444444444444444, \"#bd3786\"], [0.5555555555555556, \"#d8576b\"], [0.6666666666666666, \"#ed7953\"], [0.7777777777777778, \"#fb9f3a\"], [0.8888888888888888, \"#fdca26\"], [1.0, \"#f0f921\"]], \"type\": \"heatmapgl\"}], \"histogram\": [{\"marker\": {\"colorbar\": {\"outlinewidth\": 0, \"ticks\": \"\"}}, \"type\": \"histogram\"}], \"histogram2d\": [{\"colorbar\": {\"outlinewidth\": 0, \"ticks\": \"\"}, \"colorscale\": [[0.0, \"#0d0887\"], [0.1111111111111111, \"#46039f\"], [0.2222222222222222, \"#7201a8\"], [0.3333333333333333, \"#9c179e\"], [0.4444444444444444, \"#bd3786\"], [0.5555555555555556, \"#d8576b\"], [0.6666666666666666, \"#ed7953\"], [0.7777777777777778, \"#fb9f3a\"], [0.8888888888888888, \"#fdca26\"], [1.0, \"#f0f921\"]], \"type\": \"histogram2d\"}], \"histogram2dcontour\": [{\"colorbar\": {\"outlinewidth\": 0, \"ticks\": \"\"}, \"colorscale\": [[0.0, \"#0d0887\"], [0.1111111111111111, \"#46039f\"], [0.2222222222222222, \"#7201a8\"], [0.3333333333333333, \"#9c179e\"], [0.4444444444444444, \"#bd3786\"], [0.5555555555555556, \"#d8576b\"], [0.6666666666666666, \"#ed7953\"], [0.7777777777777778, \"#fb9f3a\"], [0.8888888888888888, \"#fdca26\"], [1.0, \"#f0f921\"]], \"type\": \"histogram2dcontour\"}], \"mesh3d\": [{\"colorbar\": {\"outlinewidth\": 0, \"ticks\": \"\"}, \"type\": \"mesh3d\"}], \"parcoords\": [{\"line\": {\"colorbar\": {\"outlinewidth\": 0, \"ticks\": \"\"}}, \"type\": \"parcoords\"}], \"pie\": [{\"automargin\": true, \"type\": \"pie\"}], \"scatter\": [{\"marker\": {\"colorbar\": {\"outlinewidth\": 0, \"ticks\": \"\"}}, \"type\": \"scatter\"}], \"scatter3d\": [{\"line\": {\"colorbar\": {\"outlinewidth\": 0, \"ticks\": \"\"}}, \"marker\": {\"colorbar\": {\"outlinewidth\": 0, \"ticks\": \"\"}}, \"type\": \"scatter3d\"}], \"scattercarpet\": [{\"marker\": {\"colorbar\": {\"outlinewidth\": 0, \"ticks\": \"\"}}, \"type\": \"scattercarpet\"}], \"scattergeo\": [{\"marker\": {\"colorbar\": {\"outlinewidth\": 0, \"ticks\": \"\"}}, \"type\": \"scattergeo\"}], \"scattergl\": [{\"marker\": {\"colorbar\": {\"outlinewidth\": 0, \"ticks\": \"\"}}, \"type\": \"scattergl\"}], \"scattermapbox\": [{\"marker\": {\"colorbar\": {\"outlinewidth\": 0, \"ticks\": \"\"}}, \"type\": \"scattermapbox\"}], \"scatterpolar\": [{\"marker\": {\"colorbar\": {\"outlinewidth\": 0, \"ticks\": \"\"}}, \"type\": \"scatterpolar\"}], \"scatterpolargl\": [{\"marker\": {\"colorbar\": {\"outlinewidth\": 0, \"ticks\": \"\"}}, \"type\": \"scatterpolargl\"}], \"scatterternary\": [{\"marker\": {\"colorbar\": {\"outlinewidth\": 0, \"ticks\": \"\"}}, \"type\": \"scatterternary\"}], \"surface\": [{\"colorbar\": {\"outlinewidth\": 0, \"ticks\": \"\"}, \"colorscale\": [[0.0, \"#0d0887\"], [0.1111111111111111, \"#46039f\"], [0.2222222222222222, \"#7201a8\"], [0.3333333333333333, \"#9c179e\"], [0.4444444444444444, \"#bd3786\"], [0.5555555555555556, \"#d8576b\"], [0.6666666666666666, \"#ed7953\"], [0.7777777777777778, \"#fb9f3a\"], [0.8888888888888888, \"#fdca26\"], [1.0, \"#f0f921\"]], \"type\": \"surface\"}], \"table\": [{\"cells\": {\"fill\": {\"color\": \"#EBF0F8\"}, \"line\": {\"color\": \"white\"}}, \"header\": {\"fill\": {\"color\": \"#C8D4E3\"}, \"line\": {\"color\": \"white\"}}, \"type\": \"table\"}]}, \"layout\": {\"annotationdefaults\": {\"arrowcolor\": \"#2a3f5f\", \"arrowhead\": 0, \"arrowwidth\": 1}, \"coloraxis\": {\"colorbar\": {\"outlinewidth\": 0, \"ticks\": \"\"}}, \"colorscale\": {\"diverging\": [[0, \"#8e0152\"], [0.1, \"#c51b7d\"], [0.2, \"#de77ae\"], [0.3, \"#f1b6da\"], [0.4, \"#fde0ef\"], [0.5, \"#f7f7f7\"], [0.6, \"#e6f5d0\"], [0.7, \"#b8e186\"], [0.8, \"#7fbc41\"], [0.9, \"#4d9221\"], [1, \"#276419\"]], \"sequential\": [[0.0, \"#0d0887\"], [0.1111111111111111, \"#46039f\"], [0.2222222222222222, \"#7201a8\"], [0.3333333333333333, \"#9c179e\"], [0.4444444444444444, \"#bd3786\"], [0.5555555555555556, \"#d8576b\"], [0.6666666666666666, \"#ed7953\"], [0.7777777777777778, \"#fb9f3a\"], [0.8888888888888888, \"#fdca26\"], [1.0, \"#f0f921\"]], \"sequentialminus\": [[0.0, \"#0d0887\"], [0.1111111111111111, \"#46039f\"], [0.2222222222222222, \"#7201a8\"], [0.3333333333333333, \"#9c179e\"], [0.4444444444444444, \"#bd3786\"], [0.5555555555555556, \"#d8576b\"], [0.6666666666666666, \"#ed7953\"], [0.7777777777777778, \"#fb9f3a\"], [0.8888888888888888, \"#fdca26\"], [1.0, \"#f0f921\"]]}, \"colorway\": [\"#636efa\", \"#EF553B\", \"#00cc96\", \"#ab63fa\", \"#FFA15A\", \"#19d3f3\", \"#FF6692\", \"#B6E880\", \"#FF97FF\", \"#FECB52\"], \"font\": {\"color\": \"#2a3f5f\"}, \"geo\": {\"bgcolor\": \"white\", \"lakecolor\": \"white\", \"landcolor\": \"#E5ECF6\", \"showlakes\": true, \"showland\": true, \"subunitcolor\": \"white\"}, \"hoverlabel\": {\"align\": \"left\"}, \"hovermode\": \"closest\", \"mapbox\": {\"style\": \"light\"}, \"paper_bgcolor\": \"white\", \"plot_bgcolor\": \"#E5ECF6\", \"polar\": {\"angularaxis\": {\"gridcolor\": \"white\", \"linecolor\": \"white\", \"ticks\": \"\"}, \"bgcolor\": \"#E5ECF6\", \"radialaxis\": {\"gridcolor\": \"white\", \"linecolor\": \"white\", \"ticks\": \"\"}}, \"scene\": {\"xaxis\": {\"backgroundcolor\": \"#E5ECF6\", \"gridcolor\": \"white\", \"gridwidth\": 2, \"linecolor\": \"white\", \"showbackground\": true, \"ticks\": \"\", \"zerolinecolor\": \"white\"}, \"yaxis\": {\"backgroundcolor\": \"#E5ECF6\", \"gridcolor\": \"white\", \"gridwidth\": 2, \"linecolor\": \"white\", \"showbackground\": true, \"ticks\": \"\", \"zerolinecolor\": \"white\"}, \"zaxis\": {\"backgroundcolor\": \"#E5ECF6\", \"gridcolor\": \"white\", \"gridwidth\": 2, \"linecolor\": \"white\", \"showbackground\": true, \"ticks\": \"\", \"zerolinecolor\": \"white\"}}, \"shapedefaults\": {\"line\": {\"color\": \"#2a3f5f\"}}, \"ternary\": {\"aaxis\": {\"gridcolor\": \"white\", \"linecolor\": \"white\", \"ticks\": \"\"}, \"baxis\": {\"gridcolor\": \"white\", \"linecolor\": \"white\", \"ticks\": \"\"}, \"bgcolor\": \"#E5ECF6\", \"caxis\": {\"gridcolor\": \"white\", \"linecolor\": \"white\", \"ticks\": \"\"}}, \"title\": {\"x\": 0.05}, \"xaxis\": {\"automargin\": true, \"gridcolor\": \"white\", \"linecolor\": \"white\", \"ticks\": \"\", \"title\": {\"standoff\": 15}, \"zerolinecolor\": \"white\", \"zerolinewidth\": 2}, \"yaxis\": {\"automargin\": true, \"gridcolor\": \"white\", \"linecolor\": \"white\", \"ticks\": \"\", \"title\": {\"standoff\": 15}, \"zerolinecolor\": \"white\", \"zerolinewidth\": 2}}}, \"title\": {\"font\": {\"color\": \"#4D5663\"}}, \"xaxis\": {\"gridcolor\": \"#E1E5ED\", \"showgrid\": true, \"tickfont\": {\"color\": \"#4D5663\"}, \"title\": {\"font\": {\"color\": \"#4D5663\"}, \"text\": \"\"}, \"zerolinecolor\": \"#E1E5ED\"}, \"yaxis\": {\"gridcolor\": \"#E1E5ED\", \"showgrid\": true, \"tickfont\": {\"color\": \"#4D5663\"}, \"title\": {\"font\": {\"color\": \"#4D5663\"}, \"text\": \"\"}, \"zerolinecolor\": \"#E1E5ED\"}},\n",
       "                        {\"showLink\": true, \"linkText\": \"Export to plot.ly\", \"plotlyServerURL\": \"https://plot.ly\", \"responsive\": true}\n",
       "                    ).then(function(){\n",
       "                            \n",
       "var gd = document.getElementById('7bd94682-dceb-4cd5-aba8-76231fe932a7');\n",
       "var x = new MutationObserver(function (mutations, observer) {{\n",
       "        var display = window.getComputedStyle(gd).display;\n",
       "        if (!display || display === 'none') {{\n",
       "            console.log([gd, 'removed!']);\n",
       "            Plotly.purge(gd);\n",
       "            observer.disconnect();\n",
       "        }}\n",
       "}});\n",
       "\n",
       "// Listen for the removal of the full notebook cells\n",
       "var notebookContainer = gd.closest('#notebook-container');\n",
       "if (notebookContainer) {{\n",
       "    x.observe(notebookContainer, {childList: true});\n",
       "}}\n",
       "\n",
       "// Listen for the clearing of the current output cell\n",
       "var outputEl = gd.closest('.output');\n",
       "if (outputEl) {{\n",
       "    x.observe(outputEl, {childList: true});\n",
       "}}\n",
       "\n",
       "                        })\n",
       "                };\n",
       "                });\n",
       "            </script>\n",
       "        </div>"
      ]
     },
     "metadata": {},
     "output_type": "display_data"
    }
   ],
   "source": [
    "covid_us.iplot(kind='bar',x='name',y='casesReported')"
   ]
  },
  {
   "cell_type": "code",
   "execution_count": null,
   "metadata": {},
   "outputs": [],
   "source": []
  }
 ],
 "metadata": {
  "kernelspec": {
   "display_name": "Python 3",
   "language": "python",
   "name": "python3"
  },
  "language_info": {
   "codemirror_mode": {
    "name": "ipython",
    "version": 3
   },
   "file_extension": ".py",
   "mimetype": "text/x-python",
   "name": "python",
   "nbconvert_exporter": "python",
   "pygments_lexer": "ipython3",
   "version": "3.7.7"
  }
 },
 "nbformat": 4,
 "nbformat_minor": 4
}
